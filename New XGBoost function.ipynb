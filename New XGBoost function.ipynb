{
 "cells": [
  {
   "cell_type": "code",
   "execution_count": 1,
   "metadata": {},
   "outputs": [],
   "source": [
    "import pandas as np\n",
    "import numpy as np"
   ]
  },
  {
   "cell_type": "code",
   "execution_count": 2,
   "metadata": {},
   "outputs": [],
   "source": [
    "import xgboost as xgb\n",
    "from xgboost.sklearn import XGBClassifier"
   ]
  },
  {
   "cell_type": "code",
   "execution_count": 5,
   "metadata": {},
   "outputs": [],
   "source": [
    "from sklearn import metrics"
   ]
  },
  {
   "cell_type": "code",
   "execution_count": 6,
   "metadata": {},
   "outputs": [],
   "source": [
    "from sklearn.model_selection import GridSearchCV"
   ]
  },
  {
   "cell_type": "code",
   "execution_count": 7,
   "metadata": {},
   "outputs": [],
   "source": [
    "import matplotlib.pyplot as plt\n",
    "%matplotlib inline\n",
    "\n",
    "import seaborn as sns"
   ]
  },
  {
   "cell_type": "code",
   "execution_count": 10,
   "metadata": {},
   "outputs": [
    {
     "data": {
      "text/plain": [
       "{'data': array([[5.1, 3.5, 1.4, 0.2],\n",
       "        [4.9, 3. , 1.4, 0.2],\n",
       "        [4.7, 3.2, 1.3, 0.2],\n",
       "        [4.6, 3.1, 1.5, 0.2],\n",
       "        [5. , 3.6, 1.4, 0.2],\n",
       "        [5.4, 3.9, 1.7, 0.4],\n",
       "        [4.6, 3.4, 1.4, 0.3],\n",
       "        [5. , 3.4, 1.5, 0.2],\n",
       "        [4.4, 2.9, 1.4, 0.2],\n",
       "        [4.9, 3.1, 1.5, 0.1],\n",
       "        [5.4, 3.7, 1.5, 0.2],\n",
       "        [4.8, 3.4, 1.6, 0.2],\n",
       "        [4.8, 3. , 1.4, 0.1],\n",
       "        [4.3, 3. , 1.1, 0.1],\n",
       "        [5.8, 4. , 1.2, 0.2],\n",
       "        [5.7, 4.4, 1.5, 0.4],\n",
       "        [5.4, 3.9, 1.3, 0.4],\n",
       "        [5.1, 3.5, 1.4, 0.3],\n",
       "        [5.7, 3.8, 1.7, 0.3],\n",
       "        [5.1, 3.8, 1.5, 0.3],\n",
       "        [5.4, 3.4, 1.7, 0.2],\n",
       "        [5.1, 3.7, 1.5, 0.4],\n",
       "        [4.6, 3.6, 1. , 0.2],\n",
       "        [5.1, 3.3, 1.7, 0.5],\n",
       "        [4.8, 3.4, 1.9, 0.2],\n",
       "        [5. , 3. , 1.6, 0.2],\n",
       "        [5. , 3.4, 1.6, 0.4],\n",
       "        [5.2, 3.5, 1.5, 0.2],\n",
       "        [5.2, 3.4, 1.4, 0.2],\n",
       "        [4.7, 3.2, 1.6, 0.2],\n",
       "        [4.8, 3.1, 1.6, 0.2],\n",
       "        [5.4, 3.4, 1.5, 0.4],\n",
       "        [5.2, 4.1, 1.5, 0.1],\n",
       "        [5.5, 4.2, 1.4, 0.2],\n",
       "        [4.9, 3.1, 1.5, 0.2],\n",
       "        [5. , 3.2, 1.2, 0.2],\n",
       "        [5.5, 3.5, 1.3, 0.2],\n",
       "        [4.9, 3.6, 1.4, 0.1],\n",
       "        [4.4, 3. , 1.3, 0.2],\n",
       "        [5.1, 3.4, 1.5, 0.2],\n",
       "        [5. , 3.5, 1.3, 0.3],\n",
       "        [4.5, 2.3, 1.3, 0.3],\n",
       "        [4.4, 3.2, 1.3, 0.2],\n",
       "        [5. , 3.5, 1.6, 0.6],\n",
       "        [5.1, 3.8, 1.9, 0.4],\n",
       "        [4.8, 3. , 1.4, 0.3],\n",
       "        [5.1, 3.8, 1.6, 0.2],\n",
       "        [4.6, 3.2, 1.4, 0.2],\n",
       "        [5.3, 3.7, 1.5, 0.2],\n",
       "        [5. , 3.3, 1.4, 0.2],\n",
       "        [7. , 3.2, 4.7, 1.4],\n",
       "        [6.4, 3.2, 4.5, 1.5],\n",
       "        [6.9, 3.1, 4.9, 1.5],\n",
       "        [5.5, 2.3, 4. , 1.3],\n",
       "        [6.5, 2.8, 4.6, 1.5],\n",
       "        [5.7, 2.8, 4.5, 1.3],\n",
       "        [6.3, 3.3, 4.7, 1.6],\n",
       "        [4.9, 2.4, 3.3, 1. ],\n",
       "        [6.6, 2.9, 4.6, 1.3],\n",
       "        [5.2, 2.7, 3.9, 1.4],\n",
       "        [5. , 2. , 3.5, 1. ],\n",
       "        [5.9, 3. , 4.2, 1.5],\n",
       "        [6. , 2.2, 4. , 1. ],\n",
       "        [6.1, 2.9, 4.7, 1.4],\n",
       "        [5.6, 2.9, 3.6, 1.3],\n",
       "        [6.7, 3.1, 4.4, 1.4],\n",
       "        [5.6, 3. , 4.5, 1.5],\n",
       "        [5.8, 2.7, 4.1, 1. ],\n",
       "        [6.2, 2.2, 4.5, 1.5],\n",
       "        [5.6, 2.5, 3.9, 1.1],\n",
       "        [5.9, 3.2, 4.8, 1.8],\n",
       "        [6.1, 2.8, 4. , 1.3],\n",
       "        [6.3, 2.5, 4.9, 1.5],\n",
       "        [6.1, 2.8, 4.7, 1.2],\n",
       "        [6.4, 2.9, 4.3, 1.3],\n",
       "        [6.6, 3. , 4.4, 1.4],\n",
       "        [6.8, 2.8, 4.8, 1.4],\n",
       "        [6.7, 3. , 5. , 1.7],\n",
       "        [6. , 2.9, 4.5, 1.5],\n",
       "        [5.7, 2.6, 3.5, 1. ],\n",
       "        [5.5, 2.4, 3.8, 1.1],\n",
       "        [5.5, 2.4, 3.7, 1. ],\n",
       "        [5.8, 2.7, 3.9, 1.2],\n",
       "        [6. , 2.7, 5.1, 1.6],\n",
       "        [5.4, 3. , 4.5, 1.5],\n",
       "        [6. , 3.4, 4.5, 1.6],\n",
       "        [6.7, 3.1, 4.7, 1.5],\n",
       "        [6.3, 2.3, 4.4, 1.3],\n",
       "        [5.6, 3. , 4.1, 1.3],\n",
       "        [5.5, 2.5, 4. , 1.3],\n",
       "        [5.5, 2.6, 4.4, 1.2],\n",
       "        [6.1, 3. , 4.6, 1.4],\n",
       "        [5.8, 2.6, 4. , 1.2],\n",
       "        [5. , 2.3, 3.3, 1. ],\n",
       "        [5.6, 2.7, 4.2, 1.3],\n",
       "        [5.7, 3. , 4.2, 1.2],\n",
       "        [5.7, 2.9, 4.2, 1.3],\n",
       "        [6.2, 2.9, 4.3, 1.3],\n",
       "        [5.1, 2.5, 3. , 1.1],\n",
       "        [5.7, 2.8, 4.1, 1.3],\n",
       "        [6.3, 3.3, 6. , 2.5],\n",
       "        [5.8, 2.7, 5.1, 1.9],\n",
       "        [7.1, 3. , 5.9, 2.1],\n",
       "        [6.3, 2.9, 5.6, 1.8],\n",
       "        [6.5, 3. , 5.8, 2.2],\n",
       "        [7.6, 3. , 6.6, 2.1],\n",
       "        [4.9, 2.5, 4.5, 1.7],\n",
       "        [7.3, 2.9, 6.3, 1.8],\n",
       "        [6.7, 2.5, 5.8, 1.8],\n",
       "        [7.2, 3.6, 6.1, 2.5],\n",
       "        [6.5, 3.2, 5.1, 2. ],\n",
       "        [6.4, 2.7, 5.3, 1.9],\n",
       "        [6.8, 3. , 5.5, 2.1],\n",
       "        [5.7, 2.5, 5. , 2. ],\n",
       "        [5.8, 2.8, 5.1, 2.4],\n",
       "        [6.4, 3.2, 5.3, 2.3],\n",
       "        [6.5, 3. , 5.5, 1.8],\n",
       "        [7.7, 3.8, 6.7, 2.2],\n",
       "        [7.7, 2.6, 6.9, 2.3],\n",
       "        [6. , 2.2, 5. , 1.5],\n",
       "        [6.9, 3.2, 5.7, 2.3],\n",
       "        [5.6, 2.8, 4.9, 2. ],\n",
       "        [7.7, 2.8, 6.7, 2. ],\n",
       "        [6.3, 2.7, 4.9, 1.8],\n",
       "        [6.7, 3.3, 5.7, 2.1],\n",
       "        [7.2, 3.2, 6. , 1.8],\n",
       "        [6.2, 2.8, 4.8, 1.8],\n",
       "        [6.1, 3. , 4.9, 1.8],\n",
       "        [6.4, 2.8, 5.6, 2.1],\n",
       "        [7.2, 3. , 5.8, 1.6],\n",
       "        [7.4, 2.8, 6.1, 1.9],\n",
       "        [7.9, 3.8, 6.4, 2. ],\n",
       "        [6.4, 2.8, 5.6, 2.2],\n",
       "        [6.3, 2.8, 5.1, 1.5],\n",
       "        [6.1, 2.6, 5.6, 1.4],\n",
       "        [7.7, 3. , 6.1, 2.3],\n",
       "        [6.3, 3.4, 5.6, 2.4],\n",
       "        [6.4, 3.1, 5.5, 1.8],\n",
       "        [6. , 3. , 4.8, 1.8],\n",
       "        [6.9, 3.1, 5.4, 2.1],\n",
       "        [6.7, 3.1, 5.6, 2.4],\n",
       "        [6.9, 3.1, 5.1, 2.3],\n",
       "        [5.8, 2.7, 5.1, 1.9],\n",
       "        [6.8, 3.2, 5.9, 2.3],\n",
       "        [6.7, 3.3, 5.7, 2.5],\n",
       "        [6.7, 3. , 5.2, 2.3],\n",
       "        [6.3, 2.5, 5. , 1.9],\n",
       "        [6.5, 3. , 5.2, 2. ],\n",
       "        [6.2, 3.4, 5.4, 2.3],\n",
       "        [5.9, 3. , 5.1, 1.8]]),\n",
       " 'target': array([0, 0, 0, 0, 0, 0, 0, 0, 0, 0, 0, 0, 0, 0, 0, 0, 0, 0, 0, 0, 0, 0,\n",
       "        0, 0, 0, 0, 0, 0, 0, 0, 0, 0, 0, 0, 0, 0, 0, 0, 0, 0, 0, 0, 0, 0,\n",
       "        0, 0, 0, 0, 0, 0, 1, 1, 1, 1, 1, 1, 1, 1, 1, 1, 1, 1, 1, 1, 1, 1,\n",
       "        1, 1, 1, 1, 1, 1, 1, 1, 1, 1, 1, 1, 1, 1, 1, 1, 1, 1, 1, 1, 1, 1,\n",
       "        1, 1, 1, 1, 1, 1, 1, 1, 1, 1, 1, 1, 2, 2, 2, 2, 2, 2, 2, 2, 2, 2,\n",
       "        2, 2, 2, 2, 2, 2, 2, 2, 2, 2, 2, 2, 2, 2, 2, 2, 2, 2, 2, 2, 2, 2,\n",
       "        2, 2, 2, 2, 2, 2, 2, 2, 2, 2, 2, 2, 2, 2, 2, 2, 2, 2]),\n",
       " 'target_names': array(['setosa', 'versicolor', 'virginica'], dtype='<U10'),\n",
       " 'DESCR': '.. _iris_dataset:\\n\\nIris plants dataset\\n--------------------\\n\\n**Data Set Characteristics:**\\n\\n    :Number of Instances: 150 (50 in each of three classes)\\n    :Number of Attributes: 4 numeric, predictive attributes and the class\\n    :Attribute Information:\\n        - sepal length in cm\\n        - sepal width in cm\\n        - petal length in cm\\n        - petal width in cm\\n        - class:\\n                - Iris-Setosa\\n                - Iris-Versicolour\\n                - Iris-Virginica\\n                \\n    :Summary Statistics:\\n\\n    ============== ==== ==== ======= ===== ====================\\n                    Min  Max   Mean    SD   Class Correlation\\n    ============== ==== ==== ======= ===== ====================\\n    sepal length:   4.3  7.9   5.84   0.83    0.7826\\n    sepal width:    2.0  4.4   3.05   0.43   -0.4194\\n    petal length:   1.0  6.9   3.76   1.76    0.9490  (high!)\\n    petal width:    0.1  2.5   1.20   0.76    0.9565  (high!)\\n    ============== ==== ==== ======= ===== ====================\\n\\n    :Missing Attribute Values: None\\n    :Class Distribution: 33.3% for each of 3 classes.\\n    :Creator: R.A. Fisher\\n    :Donor: Michael Marshall (MARSHALL%PLU@io.arc.nasa.gov)\\n    :Date: July, 1988\\n\\nThe famous Iris database, first used by Sir R.A. Fisher. The dataset is taken\\nfrom Fisher\\'s paper. Note that it\\'s the same as in R, but not as in the UCI\\nMachine Learning Repository, which has two wrong data points.\\n\\nThis is perhaps the best known database to be found in the\\npattern recognition literature.  Fisher\\'s paper is a classic in the field and\\nis referenced frequently to this day.  (See Duda & Hart, for example.)  The\\ndata set contains 3 classes of 50 instances each, where each class refers to a\\ntype of iris plant.  One class is linearly separable from the other 2; the\\nlatter are NOT linearly separable from each other.\\n\\n.. topic:: References\\n\\n   - Fisher, R.A. \"The use of multiple measurements in taxonomic problems\"\\n     Annual Eugenics, 7, Part II, 179-188 (1936); also in \"Contributions to\\n     Mathematical Statistics\" (John Wiley, NY, 1950).\\n   - Duda, R.O., & Hart, P.E. (1973) Pattern Classification and Scene Analysis.\\n     (Q327.D83) John Wiley & Sons.  ISBN 0-471-22361-1.  See page 218.\\n   - Dasarathy, B.V. (1980) \"Nosing Around the Neighborhood: A New System\\n     Structure and Classification Rule for Recognition in Partially Exposed\\n     Environments\".  IEEE Transactions on Pattern Analysis and Machine\\n     Intelligence, Vol. PAMI-2, No. 1, 67-71.\\n   - Gates, G.W. (1972) \"The Reduced Nearest Neighbor Rule\".  IEEE Transactions\\n     on Information Theory, May 1972, 431-433.\\n   - See also: 1988 MLC Proceedings, 54-64.  Cheeseman et al\"s AUTOCLASS II\\n     conceptual clustering system finds 3 classes in the data.\\n   - Many, many more ...',\n",
       " 'feature_names': ['sepal length (cm)',\n",
       "  'sepal width (cm)',\n",
       "  'petal length (cm)',\n",
       "  'petal width (cm)'],\n",
       " 'filename': 'C:\\\\Users\\\\LUY1\\\\AppData\\\\Local\\\\Continuum\\\\anaconda3\\\\lib\\\\site-packages\\\\sklearn\\\\datasets\\\\data\\\\iris.csv'}"
      ]
     },
     "execution_count": 10,
     "metadata": {},
     "output_type": "execute_result"
    }
   ],
   "source": [
    "from sklearn.datasets import load_iris\n",
    "\n",
    "data = load_iris()\n",
    "data"
   ]
  },
  {
   "cell_type": "code",
   "execution_count": 11,
   "metadata": {},
   "outputs": [],
   "source": [
    "X = data.data\n",
    "y = data.target"
   ]
  },
  {
   "cell_type": "code",
   "execution_count": 12,
   "metadata": {},
   "outputs": [],
   "source": [
    "from sklearn.model_selection import train_test_split\n",
    "\n",
    "X_train, X_test, y_train, y_test = train_test_split(X, y, test_size = 0.2, random_state = 123)"
   ]
  },
  {
   "cell_type": "code",
   "execution_count": 13,
   "metadata": {},
   "outputs": [
    {
     "name": "stdout",
     "output_type": "stream",
     "text": [
      "(120, 4)\n",
      "(30, 4)\n",
      "120\n",
      "30\n"
     ]
    }
   ],
   "source": [
    "print(X_train.shape)\n",
    "print(X_test.shape)\n",
    "\n",
    "print(len(y_train))\n",
    "print(len(y_test))"
   ]
  },
  {
   "cell_type": "code",
   "execution_count": 14,
   "metadata": {},
   "outputs": [],
   "source": [
    "#http://qaru.site/questions/13588385/gridsearchcv-and-xgbclassifier-with-evalmetric-mlogloss"
   ]
  },
  {
   "cell_type": "code",
   "execution_count": 16,
   "metadata": {},
   "outputs": [],
   "source": [
    "from xgboost import XGBClassifier\n",
    "#from sklearn.grid_search import GridSearchCV\n",
    "from sklearn import metrics"
   ]
  },
  {
   "cell_type": "code",
   "execution_count": 17,
   "metadata": {},
   "outputs": [],
   "source": [
    "tuned_params = {'learning_rate': [0.4,0.5],\n",
    "               'max_depth': [6,7]}"
   ]
  },
  {
   "cell_type": "code",
   "execution_count": 18,
   "metadata": {},
   "outputs": [],
   "source": [
    "fit_params = {'eval_set': [(X_test, y_test)],\n",
    "             'eval_metric': 'mlogloss',\n",
    "             'early_stopping_rounds': 100,\n",
    "             'verbose': True}"
   ]
  },
  {
   "cell_type": "code",
   "execution_count": 19,
   "metadata": {},
   "outputs": [],
   "source": [
    "def _score_func(estimator, X, y):\n",
    "    score1 = metrics.log_loss(y, estimator.predict_proba(X, ntree_limit = estimator.best_ntree_limit),\n",
    "                             labels = [0,1,2])\n",
    "    return -score1"
   ]
  },
  {
   "cell_type": "code",
   "execution_count": 20,
   "metadata": {},
   "outputs": [],
   "source": [
    "mod = XGBClassifier(objective = 'multi:softprob',\n",
    "                   seed = 123,\n",
    "                   n_estimator = 10000)"
   ]
  },
  {
   "cell_type": "code",
   "execution_count": 21,
   "metadata": {},
   "outputs": [],
   "source": [
    "grid1 = GridSearchCV(estimator = mod,\n",
    "                    param_grid = tuned_params,\n",
    "                    fit_params = fit_params,\n",
    "                    scoring = _score_func,\n",
    "                    cv = 3,\n",
    "                    n_jobs = -1)"
   ]
  },
  {
   "cell_type": "code",
   "execution_count": 22,
   "metadata": {},
   "outputs": [
    {
     "name": "stderr",
     "output_type": "stream",
     "text": [
      "C:\\Users\\LUY1\\AppData\\Local\\Continuum\\anaconda3\\lib\\site-packages\\sklearn\\model_selection\\_search.py:643: DeprecationWarning: \"fit_params\" as a constructor argument was deprecated in version 0.19 and will be removed in version 0.21. Pass fit parameters to the \"fit\" method instead.\n",
      "  '\"fit\" method instead.', DeprecationWarning)\n"
     ]
    },
    {
     "name": "stdout",
     "output_type": "stream",
     "text": [
      "[0]\tvalidation_0-mlogloss:0.64519\n",
      "Will train until validation_0-mlogloss hasn't improved in 100 rounds.\n",
      "[1]\tvalidation_0-mlogloss:0.423917\n",
      "[2]\tvalidation_0-mlogloss:0.292632\n",
      "[3]\tvalidation_0-mlogloss:0.211596\n",
      "[4]\tvalidation_0-mlogloss:0.165144\n",
      "[5]\tvalidation_0-mlogloss:0.130986\n",
      "[6]\tvalidation_0-mlogloss:0.106982\n",
      "[7]\tvalidation_0-mlogloss:0.10124\n",
      "[8]\tvalidation_0-mlogloss:0.100764\n",
      "[9]\tvalidation_0-mlogloss:0.100921\n",
      "[10]\tvalidation_0-mlogloss:0.100025\n",
      "[11]\tvalidation_0-mlogloss:0.102453\n",
      "[12]\tvalidation_0-mlogloss:0.102454\n",
      "[13]\tvalidation_0-mlogloss:0.096618\n",
      "[14]\tvalidation_0-mlogloss:0.097506\n",
      "[15]\tvalidation_0-mlogloss:0.095252\n",
      "[16]\tvalidation_0-mlogloss:0.09629\n",
      "[17]\tvalidation_0-mlogloss:0.096262\n",
      "[18]\tvalidation_0-mlogloss:0.095489\n",
      "[19]\tvalidation_0-mlogloss:0.095221\n",
      "[20]\tvalidation_0-mlogloss:0.095474\n",
      "[21]\tvalidation_0-mlogloss:0.095537\n",
      "[22]\tvalidation_0-mlogloss:0.094749\n",
      "[23]\tvalidation_0-mlogloss:0.094185\n",
      "[24]\tvalidation_0-mlogloss:0.098004\n",
      "[25]\tvalidation_0-mlogloss:0.098723\n",
      "[26]\tvalidation_0-mlogloss:0.100236\n",
      "[27]\tvalidation_0-mlogloss:0.099451\n",
      "[28]\tvalidation_0-mlogloss:0.100298\n",
      "[29]\tvalidation_0-mlogloss:0.09874\n",
      "[30]\tvalidation_0-mlogloss:0.099707\n",
      "[31]\tvalidation_0-mlogloss:0.099697\n",
      "[32]\tvalidation_0-mlogloss:0.09892\n",
      "[33]\tvalidation_0-mlogloss:0.101165\n",
      "[34]\tvalidation_0-mlogloss:0.100447\n",
      "[35]\tvalidation_0-mlogloss:0.101852\n",
      "[36]\tvalidation_0-mlogloss:0.103548\n",
      "[37]\tvalidation_0-mlogloss:0.102713\n",
      "[38]\tvalidation_0-mlogloss:0.104813\n",
      "[39]\tvalidation_0-mlogloss:0.104319\n",
      "[40]\tvalidation_0-mlogloss:0.104532\n",
      "[41]\tvalidation_0-mlogloss:0.103758\n"
     ]
    },
    {
     "name": "stderr",
     "output_type": "stream",
     "text": [
      "C:\\Users\\LUY1\\AppData\\Local\\Continuum\\anaconda3\\lib\\site-packages\\sklearn\\model_selection\\_search.py:841: DeprecationWarning: The default of the `iid` parameter will change from True to False in version 0.22 and will be removed in 0.24. This will change numeric results when test-set sizes are unequal.\n",
      "  DeprecationWarning)\n"
     ]
    },
    {
     "name": "stdout",
     "output_type": "stream",
     "text": [
      "[42]\tvalidation_0-mlogloss:0.105742\n",
      "[43]\tvalidation_0-mlogloss:0.105084\n",
      "[44]\tvalidation_0-mlogloss:0.106682\n",
      "[45]\tvalidation_0-mlogloss:0.104823\n",
      "[46]\tvalidation_0-mlogloss:0.106723\n",
      "[47]\tvalidation_0-mlogloss:0.105974\n",
      "[48]\tvalidation_0-mlogloss:0.1075\n",
      "[49]\tvalidation_0-mlogloss:0.107575\n",
      "[50]\tvalidation_0-mlogloss:0.106996\n",
      "[51]\tvalidation_0-mlogloss:0.108712\n",
      "[52]\tvalidation_0-mlogloss:0.10799\n",
      "[53]\tvalidation_0-mlogloss:0.109218\n",
      "[54]\tvalidation_0-mlogloss:0.109252\n",
      "[55]\tvalidation_0-mlogloss:0.108717\n",
      "[56]\tvalidation_0-mlogloss:0.109932\n",
      "[57]\tvalidation_0-mlogloss:0.109562\n",
      "[58]\tvalidation_0-mlogloss:0.110743\n",
      "[59]\tvalidation_0-mlogloss:0.11008\n",
      "[60]\tvalidation_0-mlogloss:0.111763\n",
      "[61]\tvalidation_0-mlogloss:0.111282\n",
      "[62]\tvalidation_0-mlogloss:0.112491\n",
      "[63]\tvalidation_0-mlogloss:0.11089\n",
      "[64]\tvalidation_0-mlogloss:0.112324\n",
      "[65]\tvalidation_0-mlogloss:0.113502\n",
      "[66]\tvalidation_0-mlogloss:0.113011\n",
      "[67]\tvalidation_0-mlogloss:0.11415\n",
      "[68]\tvalidation_0-mlogloss:0.113668\n",
      "[69]\tvalidation_0-mlogloss:0.115274\n",
      "[70]\tvalidation_0-mlogloss:0.113764\n",
      "[71]\tvalidation_0-mlogloss:0.114865\n",
      "[72]\tvalidation_0-mlogloss:0.114616\n",
      "[73]\tvalidation_0-mlogloss:0.115684\n",
      "[74]\tvalidation_0-mlogloss:0.11543\n",
      "[75]\tvalidation_0-mlogloss:0.115419\n",
      "[76]\tvalidation_0-mlogloss:0.115407\n",
      "[77]\tvalidation_0-mlogloss:0.116308\n",
      "[78]\tvalidation_0-mlogloss:0.115042\n",
      "[79]\tvalidation_0-mlogloss:0.116086\n",
      "[80]\tvalidation_0-mlogloss:0.11596\n",
      "[81]\tvalidation_0-mlogloss:0.116979\n",
      "[82]\tvalidation_0-mlogloss:0.116842\n",
      "[83]\tvalidation_0-mlogloss:0.117827\n",
      "[84]\tvalidation_0-mlogloss:0.117389\n",
      "[85]\tvalidation_0-mlogloss:0.118328\n",
      "[86]\tvalidation_0-mlogloss:0.118277\n",
      "[87]\tvalidation_0-mlogloss:0.117138\n",
      "[88]\tvalidation_0-mlogloss:0.118\n",
      "[89]\tvalidation_0-mlogloss:0.117621\n",
      "[90]\tvalidation_0-mlogloss:0.118343\n",
      "[91]\tvalidation_0-mlogloss:0.118388\n",
      "[92]\tvalidation_0-mlogloss:0.118424\n",
      "[93]\tvalidation_0-mlogloss:0.118453\n",
      "[94]\tvalidation_0-mlogloss:0.118252\n",
      "[95]\tvalidation_0-mlogloss:0.118909\n",
      "[96]\tvalidation_0-mlogloss:0.118599\n",
      "[97]\tvalidation_0-mlogloss:0.119403\n",
      "[98]\tvalidation_0-mlogloss:0.11975\n",
      "[99]\tvalidation_0-mlogloss:0.120523\n"
     ]
    },
    {
     "data": {
      "text/plain": [
       "GridSearchCV(cv=3, error_score='raise-deprecating',\n",
       "       estimator=XGBClassifier(base_score=0.5, booster='gbtree', colsample_bylevel=1,\n",
       "       colsample_bytree=1, gamma=0, learning_rate=0.1, max_delta_step=0,\n",
       "       max_depth=3, min_child_weight=1, missing=None, n_estimator=10000,\n",
       "       n_estimators=100, n_jobs=1, nthread=None,\n",
       "       objective='multi:softprob', random_state=0, reg_alpha=0,\n",
       "       reg_lambda=1, scale_pos_weight=1, seed=123, silent=True,\n",
       "       subsample=1),\n",
       "       fit_params={'eval_set': [(array([[6.3, 2.5, 4.9, 1.5],\n",
       "       [6.8, 3. , 5.5, 2.1],\n",
       "       ...,\n",
       "       [7.7, 3.8, 6.7, 2.2],\n",
       "       [5. , 3.6, 1.4, 0.2]]), array([1, 2, 2, 1, 0, 2, 1, 0, 0, 1, 2, 0, 1, 2, 2, 2, 0, 0, 1, 0, 0, 2,\n",
       "       0, 2, 0, 0, 0, 2, 2, 0]))], 'eval_metric': 'mlogloss', 'early_stopping_rounds': 100, 'verbose': True},\n",
       "       iid='warn', n_jobs=-1,\n",
       "       param_grid={'learning_rate': [0.4, 0.5], 'max_depth': [6, 7]},\n",
       "       pre_dispatch='2*n_jobs', refit=True, return_train_score='warn',\n",
       "       scoring=<function _score_func at 0x000000000B64F6A8>, verbose=0)"
      ]
     },
     "execution_count": 22,
     "metadata": {},
     "output_type": "execute_result"
    }
   ],
   "source": [
    "grid1.fit(X_train, y_train)"
   ]
  },
  {
   "cell_type": "code",
   "execution_count": 23,
   "metadata": {},
   "outputs": [
    {
     "name": "stdout",
     "output_type": "stream",
     "text": [
      "{'learning_rate': 0.4, 'max_depth': 6}\n"
     ]
    }
   ],
   "source": [
    "print(grid1.best_params_)"
   ]
  },
  {
   "cell_type": "code",
   "execution_count": 24,
   "metadata": {},
   "outputs": [
    {
     "name": "stdout",
     "output_type": "stream",
     "text": [
      "-0.28691896265178607\n"
     ]
    }
   ],
   "source": [
    "print(grid1.best_score_)"
   ]
  },
  {
   "cell_type": "code",
   "execution_count": 26,
   "metadata": {},
   "outputs": [],
   "source": [
    "# set params\n",
    "\n",
    "fit_params_1 = {'eval_set': [(X_test, y_test)],\n",
    "             'eval_metric': 'mlogloss',\n",
    "             'early_stopping_rounds': 100,\n",
    "             'verbose': True,\n",
    "               'learning_rate': 0.1}"
   ]
  },
  {
   "cell_type": "code",
   "execution_count": 27,
   "metadata": {},
   "outputs": [],
   "source": [
    "grid2 = GridSearchCV(estimator = mod,\n",
    "                    param_grid = tuned_params,\n",
    "                    fit_params = fit_params_1,\n",
    "                    scoring = _score_func,\n",
    "                    cv = 3,\n",
    "                    n_jobs = -1)"
   ]
  },
  {
   "cell_type": "code",
   "execution_count": 28,
   "metadata": {},
   "outputs": [
    {
     "name": "stderr",
     "output_type": "stream",
     "text": [
      "C:\\Users\\LUY1\\AppData\\Local\\Continuum\\anaconda3\\lib\\site-packages\\sklearn\\model_selection\\_search.py:643: DeprecationWarning: \"fit_params\" as a constructor argument was deprecated in version 0.19 and will be removed in version 0.21. Pass fit parameters to the \"fit\" method instead.\n",
      "  '\"fit\" method instead.', DeprecationWarning)\n"
     ]
    },
    {
     "ename": "TypeError",
     "evalue": "fit() got an unexpected keyword argument 'learning_rate'",
     "output_type": "error",
     "traceback": [
      "\u001b[1;31m---------------------------------------------------------------------------\u001b[0m",
      "\u001b[1;31m_RemoteTraceback\u001b[0m                          Traceback (most recent call last)",
      "\u001b[1;31m_RemoteTraceback\u001b[0m: \n\"\"\"\nTraceback (most recent call last):\n  File \"C:\\Users\\LUY1\\AppData\\Local\\Continuum\\anaconda3\\lib\\site-packages\\sklearn\\externals\\joblib\\externals\\loky\\process_executor.py\", line 418, in _process_worker\n    r = call_item()\n  File \"C:\\Users\\LUY1\\AppData\\Local\\Continuum\\anaconda3\\lib\\site-packages\\sklearn\\externals\\joblib\\externals\\loky\\process_executor.py\", line 272, in __call__\n    return self.fn(*self.args, **self.kwargs)\n  File \"C:\\Users\\LUY1\\AppData\\Local\\Continuum\\anaconda3\\lib\\site-packages\\sklearn\\externals\\joblib\\_parallel_backends.py\", line 567, in __call__\n    return self.func(*args, **kwargs)\n  File \"C:\\Users\\LUY1\\AppData\\Local\\Continuum\\anaconda3\\lib\\site-packages\\sklearn\\externals\\joblib\\parallel.py\", line 225, in __call__\n    for func, args, kwargs in self.items]\n  File \"C:\\Users\\LUY1\\AppData\\Local\\Continuum\\anaconda3\\lib\\site-packages\\sklearn\\externals\\joblib\\parallel.py\", line 225, in <listcomp>\n    for func, args, kwargs in self.items]\n  File \"C:\\Users\\LUY1\\AppData\\Local\\Continuum\\anaconda3\\lib\\site-packages\\sklearn\\model_selection\\_validation.py\", line 528, in _fit_and_score\n    estimator.fit(X_train, y_train, **fit_params)\nTypeError: fit() got an unexpected keyword argument 'learning_rate'\n\"\"\"",
      "\nThe above exception was the direct cause of the following exception:\n",
      "\u001b[1;31mTypeError\u001b[0m                                 Traceback (most recent call last)",
      "\u001b[1;32m<ipython-input-28-84177c9da259>\u001b[0m in \u001b[0;36m<module>\u001b[1;34m()\u001b[0m\n\u001b[1;32m----> 1\u001b[1;33m \u001b[0mgrid2\u001b[0m\u001b[1;33m.\u001b[0m\u001b[0mfit\u001b[0m\u001b[1;33m(\u001b[0m\u001b[0mX_train\u001b[0m\u001b[1;33m,\u001b[0m \u001b[0my_train\u001b[0m\u001b[1;33m)\u001b[0m\u001b[1;33m\u001b[0m\u001b[0m\n\u001b[0m",
      "\u001b[1;32m~\\AppData\\Local\\Continuum\\anaconda3\\lib\\site-packages\\sklearn\\model_selection\\_search.py\u001b[0m in \u001b[0;36mfit\u001b[1;34m(self, X, y, groups, **fit_params)\u001b[0m\n\u001b[0;32m    720\u001b[0m                 \u001b[1;32mreturn\u001b[0m \u001b[0mresults_container\u001b[0m\u001b[1;33m[\u001b[0m\u001b[1;36m0\u001b[0m\u001b[1;33m]\u001b[0m\u001b[1;33m\u001b[0m\u001b[0m\n\u001b[0;32m    721\u001b[0m \u001b[1;33m\u001b[0m\u001b[0m\n\u001b[1;32m--> 722\u001b[1;33m             \u001b[0mself\u001b[0m\u001b[1;33m.\u001b[0m\u001b[0m_run_search\u001b[0m\u001b[1;33m(\u001b[0m\u001b[0mevaluate_candidates\u001b[0m\u001b[1;33m)\u001b[0m\u001b[1;33m\u001b[0m\u001b[0m\n\u001b[0m\u001b[0;32m    723\u001b[0m \u001b[1;33m\u001b[0m\u001b[0m\n\u001b[0;32m    724\u001b[0m         \u001b[0mresults\u001b[0m \u001b[1;33m=\u001b[0m \u001b[0mresults_container\u001b[0m\u001b[1;33m[\u001b[0m\u001b[1;36m0\u001b[0m\u001b[1;33m]\u001b[0m\u001b[1;33m\u001b[0m\u001b[0m\n",
      "\u001b[1;32m~\\AppData\\Local\\Continuum\\anaconda3\\lib\\site-packages\\sklearn\\model_selection\\_search.py\u001b[0m in \u001b[0;36m_run_search\u001b[1;34m(self, evaluate_candidates)\u001b[0m\n\u001b[0;32m   1189\u001b[0m     \u001b[1;32mdef\u001b[0m \u001b[0m_run_search\u001b[0m\u001b[1;33m(\u001b[0m\u001b[0mself\u001b[0m\u001b[1;33m,\u001b[0m \u001b[0mevaluate_candidates\u001b[0m\u001b[1;33m)\u001b[0m\u001b[1;33m:\u001b[0m\u001b[1;33m\u001b[0m\u001b[0m\n\u001b[0;32m   1190\u001b[0m         \u001b[1;34m\"\"\"Search all candidates in param_grid\"\"\"\u001b[0m\u001b[1;33m\u001b[0m\u001b[0m\n\u001b[1;32m-> 1191\u001b[1;33m         \u001b[0mevaluate_candidates\u001b[0m\u001b[1;33m(\u001b[0m\u001b[0mParameterGrid\u001b[0m\u001b[1;33m(\u001b[0m\u001b[0mself\u001b[0m\u001b[1;33m.\u001b[0m\u001b[0mparam_grid\u001b[0m\u001b[1;33m)\u001b[0m\u001b[1;33m)\u001b[0m\u001b[1;33m\u001b[0m\u001b[0m\n\u001b[0m\u001b[0;32m   1192\u001b[0m \u001b[1;33m\u001b[0m\u001b[0m\n\u001b[0;32m   1193\u001b[0m \u001b[1;33m\u001b[0m\u001b[0m\n",
      "\u001b[1;32m~\\AppData\\Local\\Continuum\\anaconda3\\lib\\site-packages\\sklearn\\model_selection\\_search.py\u001b[0m in \u001b[0;36mevaluate_candidates\u001b[1;34m(candidate_params)\u001b[0m\n\u001b[0;32m    709\u001b[0m                                \u001b[1;32mfor\u001b[0m \u001b[0mparameters\u001b[0m\u001b[1;33m,\u001b[0m \u001b[1;33m(\u001b[0m\u001b[0mtrain\u001b[0m\u001b[1;33m,\u001b[0m \u001b[0mtest\u001b[0m\u001b[1;33m)\u001b[0m\u001b[1;33m\u001b[0m\u001b[0m\n\u001b[0;32m    710\u001b[0m                                in product(candidate_params,\n\u001b[1;32m--> 711\u001b[1;33m                                           cv.split(X, y, groups)))\n\u001b[0m\u001b[0;32m    712\u001b[0m \u001b[1;33m\u001b[0m\u001b[0m\n\u001b[0;32m    713\u001b[0m                 \u001b[0mall_candidate_params\u001b[0m\u001b[1;33m.\u001b[0m\u001b[0mextend\u001b[0m\u001b[1;33m(\u001b[0m\u001b[0mcandidate_params\u001b[0m\u001b[1;33m)\u001b[0m\u001b[1;33m\u001b[0m\u001b[0m\n",
      "\u001b[1;32m~\\AppData\\Local\\Continuum\\anaconda3\\lib\\site-packages\\sklearn\\externals\\joblib\\parallel.py\u001b[0m in \u001b[0;36m__call__\u001b[1;34m(self, iterable)\u001b[0m\n\u001b[0;32m    928\u001b[0m \u001b[1;33m\u001b[0m\u001b[0m\n\u001b[0;32m    929\u001b[0m             \u001b[1;32mwith\u001b[0m \u001b[0mself\u001b[0m\u001b[1;33m.\u001b[0m\u001b[0m_backend\u001b[0m\u001b[1;33m.\u001b[0m\u001b[0mretrieval_context\u001b[0m\u001b[1;33m(\u001b[0m\u001b[1;33m)\u001b[0m\u001b[1;33m:\u001b[0m\u001b[1;33m\u001b[0m\u001b[0m\n\u001b[1;32m--> 930\u001b[1;33m                 \u001b[0mself\u001b[0m\u001b[1;33m.\u001b[0m\u001b[0mretrieve\u001b[0m\u001b[1;33m(\u001b[0m\u001b[1;33m)\u001b[0m\u001b[1;33m\u001b[0m\u001b[0m\n\u001b[0m\u001b[0;32m    931\u001b[0m             \u001b[1;31m# Make sure that we get a last message telling us we are done\u001b[0m\u001b[1;33m\u001b[0m\u001b[1;33m\u001b[0m\u001b[0m\n\u001b[0;32m    932\u001b[0m             \u001b[0melapsed_time\u001b[0m \u001b[1;33m=\u001b[0m \u001b[0mtime\u001b[0m\u001b[1;33m.\u001b[0m\u001b[0mtime\u001b[0m\u001b[1;33m(\u001b[0m\u001b[1;33m)\u001b[0m \u001b[1;33m-\u001b[0m \u001b[0mself\u001b[0m\u001b[1;33m.\u001b[0m\u001b[0m_start_time\u001b[0m\u001b[1;33m\u001b[0m\u001b[0m\n",
      "\u001b[1;32m~\\AppData\\Local\\Continuum\\anaconda3\\lib\\site-packages\\sklearn\\externals\\joblib\\parallel.py\u001b[0m in \u001b[0;36mretrieve\u001b[1;34m(self)\u001b[0m\n\u001b[0;32m    831\u001b[0m             \u001b[1;32mtry\u001b[0m\u001b[1;33m:\u001b[0m\u001b[1;33m\u001b[0m\u001b[0m\n\u001b[0;32m    832\u001b[0m                 \u001b[1;32mif\u001b[0m \u001b[0mgetattr\u001b[0m\u001b[1;33m(\u001b[0m\u001b[0mself\u001b[0m\u001b[1;33m.\u001b[0m\u001b[0m_backend\u001b[0m\u001b[1;33m,\u001b[0m \u001b[1;34m'supports_timeout'\u001b[0m\u001b[1;33m,\u001b[0m \u001b[1;32mFalse\u001b[0m\u001b[1;33m)\u001b[0m\u001b[1;33m:\u001b[0m\u001b[1;33m\u001b[0m\u001b[0m\n\u001b[1;32m--> 833\u001b[1;33m                     \u001b[0mself\u001b[0m\u001b[1;33m.\u001b[0m\u001b[0m_output\u001b[0m\u001b[1;33m.\u001b[0m\u001b[0mextend\u001b[0m\u001b[1;33m(\u001b[0m\u001b[0mjob\u001b[0m\u001b[1;33m.\u001b[0m\u001b[0mget\u001b[0m\u001b[1;33m(\u001b[0m\u001b[0mtimeout\u001b[0m\u001b[1;33m=\u001b[0m\u001b[0mself\u001b[0m\u001b[1;33m.\u001b[0m\u001b[0mtimeout\u001b[0m\u001b[1;33m)\u001b[0m\u001b[1;33m)\u001b[0m\u001b[1;33m\u001b[0m\u001b[0m\n\u001b[0m\u001b[0;32m    834\u001b[0m                 \u001b[1;32melse\u001b[0m\u001b[1;33m:\u001b[0m\u001b[1;33m\u001b[0m\u001b[0m\n\u001b[0;32m    835\u001b[0m                     \u001b[0mself\u001b[0m\u001b[1;33m.\u001b[0m\u001b[0m_output\u001b[0m\u001b[1;33m.\u001b[0m\u001b[0mextend\u001b[0m\u001b[1;33m(\u001b[0m\u001b[0mjob\u001b[0m\u001b[1;33m.\u001b[0m\u001b[0mget\u001b[0m\u001b[1;33m(\u001b[0m\u001b[1;33m)\u001b[0m\u001b[1;33m)\u001b[0m\u001b[1;33m\u001b[0m\u001b[0m\n",
      "\u001b[1;32m~\\AppData\\Local\\Continuum\\anaconda3\\lib\\site-packages\\sklearn\\externals\\joblib\\_parallel_backends.py\u001b[0m in \u001b[0;36mwrap_future_result\u001b[1;34m(future, timeout)\u001b[0m\n\u001b[0;32m    519\u001b[0m         AsyncResults.get from multiprocessing.\"\"\"\n\u001b[0;32m    520\u001b[0m         \u001b[1;32mtry\u001b[0m\u001b[1;33m:\u001b[0m\u001b[1;33m\u001b[0m\u001b[0m\n\u001b[1;32m--> 521\u001b[1;33m             \u001b[1;32mreturn\u001b[0m \u001b[0mfuture\u001b[0m\u001b[1;33m.\u001b[0m\u001b[0mresult\u001b[0m\u001b[1;33m(\u001b[0m\u001b[0mtimeout\u001b[0m\u001b[1;33m=\u001b[0m\u001b[0mtimeout\u001b[0m\u001b[1;33m)\u001b[0m\u001b[1;33m\u001b[0m\u001b[0m\n\u001b[0m\u001b[0;32m    522\u001b[0m         \u001b[1;32mexcept\u001b[0m \u001b[0mLokyTimeoutError\u001b[0m\u001b[1;33m:\u001b[0m\u001b[1;33m\u001b[0m\u001b[0m\n\u001b[0;32m    523\u001b[0m             \u001b[1;32mraise\u001b[0m \u001b[0mTimeoutError\u001b[0m\u001b[1;33m(\u001b[0m\u001b[1;33m)\u001b[0m\u001b[1;33m\u001b[0m\u001b[0m\n",
      "\u001b[1;32m~\\AppData\\Local\\Continuum\\anaconda3\\lib\\concurrent\\futures\\_base.py\u001b[0m in \u001b[0;36mresult\u001b[1;34m(self, timeout)\u001b[0m\n\u001b[0;32m    423\u001b[0m                 \u001b[1;32mraise\u001b[0m \u001b[0mCancelledError\u001b[0m\u001b[1;33m(\u001b[0m\u001b[1;33m)\u001b[0m\u001b[1;33m\u001b[0m\u001b[0m\n\u001b[0;32m    424\u001b[0m             \u001b[1;32melif\u001b[0m \u001b[0mself\u001b[0m\u001b[1;33m.\u001b[0m\u001b[0m_state\u001b[0m \u001b[1;33m==\u001b[0m \u001b[0mFINISHED\u001b[0m\u001b[1;33m:\u001b[0m\u001b[1;33m\u001b[0m\u001b[0m\n\u001b[1;32m--> 425\u001b[1;33m                 \u001b[1;32mreturn\u001b[0m \u001b[0mself\u001b[0m\u001b[1;33m.\u001b[0m\u001b[0m__get_result\u001b[0m\u001b[1;33m(\u001b[0m\u001b[1;33m)\u001b[0m\u001b[1;33m\u001b[0m\u001b[0m\n\u001b[0m\u001b[0;32m    426\u001b[0m \u001b[1;33m\u001b[0m\u001b[0m\n\u001b[0;32m    427\u001b[0m             \u001b[0mself\u001b[0m\u001b[1;33m.\u001b[0m\u001b[0m_condition\u001b[0m\u001b[1;33m.\u001b[0m\u001b[0mwait\u001b[0m\u001b[1;33m(\u001b[0m\u001b[0mtimeout\u001b[0m\u001b[1;33m)\u001b[0m\u001b[1;33m\u001b[0m\u001b[0m\n",
      "\u001b[1;32m~\\AppData\\Local\\Continuum\\anaconda3\\lib\\concurrent\\futures\\_base.py\u001b[0m in \u001b[0;36m__get_result\u001b[1;34m(self)\u001b[0m\n\u001b[0;32m    382\u001b[0m     \u001b[1;32mdef\u001b[0m \u001b[0m__get_result\u001b[0m\u001b[1;33m(\u001b[0m\u001b[0mself\u001b[0m\u001b[1;33m)\u001b[0m\u001b[1;33m:\u001b[0m\u001b[1;33m\u001b[0m\u001b[0m\n\u001b[0;32m    383\u001b[0m         \u001b[1;32mif\u001b[0m \u001b[0mself\u001b[0m\u001b[1;33m.\u001b[0m\u001b[0m_exception\u001b[0m\u001b[1;33m:\u001b[0m\u001b[1;33m\u001b[0m\u001b[0m\n\u001b[1;32m--> 384\u001b[1;33m             \u001b[1;32mraise\u001b[0m \u001b[0mself\u001b[0m\u001b[1;33m.\u001b[0m\u001b[0m_exception\u001b[0m\u001b[1;33m\u001b[0m\u001b[0m\n\u001b[0m\u001b[0;32m    385\u001b[0m         \u001b[1;32melse\u001b[0m\u001b[1;33m:\u001b[0m\u001b[1;33m\u001b[0m\u001b[0m\n\u001b[0;32m    386\u001b[0m             \u001b[1;32mreturn\u001b[0m \u001b[0mself\u001b[0m\u001b[1;33m.\u001b[0m\u001b[0m_result\u001b[0m\u001b[1;33m\u001b[0m\u001b[0m\n",
      "\u001b[1;31mTypeError\u001b[0m: fit() got an unexpected keyword argument 'learning_rate'"
     ]
    }
   ],
   "source": [
    "grid2.fit(X_train, y_train)"
   ]
  },
  {
   "cell_type": "code",
   "execution_count": 29,
   "metadata": {},
   "outputs": [],
   "source": [
    "# get errors so set params again"
   ]
  },
  {
   "cell_type": "code",
   "execution_count": 41,
   "metadata": {},
   "outputs": [],
   "source": [
    "mod3 = XGBClassifier(objective = 'multi:softprob',\n",
    "                   seed = 123,\n",
    "                   n_estimator = 10000,\n",
    "                    learning_rate = 0.1)"
   ]
  },
  {
   "cell_type": "code",
   "execution_count": 42,
   "metadata": {},
   "outputs": [],
   "source": [
    "fit_params_3 = {'eval_set': [(X_test, y_test)],\n",
    "             'eval_metric': 'mlogloss',\n",
    "             'early_stopping_rounds': 100,\n",
    "             'verbose': True}"
   ]
  },
  {
   "cell_type": "code",
   "execution_count": 43,
   "metadata": {},
   "outputs": [],
   "source": [
    "grid3 = GridSearchCV(estimator = mod3,\n",
    "                    param_grid = tuned_params,\n",
    "                    fit_params = fit_params_3,\n",
    "                    scoring = _score_func,\n",
    "                    cv = 3,\n",
    "                    n_jobs = -1)"
   ]
  },
  {
   "cell_type": "code",
   "execution_count": 44,
   "metadata": {},
   "outputs": [
    {
     "name": "stderr",
     "output_type": "stream",
     "text": [
      "C:\\Users\\LUY1\\AppData\\Local\\Continuum\\anaconda3\\lib\\site-packages\\sklearn\\model_selection\\_search.py:643: DeprecationWarning: \"fit_params\" as a constructor argument was deprecated in version 0.19 and will be removed in version 0.21. Pass fit parameters to the \"fit\" method instead.\n",
      "  '\"fit\" method instead.', DeprecationWarning)\n"
     ]
    },
    {
     "name": "stdout",
     "output_type": "stream",
     "text": [
      "[0]\tvalidation_0-mlogloss:0.64519\n",
      "Will train until validation_0-mlogloss hasn't improved in 100 rounds.\n",
      "[1]\tvalidation_0-mlogloss:0.423917\n",
      "[2]\tvalidation_0-mlogloss:0.292632\n",
      "[3]\tvalidation_0-mlogloss:0.211596\n",
      "[4]\tvalidation_0-mlogloss:0.165144\n",
      "[5]\tvalidation_0-mlogloss:0.130986\n",
      "[6]\tvalidation_0-mlogloss:0.106982\n",
      "[7]\tvalidation_0-mlogloss:0.10124\n",
      "[8]\tvalidation_0-mlogloss:0.100764\n",
      "[9]\tvalidation_0-mlogloss:0.100921\n",
      "[10]\tvalidation_0-mlogloss:0.100025\n",
      "[11]\tvalidation_0-mlogloss:0.102453\n",
      "[12]\tvalidation_0-mlogloss:0.102454\n",
      "[13]\tvalidation_0-mlogloss:0.096618\n",
      "[14]\tvalidation_0-mlogloss:0.097506\n",
      "[15]\tvalidation_0-mlogloss:0.095252\n",
      "[16]\tvalidation_0-mlogloss:0.09629\n",
      "[17]\tvalidation_0-mlogloss:0.096262\n",
      "[18]\tvalidation_0-mlogloss:0.095489\n",
      "[19]\tvalidation_0-mlogloss:0.095221\n",
      "[20]\tvalidation_0-mlogloss:0.095474\n",
      "[21]\tvalidation_0-mlogloss:0.095537\n",
      "[22]\tvalidation_0-mlogloss:0.094749\n",
      "[23]\tvalidation_0-mlogloss:0.094185\n",
      "[24]\tvalidation_0-mlogloss:0.098004\n",
      "[25]\tvalidation_0-mlogloss:0.098723\n",
      "[26]\tvalidation_0-mlogloss:0.100236\n",
      "[27]\tvalidation_0-mlogloss:0.099451\n",
      "[28]\tvalidation_0-mlogloss:0.100298\n",
      "[29]\tvalidation_0-mlogloss:0.09874\n",
      "[30]\tvalidation_0-mlogloss:0.099707\n",
      "[31]\tvalidation_0-mlogloss:0.099697\n",
      "[32]\tvalidation_0-mlogloss:0.09892\n",
      "[33]\tvalidation_0-mlogloss:0.101165\n",
      "[34]\tvalidation_0-mlogloss:0.100447\n",
      "[35]\tvalidation_0-mlogloss:0.101852\n",
      "[36]\tvalidation_0-mlogloss:0.103548\n",
      "[37]\tvalidation_0-mlogloss:0.102713\n",
      "[38]\tvalidation_0-mlogloss:0.104813\n",
      "[39]\tvalidation_0-mlogloss:0.104319\n",
      "[40]\tvalidation_0-mlogloss:0.104532\n",
      "[41]\tvalidation_0-mlogloss:0.103758\n",
      "[42]\tvalidation_0-mlogloss:0.105742\n",
      "[43]\tvalidation_0-mlogloss:0.105084\n",
      "[44]\tvalidation_0-mlogloss:0.106682\n",
      "[45]\tvalidation_0-mlogloss:0.104823\n",
      "[46]\tvalidation_0-mlogloss:0.106723\n"
     ]
    },
    {
     "name": "stderr",
     "output_type": "stream",
     "text": [
      "C:\\Users\\LUY1\\AppData\\Local\\Continuum\\anaconda3\\lib\\site-packages\\sklearn\\model_selection\\_search.py:841: DeprecationWarning: The default of the `iid` parameter will change from True to False in version 0.22 and will be removed in 0.24. This will change numeric results when test-set sizes are unequal.\n",
      "  DeprecationWarning)\n"
     ]
    },
    {
     "name": "stdout",
     "output_type": "stream",
     "text": [
      "[47]\tvalidation_0-mlogloss:0.105974\n",
      "[48]\tvalidation_0-mlogloss:0.1075\n",
      "[49]\tvalidation_0-mlogloss:0.107575\n",
      "[50]\tvalidation_0-mlogloss:0.106996\n",
      "[51]\tvalidation_0-mlogloss:0.108712\n",
      "[52]\tvalidation_0-mlogloss:0.10799\n",
      "[53]\tvalidation_0-mlogloss:0.109218\n",
      "[54]\tvalidation_0-mlogloss:0.109252\n",
      "[55]\tvalidation_0-mlogloss:0.108717\n",
      "[56]\tvalidation_0-mlogloss:0.109932\n",
      "[57]\tvalidation_0-mlogloss:0.109562\n",
      "[58]\tvalidation_0-mlogloss:0.110743\n",
      "[59]\tvalidation_0-mlogloss:0.11008\n",
      "[60]\tvalidation_0-mlogloss:0.111763\n",
      "[61]\tvalidation_0-mlogloss:0.111282\n",
      "[62]\tvalidation_0-mlogloss:0.112491\n",
      "[63]\tvalidation_0-mlogloss:0.11089\n",
      "[64]\tvalidation_0-mlogloss:0.112324\n",
      "[65]\tvalidation_0-mlogloss:0.113502\n",
      "[66]\tvalidation_0-mlogloss:0.113011\n",
      "[67]\tvalidation_0-mlogloss:0.11415\n",
      "[68]\tvalidation_0-mlogloss:0.113668\n",
      "[69]\tvalidation_0-mlogloss:0.115274\n",
      "[70]\tvalidation_0-mlogloss:0.113764\n",
      "[71]\tvalidation_0-mlogloss:0.114865\n",
      "[72]\tvalidation_0-mlogloss:0.114616\n",
      "[73]\tvalidation_0-mlogloss:0.115684\n",
      "[74]\tvalidation_0-mlogloss:0.11543\n",
      "[75]\tvalidation_0-mlogloss:0.115419\n",
      "[76]\tvalidation_0-mlogloss:0.115407\n",
      "[77]\tvalidation_0-mlogloss:0.116308\n",
      "[78]\tvalidation_0-mlogloss:0.115042\n",
      "[79]\tvalidation_0-mlogloss:0.116086\n",
      "[80]\tvalidation_0-mlogloss:0.11596\n",
      "[81]\tvalidation_0-mlogloss:0.116979\n",
      "[82]\tvalidation_0-mlogloss:0.116842\n",
      "[83]\tvalidation_0-mlogloss:0.117827\n",
      "[84]\tvalidation_0-mlogloss:0.117389\n",
      "[85]\tvalidation_0-mlogloss:0.118328\n",
      "[86]\tvalidation_0-mlogloss:0.118277\n",
      "[87]\tvalidation_0-mlogloss:0.117138\n",
      "[88]\tvalidation_0-mlogloss:0.118\n",
      "[89]\tvalidation_0-mlogloss:0.117621\n",
      "[90]\tvalidation_0-mlogloss:0.118343\n",
      "[91]\tvalidation_0-mlogloss:0.118388\n",
      "[92]\tvalidation_0-mlogloss:0.118424\n",
      "[93]\tvalidation_0-mlogloss:0.118453\n",
      "[94]\tvalidation_0-mlogloss:0.118252\n",
      "[95]\tvalidation_0-mlogloss:0.118909\n",
      "[96]\tvalidation_0-mlogloss:0.118599\n",
      "[97]\tvalidation_0-mlogloss:0.119403\n",
      "[98]\tvalidation_0-mlogloss:0.11975\n",
      "[99]\tvalidation_0-mlogloss:0.120523\n"
     ]
    },
    {
     "data": {
      "text/plain": [
       "GridSearchCV(cv=3, error_score='raise-deprecating',\n",
       "       estimator=XGBClassifier(base_score=0.5, booster='gbtree', colsample_bylevel=1,\n",
       "       colsample_bytree=1, gamma=0, learning_rate=0.1, max_delta_step=0,\n",
       "       max_depth=3, min_child_weight=1, missing=None, n_estimator=10000,\n",
       "       n_estimators=100, n_jobs=1, nthread=None,\n",
       "       objective='multi:softprob', random_state=0, reg_alpha=0,\n",
       "       reg_lambda=1, scale_pos_weight=1, seed=123, silent=True,\n",
       "       subsample=1),\n",
       "       fit_params={'eval_set': [(array([[6.3, 2.5, 4.9, 1.5],\n",
       "       [6.8, 3. , 5.5, 2.1],\n",
       "       ...,\n",
       "       [7.7, 3.8, 6.7, 2.2],\n",
       "       [5. , 3.6, 1.4, 0.2]]), array([1, 2, 2, 1, 0, 2, 1, 0, 0, 1, 2, 0, 1, 2, 2, 2, 0, 0, 1, 0, 0, 2,\n",
       "       0, 2, 0, 0, 0, 2, 2, 0]))], 'eval_metric': 'mlogloss', 'early_stopping_rounds': 100, 'verbose': True},\n",
       "       iid='warn', n_jobs=-1,\n",
       "       param_grid={'learning_rate': [0.4, 0.5], 'max_depth': [6, 7]},\n",
       "       pre_dispatch='2*n_jobs', refit=True, return_train_score='warn',\n",
       "       scoring=<function _score_func at 0x000000000B64F6A8>, verbose=0)"
      ]
     },
     "execution_count": 44,
     "metadata": {},
     "output_type": "execute_result"
    }
   ],
   "source": [
    "grid3.fit(X_train, y_train)"
   ]
  },
  {
   "cell_type": "code",
   "execution_count": 45,
   "metadata": {},
   "outputs": [
    {
     "name": "stdout",
     "output_type": "stream",
     "text": [
      "{'learning_rate': 0.4, 'max_depth': 6}\n"
     ]
    }
   ],
   "source": [
    "print(grid3.best_params_)"
   ]
  },
  {
   "cell_type": "code",
   "execution_count": 46,
   "metadata": {},
   "outputs": [
    {
     "name": "stdout",
     "output_type": "stream",
     "text": [
      "-0.28691896265178607\n"
     ]
    }
   ],
   "source": [
    "print(grid3.best_score_)"
   ]
  },
  {
   "cell_type": "code",
   "execution_count": 47,
   "metadata": {},
   "outputs": [],
   "source": [
    "# set more parameters"
   ]
  },
  {
   "cell_type": "code",
   "execution_count": 48,
   "metadata": {},
   "outputs": [],
   "source": [
    "mod4 = XGBClassifier(objective = 'multi:softprob',\n",
    "                   seed = 123,\n",
    "                   n_estimator = 10000,\n",
    "                    learning_rate = 0.1,\n",
    "                    max_depth = 5,\n",
    "                    min__child_weight = 1,\n",
    "                    gamma = 0,\n",
    "                    subsample = 0.8,\n",
    "                    colsamplpe = 0.8)"
   ]
  },
  {
   "cell_type": "code",
   "execution_count": 50,
   "metadata": {},
   "outputs": [],
   "source": [
    "fit_params_4 = {'eval_set': [(X_test, y_test)],\n",
    "             'eval_metric': 'mlogloss',\n",
    "             'early_stopping_rounds': 100,\n",
    "             'verbose': True}"
   ]
  },
  {
   "cell_type": "code",
   "execution_count": 51,
   "metadata": {},
   "outputs": [],
   "source": [
    "tuned_params = {'learning_rate': [0.4,0.5],\n",
    "               'max_depth': [6,7]}"
   ]
  },
  {
   "cell_type": "code",
   "execution_count": 52,
   "metadata": {},
   "outputs": [],
   "source": [
    "grid4 = GridSearchCV(estimator = mod4,\n",
    "                    param_grid = tuned_params,\n",
    "                    fit_params = fit_params_4,\n",
    "                    scoring = _score_func,\n",
    "                    cv = 3,\n",
    "                    n_jobs = -1)"
   ]
  },
  {
   "cell_type": "code",
   "execution_count": 53,
   "metadata": {},
   "outputs": [
    {
     "name": "stderr",
     "output_type": "stream",
     "text": [
      "C:\\Users\\LUY1\\AppData\\Local\\Continuum\\anaconda3\\lib\\site-packages\\sklearn\\model_selection\\_search.py:643: DeprecationWarning: \"fit_params\" as a constructor argument was deprecated in version 0.19 and will be removed in version 0.21. Pass fit parameters to the \"fit\" method instead.\n",
      "  '\"fit\" method instead.', DeprecationWarning)\n"
     ]
    },
    {
     "name": "stdout",
     "output_type": "stream",
     "text": [
      "[0]\tvalidation_0-mlogloss:0.6685\n",
      "Will train until validation_0-mlogloss hasn't improved in 100 rounds.\n",
      "[1]\tvalidation_0-mlogloss:0.447198\n",
      "[2]\tvalidation_0-mlogloss:0.310667\n",
      "[3]\tvalidation_0-mlogloss:0.237591\n",
      "[4]\tvalidation_0-mlogloss:0.179327\n",
      "[5]\tvalidation_0-mlogloss:0.14848\n",
      "[6]\tvalidation_0-mlogloss:0.130643\n",
      "[7]\tvalidation_0-mlogloss:0.110789\n",
      "[8]\tvalidation_0-mlogloss:0.104167\n",
      "[9]\tvalidation_0-mlogloss:0.099064\n",
      "[10]\tvalidation_0-mlogloss:0.104694\n",
      "[11]\tvalidation_0-mlogloss:0.089845\n",
      "[12]\tvalidation_0-mlogloss:0.081472\n",
      "[13]\tvalidation_0-mlogloss:0.084328\n",
      "[14]\tvalidation_0-mlogloss:0.089463\n",
      "[15]\tvalidation_0-mlogloss:0.095201\n",
      "[16]\tvalidation_0-mlogloss:0.097607\n",
      "[17]\tvalidation_0-mlogloss:0.100025\n",
      "[18]\tvalidation_0-mlogloss:0.102792\n",
      "[19]\tvalidation_0-mlogloss:0.105814\n",
      "[20]\tvalidation_0-mlogloss:0.108706\n",
      "[21]\tvalidation_0-mlogloss:0.103944\n",
      "[22]\tvalidation_0-mlogloss:0.099244\n",
      "[23]\tvalidation_0-mlogloss:0.100995\n",
      "[24]\tvalidation_0-mlogloss:0.097997\n",
      "[25]\tvalidation_0-mlogloss:0.096854\n",
      "[26]\tvalidation_0-mlogloss:0.1016\n",
      "[27]\tvalidation_0-mlogloss:0.10449\n",
      "[28]\tvalidation_0-mlogloss:0.108107\n",
      "[29]\tvalidation_0-mlogloss:0.110551\n",
      "[30]\tvalidation_0-mlogloss:0.111551\n",
      "[31]\tvalidation_0-mlogloss:0.110891\n",
      "[32]\tvalidation_0-mlogloss:0.114023\n",
      "[33]\tvalidation_0-mlogloss:0.110496\n",
      "[34]\tvalidation_0-mlogloss:0.109798\n",
      "[35]\tvalidation_0-mlogloss:0.106962\n",
      "[36]\tvalidation_0-mlogloss:0.111636\n",
      "[37]\tvalidation_0-mlogloss:0.115481\n",
      "[38]\tvalidation_0-mlogloss:0.121412\n",
      "[39]\tvalidation_0-mlogloss:0.119002\n",
      "[40]\tvalidation_0-mlogloss:0.121637\n",
      "[41]\tvalidation_0-mlogloss:0.121831\n",
      "[42]\tvalidation_0-mlogloss:0.119902\n",
      "[43]\tvalidation_0-mlogloss:0.124655\n",
      "[44]\tvalidation_0-mlogloss:0.120393\n",
      "[45]\tvalidation_0-mlogloss:0.120925\n",
      "[46]\tvalidation_0-mlogloss:0.124705\n",
      "[47]\tvalidation_0-mlogloss:0.126062\n",
      "[48]\tvalidation_0-mlogloss:0.130575\n",
      "[49]\tvalidation_0-mlogloss:0.125737\n",
      "[50]\tvalidation_0-mlogloss:0.126308\n",
      "[51]\tvalidation_0-mlogloss:0.127516\n",
      "[52]\tvalidation_0-mlogloss:0.128065\n",
      "[53]\tvalidation_0-mlogloss:0.123525\n",
      "[54]\tvalidation_0-mlogloss:0.124574\n",
      "[55]\tvalidation_0-mlogloss:0.128124\n",
      "[56]\tvalidation_0-mlogloss:0.130143\n",
      "[57]\tvalidation_0-mlogloss:0.125254\n",
      "[58]\tvalidation_0-mlogloss:0.127759\n",
      "[59]\tvalidation_0-mlogloss:0.130115\n",
      "[60]\tvalidation_0-mlogloss:0.127143\n",
      "[61]\tvalidation_0-mlogloss:0.129772\n",
      "[62]\tvalidation_0-mlogloss:0.133369\n",
      "[63]\tvalidation_0-mlogloss:0.135593\n",
      "[64]\tvalidation_0-mlogloss:0.132193\n",
      "[65]\tvalidation_0-mlogloss:0.131626\n",
      "[66]\tvalidation_0-mlogloss:0.125718\n"
     ]
    },
    {
     "name": "stderr",
     "output_type": "stream",
     "text": [
      "C:\\Users\\LUY1\\AppData\\Local\\Continuum\\anaconda3\\lib\\site-packages\\sklearn\\model_selection\\_search.py:841: DeprecationWarning: The default of the `iid` parameter will change from True to False in version 0.22 and will be removed in 0.24. This will change numeric results when test-set sizes are unequal.\n",
      "  DeprecationWarning)\n"
     ]
    },
    {
     "name": "stdout",
     "output_type": "stream",
     "text": [
      "[67]\tvalidation_0-mlogloss:0.124785\n",
      "[68]\tvalidation_0-mlogloss:0.126221\n",
      "[69]\tvalidation_0-mlogloss:0.12625\n",
      "[70]\tvalidation_0-mlogloss:0.128657\n",
      "[71]\tvalidation_0-mlogloss:0.129376\n",
      "[72]\tvalidation_0-mlogloss:0.129946\n",
      "[73]\tvalidation_0-mlogloss:0.129522\n",
      "[74]\tvalidation_0-mlogloss:0.13181\n",
      "[75]\tvalidation_0-mlogloss:0.133762\n",
      "[76]\tvalidation_0-mlogloss:0.132596\n",
      "[77]\tvalidation_0-mlogloss:0.132457\n",
      "[78]\tvalidation_0-mlogloss:0.131083\n",
      "[79]\tvalidation_0-mlogloss:0.130753\n",
      "[80]\tvalidation_0-mlogloss:0.133435\n",
      "[81]\tvalidation_0-mlogloss:0.131141\n",
      "[82]\tvalidation_0-mlogloss:0.13012\n",
      "[83]\tvalidation_0-mlogloss:0.130121\n",
      "[84]\tvalidation_0-mlogloss:0.125571\n",
      "[85]\tvalidation_0-mlogloss:0.127688\n",
      "[86]\tvalidation_0-mlogloss:0.128915\n",
      "[87]\tvalidation_0-mlogloss:0.126523\n",
      "[88]\tvalidation_0-mlogloss:0.128114\n",
      "[89]\tvalidation_0-mlogloss:0.128608\n",
      "[90]\tvalidation_0-mlogloss:0.130455\n",
      "[91]\tvalidation_0-mlogloss:0.131878\n",
      "[92]\tvalidation_0-mlogloss:0.132691\n",
      "[93]\tvalidation_0-mlogloss:0.131838\n",
      "[94]\tvalidation_0-mlogloss:0.128106\n",
      "[95]\tvalidation_0-mlogloss:0.13046\n",
      "[96]\tvalidation_0-mlogloss:0.13391\n",
      "[97]\tvalidation_0-mlogloss:0.131942\n",
      "[98]\tvalidation_0-mlogloss:0.132935\n",
      "[99]\tvalidation_0-mlogloss:0.131636\n"
     ]
    },
    {
     "data": {
      "text/plain": [
       "GridSearchCV(cv=3, error_score='raise-deprecating',\n",
       "       estimator=XGBClassifier(base_score=0.5, booster='gbtree', colsample_bylevel=1,\n",
       "       colsample_bytree=1, colsamplpe=0.8, gamma=0, learning_rate=0.1,\n",
       "       max_delta_step=0, max_depth=5, min__child_weight=1,\n",
       "       min_child_weight=1, missing=None, n_estimator=10000,\n",
       "       n_estimators=100, n_jobs=1, nthread=None,\n",
       "       objective='multi:softprob', random_state=0, reg_alpha=0,\n",
       "       reg_lambda=1, scale_pos_weight=1, seed=123, silent=True,\n",
       "       subsample=0.8),\n",
       "       fit_params={'eval_set': [(array([[6.3, 2.5, 4.9, 1.5],\n",
       "       [6.8, 3. , 5.5, 2.1],\n",
       "       ...,\n",
       "       [7.7, 3.8, 6.7, 2.2],\n",
       "       [5. , 3.6, 1.4, 0.2]]), array([1, 2, 2, 1, 0, 2, 1, 0, 0, 1, 2, 0, 1, 2, 2, 2, 0, 0, 1, 0, 0, 2,\n",
       "       0, 2, 0, 0, 0, 2, 2, 0]))], 'eval_metric': 'mlogloss', 'early_stopping_rounds': 100, 'verbose': True},\n",
       "       iid='warn', n_jobs=-1,\n",
       "       param_grid={'learning_rate': [0.4, 0.5], 'max_depth': [6, 7]},\n",
       "       pre_dispatch='2*n_jobs', refit=True, return_train_score='warn',\n",
       "       scoring=<function _score_func at 0x000000000B64F6A8>, verbose=0)"
      ]
     },
     "execution_count": 53,
     "metadata": {},
     "output_type": "execute_result"
    }
   ],
   "source": [
    "grid4.fit(X_train, y_train)"
   ]
  },
  {
   "cell_type": "code",
   "execution_count": 54,
   "metadata": {},
   "outputs": [
    {
     "name": "stdout",
     "output_type": "stream",
     "text": [
      "{'learning_rate': 0.4, 'max_depth': 6}\n"
     ]
    }
   ],
   "source": [
    "print(grid4.best_params_)"
   ]
  },
  {
   "cell_type": "code",
   "execution_count": 55,
   "metadata": {},
   "outputs": [
    {
     "name": "stdout",
     "output_type": "stream",
     "text": [
      "-0.2444717788156898\n"
     ]
    }
   ],
   "source": [
    "print(grid4.best_score_)"
   ]
  },
  {
   "cell_type": "code",
   "execution_count": null,
   "metadata": {},
   "outputs": [],
   "source": []
  }
 ],
 "metadata": {
  "kernelspec": {
   "display_name": "Python 3",
   "language": "python",
   "name": "python3"
  },
  "language_info": {
   "codemirror_mode": {
    "name": "ipython",
    "version": 3
   },
   "file_extension": ".py",
   "mimetype": "text/x-python",
   "name": "python",
   "nbconvert_exporter": "python",
   "pygments_lexer": "ipython3",
   "version": "3.6.5"
  }
 },
 "nbformat": 4,
 "nbformat_minor": 2
}
