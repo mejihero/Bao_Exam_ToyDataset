{
 "cells": [
  {
   "cell_type": "code",
   "execution_count": 1,
   "metadata": {},
   "outputs": [],
   "source": [
    "import numpy as np\n",
    "import pandas as pd"
   ]
  },
  {
   "cell_type": "code",
   "execution_count": 1,
   "metadata": {},
   "outputs": [],
   "source": [
    "# df = pd.read_pickle('df_all_3.pkl')\n",
    "# df.head()"
   ]
  },
  {
   "cell_type": "code",
   "execution_count": 2,
   "metadata": {},
   "outputs": [],
   "source": [
    "# pp_data_train = pd.read_csv('pp_data_train.csv')\n",
    "# pp_data_train.head()"
   ]
  },
  {
   "cell_type": "code",
   "execution_count": 3,
   "metadata": {},
   "outputs": [],
   "source": [
    "# y_all = pp_data_train[['row_id', 'incident_id', 'vehicle_id', 'occupant_id', 'injury']]\n",
    "# y_all.head()"
   ]
  },
  {
   "cell_type": "code",
   "execution_count": 4,
   "metadata": {},
   "outputs": [],
   "source": [
    "# mapping_y =  {'Unharmed':0, 'Possible':1, 'Minor':2, 'Major':3, 'Fatal':4}\n",
    "\n",
    "# y_all['injury'] = y_all['injury'].map(mapping_y)\n",
    "# y_all.head()"
   ]
  },
  {
   "cell_type": "code",
   "execution_count": 6,
   "metadata": {},
   "outputs": [],
   "source": [
    "X_df_train = df.loc[df['mod_lb'] == 'train', :]\n",
    "X_df_test = df.loc[df['mod_lb'] == 'test', :]"
   ]
  },
  {
   "cell_type": "code",
   "execution_count": 7,
   "metadata": {},
   "outputs": [
    {
     "name": "stderr",
     "output_type": "stream",
     "text": [
      "C:\\Users\\LUY1\\AppData\\Local\\Continuum\\anaconda3\\lib\\site-packages\\pandas\\core\\frame.py:3694: SettingWithCopyWarning: \n",
      "A value is trying to be set on a copy of a slice from a DataFrame\n",
      "\n",
      "See the caveats in the documentation: http://pandas.pydata.org/pandas-docs/stable/indexing.html#indexing-view-versus-copy\n",
      "  errors=errors)\n"
     ]
    }
   ],
   "source": [
    "X_df_train.drop(['mod_lb'], axis = 1, inplace = True)\n",
    "X_df_test.drop(['mod_lb'], axis = 1, inplace = True)"
   ]
  },
  {
   "cell_type": "code",
   "execution_count": 8,
   "metadata": {},
   "outputs": [
    {
     "name": "stdout",
     "output_type": "stream",
     "text": [
      "(145063, 64)\n",
      "(289671, 64)\n"
     ]
    }
   ],
   "source": [
    "print(X_df_train.shape)\n",
    "print(X_df_test.shape)"
   ]
  },
  {
   "cell_type": "code",
   "execution_count": 9,
   "metadata": {},
   "outputs": [
    {
     "data": {
      "text/plain": [
       "64149"
      ]
     },
     "execution_count": 9,
     "metadata": {},
     "output_type": "execute_result"
    }
   ],
   "source": [
    "# random sampling based on the 'incident_id'\n",
    "\n",
    "index = np.unique(X_df_train['incident_id'])\n",
    "len(index)"
   ]
  },
  {
   "cell_type": "code",
   "execution_count": 10,
   "metadata": {},
   "outputs": [
    {
     "data": {
      "text/plain": [
       "array([     2,      4,      5, ..., 128186, 128187, 128188], dtype=int64)"
      ]
     },
     "execution_count": 10,
     "metadata": {},
     "output_type": "execute_result"
    }
   ],
   "source": [
    "index"
   ]
  },
  {
   "cell_type": "code",
   "execution_count": 11,
   "metadata": {},
   "outputs": [
    {
     "name": "stdout",
     "output_type": "stream",
     "text": [
      "51319\n",
      "12830\n"
     ]
    }
   ],
   "source": [
    "from sklearn.model_selection import train_test_split\n",
    "\n",
    "index_train, index_valid = train_test_split(index, test_size = 0.2, random_state = 42)\n",
    "print(len(index_train))\n",
    "print(len(index_valid))"
   ]
  },
  {
   "cell_type": "code",
   "execution_count": 5,
   "metadata": {},
   "outputs": [],
   "source": [
    "# split X_df_train into X_train and X_valid\n",
    "\n",
    "# X_df_train.set_index(['incident_id'], inplace = True)\n",
    "# X_df_train.head()"
   ]
  },
  {
   "cell_type": "code",
   "execution_count": 13,
   "metadata": {},
   "outputs": [],
   "source": [
    "X_train = X_df_train.loc[index_train, :]\n",
    "X_valid = X_df_train.loc[index_valid, :]"
   ]
  },
  {
   "cell_type": "code",
   "execution_count": 6,
   "metadata": {},
   "outputs": [],
   "source": [
    "# X_train.reset_index()\n",
    "# X_valid.reset_index()"
   ]
  },
  {
   "cell_type": "code",
   "execution_count": 17,
   "metadata": {},
   "outputs": [],
   "source": [
    "# split y_all into y_train & y_valid"
   ]
  },
  {
   "cell_type": "code",
   "execution_count": 1,
   "metadata": {},
   "outputs": [],
   "source": [
    "# y_all.set_index(['row_id'], inplace = True)\n",
    "# y_all.head()"
   ]
  },
  {
   "cell_type": "code",
   "execution_count": 16,
   "metadata": {},
   "outputs": [],
   "source": [
    "y_train = y_all.loc[X_train['row_id'],: ]\n",
    "y_valid = y_all.loc[X_valid['row_id'], :]"
   ]
  },
  {
   "cell_type": "code",
   "execution_count": 2,
   "metadata": {},
   "outputs": [],
   "source": [
    "# y_train.head()"
   ]
  },
  {
   "cell_type": "code",
   "execution_count": 3,
   "metadata": {},
   "outputs": [],
   "source": [
    "# y_valid.tail()"
   ]
  },
  {
   "cell_type": "code",
   "execution_count": 7,
   "metadata": {},
   "outputs": [],
   "source": [
    "# y_train.reset_index()\n",
    "# y_valid.reset_index()"
   ]
  },
  {
   "cell_type": "code",
   "execution_count": 20,
   "metadata": {},
   "outputs": [],
   "source": [
    "X_train.to_pickle('X_train.pkl')\n",
    "X_valid.to_pickle('X_valid.pkl')\n",
    "y_train.to_pickle('y_train.pkl')\n",
    "y_valid.to_pickle('y_.valid.pkl')"
   ]
  },
  {
   "cell_type": "code",
   "execution_count": 32,
   "metadata": {},
   "outputs": [],
   "source": [
    "y_train.reset_index(inplace = True)"
   ]
  },
  {
   "cell_type": "code",
   "execution_count": 33,
   "metadata": {},
   "outputs": [],
   "source": [
    "y_valid.reset_index(inplace = True)"
   ]
  },
  {
   "cell_type": "code",
   "execution_count": 34,
   "metadata": {},
   "outputs": [
    {
     "data": {
      "text/plain": [
       "Index(['row_id', 'incident_id', 'vehicle_id', 'occupant_id', 'injury'], dtype='object')"
      ]
     },
     "execution_count": 34,
     "metadata": {},
     "output_type": "execute_result"
    }
   ],
   "source": [
    "y_train.columns"
   ]
  },
  {
   "cell_type": "code",
   "execution_count": 36,
   "metadata": {},
   "outputs": [
    {
     "data": {
      "text/plain": [
       "Index(['row_id', 'incident_id', 'vehicle_id', 'occupant_id', 'injury'], dtype='object')"
      ]
     },
     "execution_count": 36,
     "metadata": {},
     "output_type": "execute_result"
    }
   ],
   "source": [
    "y_valid.columns"
   ]
  },
  {
   "cell_type": "code",
   "execution_count": 37,
   "metadata": {},
   "outputs": [],
   "source": [
    "y_train.drop(['row_id', 'incident_id', 'vehicle_id', 'occupant_id'], axis = 1,inplace = True)\n",
    "y_valid.drop(['row_id', 'incident_id', 'vehicle_id', 'occupant_id'], axis = 1, inplace = True)"
   ]
  },
  {
   "cell_type": "code",
   "execution_count": 38,
   "metadata": {},
   "outputs": [
    {
     "name": "stdout",
     "output_type": "stream",
     "text": [
      "Index(['injury'], dtype='object')\n",
      "Index(['injury'], dtype='object')\n"
     ]
    }
   ],
   "source": [
    "print(y_train.columns)\n",
    "print(y_valid.columns)"
   ]
  },
  {
   "cell_type": "code",
   "execution_count": 8,
   "metadata": {},
   "outputs": [],
   "source": [
    "# X_train.columns.values"
   ]
  },
  {
   "cell_type": "code",
   "execution_count": 59,
   "metadata": {},
   "outputs": [],
   "source": [
    "X_train.reset_index(inplace = True)\n",
    "X_valid.reset_index(inplace = True)"
   ]
  },
  {
   "cell_type": "code",
   "execution_count": 9,
   "metadata": {},
   "outputs": [],
   "source": [
    "# X_train.columns.values"
   ]
  },
  {
   "cell_type": "code",
   "execution_count": 61,
   "metadata": {},
   "outputs": [
    {
     "name": "stderr",
     "output_type": "stream",
     "text": [
      "C:\\Users\\LUY1\\AppData\\Local\\Continuum\\anaconda3\\lib\\site-packages\\pandas\\core\\frame.py:3694: SettingWithCopyWarning: \n",
      "A value is trying to be set on a copy of a slice from a DataFrame\n",
      "\n",
      "See the caveats in the documentation: http://pandas.pydata.org/pandas-docs/stable/indexing.html#indexing-view-versus-copy\n",
      "  errors=errors)\n"
     ]
    }
   ],
   "source": [
    "X_train.drop(['incident_id', 'row_id', 'vehicle_id', 'occupant_id'], axis = 1, inplace = True)"
   ]
  },
  {
   "cell_type": "code",
   "execution_count": 10,
   "metadata": {},
   "outputs": [],
   "source": [
    "# X_train.columns.values"
   ]
  },
  {
   "cell_type": "code",
   "execution_count": 76,
   "metadata": {},
   "outputs": [],
   "source": [
    "#X_valid.reset_index(inplace = True)"
   ]
  },
  {
   "cell_type": "code",
   "execution_count": 66,
   "metadata": {},
   "outputs": [
    {
     "name": "stderr",
     "output_type": "stream",
     "text": [
      "C:\\Users\\LUY1\\AppData\\Local\\Continuum\\anaconda3\\lib\\site-packages\\pandas\\core\\frame.py:3694: SettingWithCopyWarning: \n",
      "A value is trying to be set on a copy of a slice from a DataFrame\n",
      "\n",
      "See the caveats in the documentation: http://pandas.pydata.org/pandas-docs/stable/indexing.html#indexing-view-versus-copy\n",
      "  errors=errors)\n"
     ]
    }
   ],
   "source": [
    "X_valid.drop(['incident_id', 'row_id', 'vehicle_id', 'occupant_id'], axis = 1, inplace = True)"
   ]
  },
  {
   "cell_type": "code",
   "execution_count": 67,
   "metadata": {},
   "outputs": [
    {
     "name": "stdout",
     "output_type": "stream",
     "text": [
      "60\n",
      "61\n"
     ]
    }
   ],
   "source": [
    "print(len(X_train.columns.values))\n",
    "print(len(X_valid.columns.values))"
   ]
  },
  {
   "cell_type": "code",
   "execution_count": 74,
   "metadata": {},
   "outputs": [
    {
     "data": {
      "text/plain": [
       "{'index'}"
      ]
     },
     "execution_count": 74,
     "metadata": {},
     "output_type": "execute_result"
    }
   ],
   "source": [
    "set(X_valid.columns.values).difference(set(X_train.columns.values))"
   ]
  },
  {
   "cell_type": "code",
   "execution_count": 77,
   "metadata": {},
   "outputs": [
    {
     "name": "stderr",
     "output_type": "stream",
     "text": [
      "C:\\Users\\LUY1\\AppData\\Local\\Continuum\\anaconda3\\lib\\site-packages\\pandas\\core\\frame.py:3694: SettingWithCopyWarning: \n",
      "A value is trying to be set on a copy of a slice from a DataFrame\n",
      "\n",
      "See the caveats in the documentation: http://pandas.pydata.org/pandas-docs/stable/indexing.html#indexing-view-versus-copy\n",
      "  errors=errors)\n"
     ]
    }
   ],
   "source": [
    "X_valid.drop(['index'], axis = 1, inplace = True)"
   ]
  },
  {
   "cell_type": "code",
   "execution_count": 78,
   "metadata": {},
   "outputs": [
    {
     "data": {
      "text/plain": [
       "60"
      ]
     },
     "execution_count": 78,
     "metadata": {},
     "output_type": "execute_result"
    }
   ],
   "source": [
    "len(X_valid.columns.values)"
   ]
  },
  {
   "cell_type": "code",
   "execution_count": 11,
   "metadata": {},
   "outputs": [],
   "source": [
    "# X_valid.columns.values"
   ]
  },
  {
   "cell_type": "code",
   "execution_count": 80,
   "metadata": {},
   "outputs": [
    {
     "data": {
      "text/html": [
       "<div>\n",
       "<style scoped>\n",
       "    .dataframe tbody tr th:only-of-type {\n",
       "        vertical-align: middle;\n",
       "    }\n",
       "\n",
       "    .dataframe tbody tr th {\n",
       "        vertical-align: top;\n",
       "    }\n",
       "\n",
       "    .dataframe thead th {\n",
       "        text-align: right;\n",
       "    }\n",
       "</style>\n",
       "<table border=\"1\" class=\"dataframe\">\n",
       "  <thead>\n",
       "    <tr style=\"text-align: right;\">\n",
       "      <th></th>\n",
       "      <th>injury</th>\n",
       "    </tr>\n",
       "  </thead>\n",
       "  <tbody>\n",
       "    <tr>\n",
       "      <th>0</th>\n",
       "      <td>4</td>\n",
       "    </tr>\n",
       "    <tr>\n",
       "      <th>1</th>\n",
       "      <td>0</td>\n",
       "    </tr>\n",
       "    <tr>\n",
       "      <th>2</th>\n",
       "      <td>0</td>\n",
       "    </tr>\n",
       "    <tr>\n",
       "      <th>3</th>\n",
       "      <td>3</td>\n",
       "    </tr>\n",
       "    <tr>\n",
       "      <th>4</th>\n",
       "      <td>4</td>\n",
       "    </tr>\n",
       "  </tbody>\n",
       "</table>\n",
       "</div>"
      ],
      "text/plain": [
       "   injury\n",
       "0       4\n",
       "1       0\n",
       "2       0\n",
       "3       3\n",
       "4       4"
      ]
     },
     "execution_count": 80,
     "metadata": {},
     "output_type": "execute_result"
    }
   ],
   "source": [
    "y_train.head()"
   ]
  },
  {
   "cell_type": "code",
   "execution_count": 81,
   "metadata": {},
   "outputs": [],
   "source": [
    "# fit Lightgbm model\n",
    "\n",
    "import lightgbm as lgb\n",
    "\n",
    "lgbtrain = lgb.Dataset(X_train, label = y_train)\n",
    "lgbvalid = lgb.Dataset(X_valid, label = y_valid)"
   ]
  },
  {
   "cell_type": "code",
   "execution_count": 82,
   "metadata": {},
   "outputs": [],
   "source": [
    "\n",
    "params = {'objective': 'multiclass',\n",
    "          'num_class': 5,\n",
    "         'metric': 'multi_logloss',\n",
    "         'num_leaves': 31,\n",
    "          'max_depth': 7,\n",
    "         'learning_rate': 0.05,\n",
    "         'feature_fraction': 0.9,\n",
    "         'bagging_fraction': 0.8,\n",
    "         'bagging_freq': 5,\n",
    "         'verbose': 1}"
   ]
  },
  {
   "cell_type": "code",
   "execution_count": 86,
   "metadata": {},
   "outputs": [
    {
     "name": "stdout",
     "output_type": "stream",
     "text": [
      "Training until validation scores don't improve for 50 rounds.\n",
      "[50]\tvalid_0's multi_logloss: 0.992096\n",
      "[100]\tvalid_0's multi_logloss: 0.930797\n",
      "[150]\tvalid_0's multi_logloss: 0.909289\n",
      "[200]\tvalid_0's multi_logloss: 0.897272\n",
      "[250]\tvalid_0's multi_logloss: 0.89013\n",
      "[300]\tvalid_0's multi_logloss: 0.885265\n",
      "[350]\tvalid_0's multi_logloss: 0.882178\n",
      "[400]\tvalid_0's multi_logloss: 0.87979\n",
      "[450]\tvalid_0's multi_logloss: 0.878336\n",
      "[500]\tvalid_0's multi_logloss: 0.87644\n",
      "[550]\tvalid_0's multi_logloss: 0.875607\n",
      "[600]\tvalid_0's multi_logloss: 0.874579\n",
      "[650]\tvalid_0's multi_logloss: 0.87434\n",
      "[700]\tvalid_0's multi_logloss: 0.874415\n",
      "Early stopping, best iteration is:\n",
      "[657]\tvalid_0's multi_logloss: 0.874216\n",
      "Wall time: 2min 56s\n"
     ]
    }
   ],
   "source": [
    "\n",
    "%%time\n",
    "\n",
    "mod_lgb_1 = lgb.train(params = params,\n",
    "                   train_set = lgbtrain,\n",
    "                   num_boost_round = 5000,\n",
    "                   valid_sets = lgbvalid,\n",
    "                   early_stopping_rounds = 50,\n",
    "                   verbose_eval = 50)\n",
    "\n"
   ]
  },
  {
   "cell_type": "code",
   "execution_count": 85,
   "metadata": {},
   "outputs": [
    {
     "data": {
      "text/plain": [
       "Index(['total_veh_in_inc', 'total_occ_in_inc', 'total_occ_in_veh',\n",
       "       'actual_veh_in_inc', 'actual_per_in_inc', 'actual_occ_in_veh',\n",
       "       'actual_ped', 'inc_day', 'inc_region', 'inc_daylight', 'inc_weather',\n",
       "       'veh_roadcond', 'veh_roadslope', 'veh_lanes', 'veh_lanediv',\n",
       "       'veh_speedlim', 'occ_age', 'occ_sex', 'occ_role', 'occ_position',\n",
       "       'occ_seatbelt', 'occ_airbag', 'occ_alcohol', 'veh_owner', 'veh_type',\n",
       "       'veh_style', 'veh_weight', 'veh_manu', 'veh_doors', 'veh_wheels',\n",
       "       'veh_drive', 'veh_fuel', 'veh_eng1', 'veh_eng2', 'veh_trailer',\n",
       "       'drv_height', 'drv_weight', 'drv_licence', 'drv_status', 'drv_crash',\n",
       "       'drv_pts', 'drv_dui', 'drv_spd', 'drv_alcohol', 'inc_type',\n",
       "       'inc_speeding', 'veh_speed', 'veh_braking', 'veh_stability',\n",
       "       'veh_movement', 'veh_impact', 'inc_descrip', 'veh_descrip',\n",
       "       'veh_damage', 'veh_age_new', 'drv_ban1_new', 'drv_ban2_new',\n",
       "       'inc_month_new', 'inc_hour_new', 'veh_inc_maxage'],\n",
       "      dtype='object')"
      ]
     },
     "execution_count": 85,
     "metadata": {},
     "output_type": "execute_result"
    }
   ],
   "source": [
    "X_train.columns"
   ]
  },
  {
   "cell_type": "code",
   "execution_count": 102,
   "metadata": {},
   "outputs": [],
   "source": [
    "# lightgbm with categorical features\n",
    "\n",
    "feature_name = X_train.columns.values\n",
    "categorical_feature = ['inc_day', 'inc_region', 'inc_daylight', 'inc_weather', 'veh_roadcond', 'veh_roadslope', 'veh_lanediv',\n",
    "                      'occ_age', 'occ_sex', 'occ_role', 'occ_position', 'occ_seatbelt', 'occ_airbag', 'veh_owner',\n",
    "                      'veh_type', 'veh_style', 'veh_weight', 'veh_manu', 'veh_drive', 'veh_fuel', 'veh_trailer', 'drv_licence',\n",
    "                       'drv_status', 'inc_type', 'veh_braking', 'veh_stability', 'veh_movement', 'veh_impact', 'inc_descrip',\n",
    "                       'veh_descrip', 'veh_damage', 'inc_month_new']\n",
    "\n",
    "\n",
    "lgbtrain = lgb.Dataset(X_train, label = y_train, feature_name = list(feature_name), categorical_feature = categorical_feature)\n",
    "lgbvalid = lgb.Dataset(X_valid, label = y_valid, feature_name = list(feature_name), categorical_feature = categorical_feature)\n",
    "\n",
    "\n",
    "params_2 = {'objective': 'multiclass',\n",
    "           'num_class': 5,\n",
    "           'metric': 'multi_logloss',\n",
    "           'num_leaves': 31,\n",
    "           'max_depth': 7,\n",
    "           'learning_rate': 0.05,\n",
    "           'feature_fraction': 0.9,\n",
    "           'bagging_fraction': 0.8,\n",
    "           'bagging_freq': 5,\n",
    "           'verbose': 1}"
   ]
  },
  {
   "cell_type": "code",
   "execution_count": 12,
   "metadata": {},
   "outputs": [],
   "source": [
    "# feature_name"
   ]
  },
  {
   "cell_type": "code",
   "execution_count": 13,
   "metadata": {},
   "outputs": [],
   "source": [
    "# list(feature_name)"
   ]
  },
  {
   "cell_type": "code",
   "execution_count": 14,
   "metadata": {},
   "outputs": [],
   "source": [
    "# set(feature_name).difference(set(categorical_feature))"
   ]
  },
  {
   "cell_type": "code",
   "execution_count": 95,
   "metadata": {},
   "outputs": [
    {
     "data": {
      "text/plain": [
       "32"
      ]
     },
     "execution_count": 95,
     "metadata": {},
     "output_type": "execute_result"
    }
   ],
   "source": [
    "len(categorical_feature)"
   ]
  },
  {
   "cell_type": "code",
   "execution_count": 97,
   "metadata": {},
   "outputs": [
    {
     "data": {
      "text/plain": [
       "60"
      ]
     },
     "execution_count": 97,
     "metadata": {},
     "output_type": "execute_result"
    }
   ],
   "source": [
    "len(feature_name)"
   ]
  },
  {
   "cell_type": "code",
   "execution_count": 103,
   "metadata": {},
   "outputs": [
    {
     "name": "stderr",
     "output_type": "stream",
     "text": [
      "C:\\Users\\LUY1\\AppData\\Local\\Continuum\\anaconda3\\lib\\site-packages\\lightgbm\\basic.py:1184: UserWarning: Using categorical_feature in Dataset.\n",
      "  warnings.warn('Using categorical_feature in Dataset.')\n",
      "C:\\Users\\LUY1\\AppData\\Local\\Continuum\\anaconda3\\lib\\site-packages\\lightgbm\\basic.py:742: UserWarning: categorical_feature in param dict is overridden.\n",
      "  warnings.warn('categorical_feature in param dict is overridden.')\n"
     ]
    },
    {
     "name": "stdout",
     "output_type": "stream",
     "text": [
      "Training until validation scores don't improve for 50 rounds.\n",
      "[40]\tvalid_0's multi_logloss: 1.00669\n",
      "[80]\tvalid_0's multi_logloss: 0.930659\n",
      "[120]\tvalid_0's multi_logloss: 0.90851\n",
      "[160]\tvalid_0's multi_logloss: 0.898025\n",
      "[200]\tvalid_0's multi_logloss: 0.892605\n",
      "[240]\tvalid_0's multi_logloss: 0.888655\n",
      "[280]\tvalid_0's multi_logloss: 0.8862\n",
      "[320]\tvalid_0's multi_logloss: 0.884984\n",
      "[360]\tvalid_0's multi_logloss: 0.884018\n",
      "[400]\tvalid_0's multi_logloss: 0.883016\n",
      "[440]\tvalid_0's multi_logloss: 0.882738\n",
      "[480]\tvalid_0's multi_logloss: 0.882884\n",
      "Early stopping, best iteration is:\n",
      "[430]\tvalid_0's multi_logloss: 0.882612\n"
     ]
    }
   ],
   "source": [
    "mod_lgb_2 = lgb.train(params = params_2,\n",
    "                     train_set = lgbtrain,\n",
    "                     num_boost_round = 5000,\n",
    "                     valid_sets = lgbvalid,\n",
    "                     early_stopping_rounds = 50,\n",
    "                     verbose_eval = 40)"
   ]
  },
  {
   "cell_type": "code",
   "execution_count": null,
   "metadata": {},
   "outputs": [],
   "source": []
  }
 ],
 "metadata": {
  "kernelspec": {
   "display_name": "Python 3",
   "language": "python",
   "name": "python3"
  },
  "language_info": {
   "codemirror_mode": {
    "name": "ipython",
    "version": 3
   },
   "file_extension": ".py",
   "mimetype": "text/x-python",
   "name": "python",
   "nbconvert_exporter": "python",
   "pygments_lexer": "ipython3",
   "version": "3.6.5"
  }
 },
 "nbformat": 4,
 "nbformat_minor": 2
}
