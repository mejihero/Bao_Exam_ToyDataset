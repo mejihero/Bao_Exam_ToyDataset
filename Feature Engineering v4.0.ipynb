{
 "cells": [
  {
   "cell_type": "code",
   "execution_count": 1,
   "metadata": {},
   "outputs": [],
   "source": [
    "import numpy as np\n",
    "import pandas as pd"
   ]
  },
  {
   "cell_type": "code",
   "execution_count": 1,
   "metadata": {},
   "outputs": [],
   "source": [
    "# df = pd.read_pickle('df_all_1.pkl')\n",
    "# df.head()"
   ]
  },
  {
   "cell_type": "code",
   "execution_count": 14,
   "metadata": {},
   "outputs": [],
   "source": [
    "# impute numeric variable with median\n",
    "\n",
    "for col in df.select_dtypes(exclude = ['object']).columns:\n",
    "    df[col].fillna(df[col].median(), inplace = True)"
   ]
  },
  {
   "cell_type": "code",
   "execution_count": 2,
   "metadata": {},
   "outputs": [],
   "source": [
    "# df.select_dtypes(exclude = ['object']).head()"
   ]
  },
  {
   "cell_type": "code",
   "execution_count": 3,
   "metadata": {},
   "outputs": [],
   "source": [
    "# df.head()"
   ]
  },
  {
   "cell_type": "code",
   "execution_count": 4,
   "metadata": {},
   "outputs": [],
   "source": [
    "# for col in df.columns:\n",
    "#     print('Column name: ', col)\n",
    "#     print(df[col].isnull().sum())"
   ]
  },
  {
   "cell_type": "code",
   "execution_count": 19,
   "metadata": {},
   "outputs": [
    {
     "data": {
      "text/plain": [
       "Truck            226383\n",
       "Passenger Car    164808\n",
       "Motorcycle        33645\n",
       "NaN                9898\n",
       "Name: veh_type, dtype: int64"
      ]
     },
     "execution_count": 19,
     "metadata": {},
     "output_type": "execute_result"
    }
   ],
   "source": [
    "df['veh_type'].value_counts(dropna = False)"
   ]
  },
  {
   "cell_type": "code",
   "execution_count": 25,
   "metadata": {},
   "outputs": [
    {
     "data": {
      "text/plain": [
       "'Truck'"
      ]
     },
     "execution_count": 25,
     "metadata": {},
     "output_type": "execute_result"
    }
   ],
   "source": [
    "df['veh_type'].value_counts(dropna = False).index.tolist()[0]"
   ]
  },
  {
   "cell_type": "code",
   "execution_count": 27,
   "metadata": {},
   "outputs": [],
   "source": [
    "for col in df.select_dtypes(include = ['object']).columns:\n",
    "    df[col].fillna(df[col].value_counts().index.tolist()[0], inplace = True)"
   ]
  },
  {
   "cell_type": "code",
   "execution_count": 5,
   "metadata": {},
   "outputs": [],
   "source": [
    "# for col in df.select_dtypes(include = ['object']).columns:\n",
    "#     print('column name: ', col)\n",
    "#     print(df[col].isnull().sum())"
   ]
  },
  {
   "cell_type": "code",
   "execution_count": 29,
   "metadata": {},
   "outputs": [],
   "source": [
    "df.to_pickle('df_all_4.pkl')"
   ]
  },
  {
   "cell_type": "code",
   "execution_count": 6,
   "metadata": {},
   "outputs": [],
   "source": [
    "# df.head()"
   ]
  },
  {
   "cell_type": "code",
   "execution_count": 7,
   "metadata": {},
   "outputs": [],
   "source": [
    "# df_2 = df.drop(['mod_lb'], axis = 1).copy()\n",
    "# df_2.head()"
   ]
  },
  {
   "cell_type": "code",
   "execution_count": 32,
   "metadata": {},
   "outputs": [
    {
     "data": {
      "text/plain": [
       "(434734, 307)"
      ]
     },
     "execution_count": 32,
     "metadata": {},
     "output_type": "execute_result"
    }
   ],
   "source": [
    "df_2 = pd.get_dummies(df_2)\n",
    "df_2.shape"
   ]
  },
  {
   "cell_type": "code",
   "execution_count": 8,
   "metadata": {},
   "outputs": [],
   "source": [
    "# df_2.columns.values"
   ]
  },
  {
   "cell_type": "code",
   "execution_count": 35,
   "metadata": {},
   "outputs": [
    {
     "data": {
      "text/plain": [
       "(434734, 307)"
      ]
     },
     "execution_count": 35,
     "metadata": {},
     "output_type": "execute_result"
    }
   ],
   "source": [
    "df_2.shape"
   ]
  },
  {
   "cell_type": "code",
   "execution_count": 36,
   "metadata": {},
   "outputs": [
    {
     "data": {
      "text/plain": [
       "(434734, 308)"
      ]
     },
     "execution_count": 36,
     "metadata": {},
     "output_type": "execute_result"
    }
   ],
   "source": [
    "df_new = pd.concat([df_2, df['mod_lb']], axis = 1)\n",
    "df_new.shape"
   ]
  },
  {
   "cell_type": "code",
   "execution_count": 9,
   "metadata": {},
   "outputs": [],
   "source": [
    "# df_new.tail()"
   ]
  },
  {
   "cell_type": "code",
   "execution_count": 38,
   "metadata": {},
   "outputs": [],
   "source": [
    "df_new.to_pickle('df_all_5.pkl')"
   ]
  },
  {
   "cell_type": "code",
   "execution_count": 41,
   "metadata": {},
   "outputs": [],
   "source": [
    "# split the dataset into train and test\n",
    "\n",
    "df_train = df_new.loc[df_new['mod_lb'] == 'train', :]\n",
    "df_test = df_new.loc[df_new['mod_lb'] == 'test', : ]"
   ]
  },
  {
   "cell_type": "code",
   "execution_count": 10,
   "metadata": {},
   "outputs": [],
   "source": [
    "# df_ck = df_new.loc[df_new['mod_lb'] == 'test', :]\n",
    "# df_ck.head()"
   ]
  },
  {
   "cell_type": "code",
   "execution_count": 111,
   "metadata": {},
   "outputs": [
    {
     "data": {
      "text/plain": [
       "1"
      ]
     },
     "execution_count": 111,
     "metadata": {},
     "output_type": "execute_result"
    }
   ],
   "source": [
    "min(df_ck['row_id'])"
   ]
  },
  {
   "cell_type": "code",
   "execution_count": 112,
   "metadata": {},
   "outputs": [
    {
     "data": {
      "text/plain": [
       "289671"
      ]
     },
     "execution_count": 112,
     "metadata": {},
     "output_type": "execute_result"
    }
   ],
   "source": [
    "max(df_ck['row_id'])"
   ]
  },
  {
   "cell_type": "code",
   "execution_count": 113,
   "metadata": {},
   "outputs": [
    {
     "name": "stderr",
     "output_type": "stream",
     "text": [
      "C:\\Users\\LUY1\\AppData\\Local\\Continuum\\anaconda3\\lib\\site-packages\\ipykernel_launcher.py:1: SettingWithCopyWarning: \n",
      "A value is trying to be set on a copy of a slice from a DataFrame\n",
      "\n",
      "See the caveats in the documentation: http://pandas.pydata.org/pandas-docs/stable/indexing.html#indexing-view-versus-copy\n",
      "  \"\"\"Entry point for launching an IPython kernel.\n"
     ]
    }
   ],
   "source": [
    "df_ck.sort_values(by = ['row_id'], inplace = True)"
   ]
  },
  {
   "cell_type": "code",
   "execution_count": 11,
   "metadata": {},
   "outputs": [],
   "source": [
    "# df_ck.head()"
   ]
  },
  {
   "cell_type": "code",
   "execution_count": 115,
   "metadata": {},
   "outputs": [
    {
     "data": {
      "text/plain": [
       "(289671, 308)"
      ]
     },
     "execution_count": 115,
     "metadata": {},
     "output_type": "execute_result"
    }
   ],
   "source": [
    "df_ck.shape"
   ]
  },
  {
   "cell_type": "code",
   "execution_count": 116,
   "metadata": {},
   "outputs": [
    {
     "name": "stderr",
     "output_type": "stream",
     "text": [
      "C:\\Users\\LUY1\\AppData\\Local\\Continuum\\anaconda3\\lib\\site-packages\\pandas\\core\\frame.py:3694: SettingWithCopyWarning: \n",
      "A value is trying to be set on a copy of a slice from a DataFrame\n",
      "\n",
      "See the caveats in the documentation: http://pandas.pydata.org/pandas-docs/stable/indexing.html#indexing-view-versus-copy\n",
      "  errors=errors)\n"
     ]
    }
   ],
   "source": [
    "df_ck.drop(['mod_lb'], axis = 1, inplace = True)"
   ]
  },
  {
   "cell_type": "code",
   "execution_count": 12,
   "metadata": {},
   "outputs": [],
   "source": [
    "# df_ck.head()"
   ]
  },
  {
   "cell_type": "code",
   "execution_count": 13,
   "metadata": {},
   "outputs": [],
   "source": [
    "# df_ck.drop(['row_id', 'incident_id', 'vehicle_id', 'occupant_id'], axis = 1, inplace = True)\n",
    "# df_ck.head()"
   ]
  },
  {
   "cell_type": "code",
   "execution_count": 122,
   "metadata": {},
   "outputs": [
    {
     "data": {
      "text/plain": [
       "(289671, 303)"
      ]
     },
     "execution_count": 122,
     "metadata": {},
     "output_type": "execute_result"
    }
   ],
   "source": [
    "df_ck.shape"
   ]
  },
  {
   "cell_type": "code",
   "execution_count": null,
   "metadata": {},
   "outputs": [],
   "source": []
  },
  {
   "cell_type": "code",
   "execution_count": 43,
   "metadata": {},
   "outputs": [
    {
     "name": "stderr",
     "output_type": "stream",
     "text": [
      "C:\\Users\\LUY1\\AppData\\Local\\Continuum\\anaconda3\\lib\\site-packages\\pandas\\core\\frame.py:3694: SettingWithCopyWarning: \n",
      "A value is trying to be set on a copy of a slice from a DataFrame\n",
      "\n",
      "See the caveats in the documentation: http://pandas.pydata.org/pandas-docs/stable/indexing.html#indexing-view-versus-copy\n",
      "  errors=errors)\n"
     ]
    }
   ],
   "source": [
    "df_train.drop(['mod_lb'], axis = 1, inplace = True)\n",
    "df_test.drop(['mod_lb'], axis = 1, inplace = True)"
   ]
  },
  {
   "cell_type": "code",
   "execution_count": 45,
   "metadata": {},
   "outputs": [
    {
     "name": "stdout",
     "output_type": "stream",
     "text": [
      "(145063, 307)\n",
      "(289671, 307)\n"
     ]
    }
   ],
   "source": [
    "print(df_train.shape)\n",
    "print(df_test.shape)"
   ]
  },
  {
   "cell_type": "code",
   "execution_count": 46,
   "metadata": {},
   "outputs": [],
   "source": [
    "from sklearn.model_selection import train_test_split\n",
    "\n",
    "index_train, index_valid = train_test_split(df_train['incident_id'], test_size = 0.2, random_state = 123)"
   ]
  },
  {
   "cell_type": "code",
   "execution_count": 48,
   "metadata": {},
   "outputs": [],
   "source": [
    "df_train.set_index(['incident_id'], inplace = True)"
   ]
  },
  {
   "cell_type": "code",
   "execution_count": 14,
   "metadata": {},
   "outputs": [],
   "source": [
    "# df_train.head()"
   ]
  },
  {
   "cell_type": "code",
   "execution_count": 51,
   "metadata": {},
   "outputs": [
    {
     "name": "stdout",
     "output_type": "stream",
     "text": [
      "128188\n",
      "2\n"
     ]
    }
   ],
   "source": [
    "print(max(index_train))\n",
    "print(min(index_train))"
   ]
  },
  {
   "cell_type": "code",
   "execution_count": 52,
   "metadata": {},
   "outputs": [
    {
     "name": "stdout",
     "output_type": "stream",
     "text": [
      "128186\n",
      "4\n"
     ]
    }
   ],
   "source": [
    "print(max(index_valid))\n",
    "print(min(index_valid))"
   ]
  },
  {
   "cell_type": "code",
   "execution_count": 54,
   "metadata": {},
   "outputs": [
    {
     "name": "stdout",
     "output_type": "stream",
     "text": [
      "128188\n",
      "2\n"
     ]
    }
   ],
   "source": [
    "print(max(df_train.index))\n",
    "print(min(df_train.index))"
   ]
  },
  {
   "cell_type": "code",
   "execution_count": 15,
   "metadata": {},
   "outputs": [],
   "source": [
    "# df_train.loc[2]"
   ]
  },
  {
   "cell_type": "code",
   "execution_count": 58,
   "metadata": {},
   "outputs": [],
   "source": [
    "X_train = df_train.loc[index_train]\n",
    "X_valid = df_train.loc[index_valid]"
   ]
  },
  {
   "cell_type": "code",
   "execution_count": 60,
   "metadata": {},
   "outputs": [],
   "source": [
    "X_train.reset_index(inplace = True)\n",
    "X_valid.reset_index(inplace = True)"
   ]
  },
  {
   "cell_type": "code",
   "execution_count": 16,
   "metadata": {},
   "outputs": [],
   "source": [
    "# X_train.head()"
   ]
  },
  {
   "cell_type": "code",
   "execution_count": 1,
   "metadata": {},
   "outputs": [],
   "source": [
    "# y = pd.read_pickle('y_resp.pkl')\n",
    "# y.head()"
   ]
  },
  {
   "cell_type": "code",
   "execution_count": 63,
   "metadata": {},
   "outputs": [],
   "source": [
    "y.set_index(['incident_id'], inplace = True)"
   ]
  },
  {
   "cell_type": "code",
   "execution_count": 64,
   "metadata": {},
   "outputs": [],
   "source": [
    "y_train = y.loc[index_train]\n",
    "y_valid = y.loc[index_valid]"
   ]
  },
  {
   "cell_type": "code",
   "execution_count": 66,
   "metadata": {},
   "outputs": [],
   "source": [
    "y_train.reset_index(inplace = True)\n",
    "y_valid.reset_index(inplace = True)"
   ]
  },
  {
   "cell_type": "code",
   "execution_count": 68,
   "metadata": {},
   "outputs": [
    {
     "name": "stdout",
     "output_type": "stream",
     "text": [
      "(434047, 307)\n",
      "(107890, 307)\n",
      "(434047, 5)\n",
      "(107890, 5)\n"
     ]
    }
   ],
   "source": [
    "print(X_train.shape)\n",
    "print(X_valid.shape)\n",
    "print(y_train.shape)\n",
    "print(y_valid.shape)"
   ]
  },
  {
   "cell_type": "code",
   "execution_count": 69,
   "metadata": {},
   "outputs": [
    {
     "name": "stderr",
     "output_type": "stream",
     "text": [
      "C:\\Users\\LUY1\\AppData\\Local\\Continuum\\anaconda3\\lib\\site-packages\\pandas\\core\\frame.py:3694: SettingWithCopyWarning: \n",
      "A value is trying to be set on a copy of a slice from a DataFrame\n",
      "\n",
      "See the caveats in the documentation: http://pandas.pydata.org/pandas-docs/stable/indexing.html#indexing-view-versus-copy\n",
      "  errors=errors)\n"
     ]
    }
   ],
   "source": [
    "X_train.drop(['row_id', 'incident_id', 'vehicle_id', 'occupant_id'], axis = 1, inplace = True)\n",
    "X_valid.drop(['row_id', 'incident_id', 'vehicle_id', 'occupant_id'], axis = 1, inplace = True)\n",
    "y_train.drop(['row_id', 'incident_id', 'vehicle_id', 'occupant_id'], axis = 1, inplace = True)\n",
    "y_valid.drop(['row_id', 'incident_id', 'vehicle_id', 'occupant_id'], axis = 1, inplace = True)"
   ]
  },
  {
   "cell_type": "code",
   "execution_count": 119,
   "metadata": {},
   "outputs": [
    {
     "name": "stdout",
     "output_type": "stream",
     "text": [
      "(434047, 303)\n"
     ]
    }
   ],
   "source": [
    "print(X_train.shape)"
   ]
  },
  {
   "cell_type": "code",
   "execution_count": 120,
   "metadata": {},
   "outputs": [
    {
     "name": "stdout",
     "output_type": "stream",
     "text": [
      "(107890, 303)\n"
     ]
    }
   ],
   "source": [
    "print(X_valid.shape)"
   ]
  },
  {
   "cell_type": "code",
   "execution_count": null,
   "metadata": {},
   "outputs": [],
   "source": []
  },
  {
   "cell_type": "code",
   "execution_count": 70,
   "metadata": {},
   "outputs": [],
   "source": [
    "# fit lightgbm models 1. without identifing categorical features 2. identifing categorical features"
   ]
  },
  {
   "cell_type": "code",
   "execution_count": 2,
   "metadata": {},
   "outputs": [],
   "source": [
    "# X_train.columns"
   ]
  },
  {
   "cell_type": "code",
   "execution_count": 72,
   "metadata": {},
   "outputs": [],
   "source": [
    "import lightgbm as lgb\n",
    "\n",
    "lgbtrain = lgb.Dataset(X_train, label = y_train)\n",
    "lgbvalid = lgb.Dataset(X_valid, label = y_valid)"
   ]
  },
  {
   "cell_type": "code",
   "execution_count": 98,
   "metadata": {},
   "outputs": [],
   "source": [
    "params_1 = {'objective': 'multiclass',\n",
    "          'num_class': 5,\n",
    "         'metric': 'multi_logloss',\n",
    "         'num_leaves': 31,\n",
    "          'max_depth': 7,\n",
    "         'learning_rate': 0.05,\n",
    "         'feature_fraction': 0.9,\n",
    "         'bagging_fraction': 0.8,\n",
    "         'bagging_freq': 5,\n",
    "         'verbose': 1}"
   ]
  },
  {
   "cell_type": "code",
   "execution_count": 102,
   "metadata": {},
   "outputs": [],
   "source": [
    "watchlist = [ (lgbtrain,'train'), (lgbvalid, 'valid')]"
   ]
  },
  {
   "cell_type": "code",
   "execution_count": 103,
   "metadata": {},
   "outputs": [
    {
     "data": {
      "text/plain": [
       "[(<lightgbm.basic.Dataset at 0x1a81b828>, 'train'),\n",
       " (<lightgbm.basic.Dataset at 0x14df95f8>, 'valid')]"
      ]
     },
     "execution_count": 103,
     "metadata": {},
     "output_type": "execute_result"
    }
   ],
   "source": [
    "watchlist"
   ]
  },
  {
   "cell_type": "code",
   "execution_count": 109,
   "metadata": {},
   "outputs": [
    {
     "name": "stdout",
     "output_type": "stream",
     "text": [
      "Training until validation scores don't improve for 50 rounds.\n",
      "[40]\ttraining's multi_logloss: 1.15174\tvalid_1's multi_logloss: 1.15649\n",
      "[80]\ttraining's multi_logloss: 1.06096\tvalid_1's multi_logloss: 1.06939\n",
      "[120]\ttraining's multi_logloss: 1.01252\tvalid_1's multi_logloss: 1.02447\n",
      "[160]\ttraining's multi_logloss: 0.98008\tvalid_1's multi_logloss: 0.995008\n",
      "[200]\ttraining's multi_logloss: 0.954935\tvalid_1's multi_logloss: 0.972002\n",
      "[240]\ttraining's multi_logloss: 0.934455\tvalid_1's multi_logloss: 0.953592\n",
      "[280]\ttraining's multi_logloss: 0.916474\tvalid_1's multi_logloss: 0.937775\n",
      "[320]\ttraining's multi_logloss: 0.901248\tvalid_1's multi_logloss: 0.924149\n",
      "[360]\ttraining's multi_logloss: 0.887311\tvalid_1's multi_logloss: 0.911604\n",
      "[400]\ttraining's multi_logloss: 0.874357\tvalid_1's multi_logloss: 0.900089\n",
      "[440]\ttraining's multi_logloss: 0.862734\tvalid_1's multi_logloss: 0.889998\n",
      "[480]\ttraining's multi_logloss: 0.851488\tvalid_1's multi_logloss: 0.879941\n",
      "[520]\ttraining's multi_logloss: 0.840846\tvalid_1's multi_logloss: 0.870831\n",
      "[560]\ttraining's multi_logloss: 0.830604\tvalid_1's multi_logloss: 0.861775\n",
      "[600]\ttraining's multi_logloss: 0.821443\tvalid_1's multi_logloss: 0.853861\n",
      "[640]\ttraining's multi_logloss: 0.812209\tvalid_1's multi_logloss: 0.845647\n",
      "[680]\ttraining's multi_logloss: 0.803443\tvalid_1's multi_logloss: 0.837874\n",
      "[720]\ttraining's multi_logloss: 0.795148\tvalid_1's multi_logloss: 0.830483\n",
      "[760]\ttraining's multi_logloss: 0.787057\tvalid_1's multi_logloss: 0.823259\n",
      "[800]\ttraining's multi_logloss: 0.778862\tvalid_1's multi_logloss: 0.815998\n",
      "[840]\ttraining's multi_logloss: 0.771056\tvalid_1's multi_logloss: 0.809332\n",
      "[880]\ttraining's multi_logloss: 0.763481\tvalid_1's multi_logloss: 0.802724\n",
      "[920]\ttraining's multi_logloss: 0.756008\tvalid_1's multi_logloss: 0.796089\n",
      "[960]\ttraining's multi_logloss: 0.748845\tvalid_1's multi_logloss: 0.789837\n",
      "[1000]\ttraining's multi_logloss: 0.741909\tvalid_1's multi_logloss: 0.783715\n",
      "[1040]\ttraining's multi_logloss: 0.734929\tvalid_1's multi_logloss: 0.777531\n",
      "[1080]\ttraining's multi_logloss: 0.728138\tvalid_1's multi_logloss: 0.771619\n",
      "[1120]\ttraining's multi_logloss: 0.721343\tvalid_1's multi_logloss: 0.765625\n",
      "[1160]\ttraining's multi_logloss: 0.714922\tvalid_1's multi_logloss: 0.759976\n",
      "[1200]\ttraining's multi_logloss: 0.708896\tvalid_1's multi_logloss: 0.75472\n",
      "[1240]\ttraining's multi_logloss: 0.702377\tvalid_1's multi_logloss: 0.749049\n",
      "[1280]\ttraining's multi_logloss: 0.69622\tvalid_1's multi_logloss: 0.74377\n",
      "[1320]\ttraining's multi_logloss: 0.689665\tvalid_1's multi_logloss: 0.737962\n",
      "[1360]\ttraining's multi_logloss: 0.68371\tvalid_1's multi_logloss: 0.732772\n",
      "[1400]\ttraining's multi_logloss: 0.677948\tvalid_1's multi_logloss: 0.727668\n",
      "[1440]\ttraining's multi_logloss: 0.672522\tvalid_1's multi_logloss: 0.72294\n",
      "[1480]\ttraining's multi_logloss: 0.667074\tvalid_1's multi_logloss: 0.718099\n",
      "[1520]\ttraining's multi_logloss: 0.661708\tvalid_1's multi_logloss: 0.713348\n",
      "[1560]\ttraining's multi_logloss: 0.656527\tvalid_1's multi_logloss: 0.708769\n",
      "[1600]\ttraining's multi_logloss: 0.651203\tvalid_1's multi_logloss: 0.704063\n",
      "[1640]\ttraining's multi_logloss: 0.646354\tvalid_1's multi_logloss: 0.699913\n",
      "[1680]\ttraining's multi_logloss: 0.64132\tvalid_1's multi_logloss: 0.695435\n",
      "[1720]\ttraining's multi_logloss: 0.636401\tvalid_1's multi_logloss: 0.691145\n",
      "[1760]\ttraining's multi_logloss: 0.631284\tvalid_1's multi_logloss: 0.686481\n",
      "[1800]\ttraining's multi_logloss: 0.626635\tvalid_1's multi_logloss: 0.682303\n",
      "[1840]\ttraining's multi_logloss: 0.621731\tvalid_1's multi_logloss: 0.677979\n",
      "[1880]\ttraining's multi_logloss: 0.61706\tvalid_1's multi_logloss: 0.673863\n",
      "[1920]\ttraining's multi_logloss: 0.61229\tvalid_1's multi_logloss: 0.669643\n",
      "[1960]\ttraining's multi_logloss: 0.60762\tvalid_1's multi_logloss: 0.665445\n",
      "[2000]\ttraining's multi_logloss: 0.603117\tvalid_1's multi_logloss: 0.661481\n",
      "[2040]\ttraining's multi_logloss: 0.598504\tvalid_1's multi_logloss: 0.657323\n",
      "[2080]\ttraining's multi_logloss: 0.594124\tvalid_1's multi_logloss: 0.653368\n",
      "[2120]\ttraining's multi_logloss: 0.589734\tvalid_1's multi_logloss: 0.649509\n",
      "[2160]\ttraining's multi_logloss: 0.585589\tvalid_1's multi_logloss: 0.645875\n",
      "[2200]\ttraining's multi_logloss: 0.581532\tvalid_1's multi_logloss: 0.642239\n",
      "[2240]\ttraining's multi_logloss: 0.577407\tvalid_1's multi_logloss: 0.638552\n",
      "[2280]\ttraining's multi_logloss: 0.573189\tvalid_1's multi_logloss: 0.634665\n",
      "[2320]\ttraining's multi_logloss: 0.569188\tvalid_1's multi_logloss: 0.631051\n",
      "[2360]\ttraining's multi_logloss: 0.565236\tvalid_1's multi_logloss: 0.627435\n",
      "[2400]\ttraining's multi_logloss: 0.561184\tvalid_1's multi_logloss: 0.623807\n",
      "[2440]\ttraining's multi_logloss: 0.557076\tvalid_1's multi_logloss: 0.62009\n",
      "[2480]\ttraining's multi_logloss: 0.553203\tvalid_1's multi_logloss: 0.616604\n",
      "[2520]\ttraining's multi_logloss: 0.549531\tvalid_1's multi_logloss: 0.61334\n",
      "[2560]\ttraining's multi_logloss: 0.545735\tvalid_1's multi_logloss: 0.609926\n",
      "[2600]\ttraining's multi_logloss: 0.542016\tvalid_1's multi_logloss: 0.606529\n",
      "[2640]\ttraining's multi_logloss: 0.53824\tvalid_1's multi_logloss: 0.603028\n",
      "[2680]\ttraining's multi_logloss: 0.534604\tvalid_1's multi_logloss: 0.599684\n",
      "[2720]\ttraining's multi_logloss: 0.530917\tvalid_1's multi_logloss: 0.596352\n",
      "[2760]\ttraining's multi_logloss: 0.527282\tvalid_1's multi_logloss: 0.593088\n",
      "[2800]\ttraining's multi_logloss: 0.523707\tvalid_1's multi_logloss: 0.589784\n",
      "[2840]\ttraining's multi_logloss: 0.520066\tvalid_1's multi_logloss: 0.586568\n",
      "[2880]\ttraining's multi_logloss: 0.516723\tvalid_1's multi_logloss: 0.583556\n",
      "[2920]\ttraining's multi_logloss: 0.513211\tvalid_1's multi_logloss: 0.580308\n",
      "[2960]\ttraining's multi_logloss: 0.509843\tvalid_1's multi_logloss: 0.577307\n",
      "[3000]\ttraining's multi_logloss: 0.506619\tvalid_1's multi_logloss: 0.574323\n",
      "[3040]\ttraining's multi_logloss: 0.503139\tvalid_1's multi_logloss: 0.571198\n",
      "[3080]\ttraining's multi_logloss: 0.499695\tvalid_1's multi_logloss: 0.568089\n",
      "[3120]\ttraining's multi_logloss: 0.496392\tvalid_1's multi_logloss: 0.564995\n",
      "[3160]\ttraining's multi_logloss: 0.493214\tvalid_1's multi_logloss: 0.562161\n",
      "[3200]\ttraining's multi_logloss: 0.489791\tvalid_1's multi_logloss: 0.559013\n",
      "[3240]\ttraining's multi_logloss: 0.486586\tvalid_1's multi_logloss: 0.556061\n",
      "[3280]\ttraining's multi_logloss: 0.483557\tvalid_1's multi_logloss: 0.553274\n",
      "[3320]\ttraining's multi_logloss: 0.48062\tvalid_1's multi_logloss: 0.550504\n",
      "[3360]\ttraining's multi_logloss: 0.477498\tvalid_1's multi_logloss: 0.547675\n",
      "[3400]\ttraining's multi_logloss: 0.474593\tvalid_1's multi_logloss: 0.545051\n",
      "[3440]\ttraining's multi_logloss: 0.471593\tvalid_1's multi_logloss: 0.542369\n",
      "[3480]\ttraining's multi_logloss: 0.468379\tvalid_1's multi_logloss: 0.539416\n",
      "[3520]\ttraining's multi_logloss: 0.465339\tvalid_1's multi_logloss: 0.536596\n",
      "[3560]\ttraining's multi_logloss: 0.462259\tvalid_1's multi_logloss: 0.533709\n",
      "[3600]\ttraining's multi_logloss: 0.459388\tvalid_1's multi_logloss: 0.531078\n",
      "[3640]\ttraining's multi_logloss: 0.456531\tvalid_1's multi_logloss: 0.528389\n",
      "[3680]\ttraining's multi_logloss: 0.453627\tvalid_1's multi_logloss: 0.525728\n",
      "[3720]\ttraining's multi_logloss: 0.450878\tvalid_1's multi_logloss: 0.523181\n",
      "[3760]\ttraining's multi_logloss: 0.448143\tvalid_1's multi_logloss: 0.52065\n",
      "[3800]\ttraining's multi_logloss: 0.445255\tvalid_1's multi_logloss: 0.51798\n",
      "[3840]\ttraining's multi_logloss: 0.442457\tvalid_1's multi_logloss: 0.515421\n",
      "[3880]\ttraining's multi_logloss: 0.439529\tvalid_1's multi_logloss: 0.512732\n",
      "[3920]\ttraining's multi_logloss: 0.436832\tvalid_1's multi_logloss: 0.510143\n",
      "[3960]\ttraining's multi_logloss: 0.434013\tvalid_1's multi_logloss: 0.507554\n",
      "[4000]\ttraining's multi_logloss: 0.43132\tvalid_1's multi_logloss: 0.505035\n",
      "[4040]\ttraining's multi_logloss: 0.428664\tvalid_1's multi_logloss: 0.502585\n",
      "[4080]\ttraining's multi_logloss: 0.425887\tvalid_1's multi_logloss: 0.499977\n",
      "[4120]\ttraining's multi_logloss: 0.423257\tvalid_1's multi_logloss: 0.497543\n",
      "[4160]\ttraining's multi_logloss: 0.420697\tvalid_1's multi_logloss: 0.495141\n",
      "[4200]\ttraining's multi_logloss: 0.41791\tvalid_1's multi_logloss: 0.492539\n",
      "[4240]\ttraining's multi_logloss: 0.415255\tvalid_1's multi_logloss: 0.490092\n",
      "[4280]\ttraining's multi_logloss: 0.412799\tvalid_1's multi_logloss: 0.487805\n",
      "[4320]\ttraining's multi_logloss: 0.410285\tvalid_1's multi_logloss: 0.485465\n"
     ]
    },
    {
     "name": "stdout",
     "output_type": "stream",
     "text": [
      "[4360]\ttraining's multi_logloss: 0.4077\tvalid_1's multi_logloss: 0.482954\n",
      "[4400]\ttraining's multi_logloss: 0.405164\tvalid_1's multi_logloss: 0.480539\n",
      "[4440]\ttraining's multi_logloss: 0.402662\tvalid_1's multi_logloss: 0.478208\n",
      "[4480]\ttraining's multi_logloss: 0.400213\tvalid_1's multi_logloss: 0.475847\n",
      "[4520]\ttraining's multi_logloss: 0.397764\tvalid_1's multi_logloss: 0.473495\n",
      "[4560]\ttraining's multi_logloss: 0.395414\tvalid_1's multi_logloss: 0.471245\n",
      "[4600]\ttraining's multi_logloss: 0.393018\tvalid_1's multi_logloss: 0.469052\n",
      "[4640]\ttraining's multi_logloss: 0.390676\tvalid_1's multi_logloss: 0.466869\n",
      "[4680]\ttraining's multi_logloss: 0.388268\tvalid_1's multi_logloss: 0.464573\n",
      "[4720]\ttraining's multi_logloss: 0.385851\tvalid_1's multi_logloss: 0.462331\n",
      "[4760]\ttraining's multi_logloss: 0.383419\tvalid_1's multi_logloss: 0.460013\n",
      "[4800]\ttraining's multi_logloss: 0.381061\tvalid_1's multi_logloss: 0.457786\n",
      "[4840]\ttraining's multi_logloss: 0.378799\tvalid_1's multi_logloss: 0.455636\n",
      "[4880]\ttraining's multi_logloss: 0.376568\tvalid_1's multi_logloss: 0.453552\n",
      "[4920]\ttraining's multi_logloss: 0.374424\tvalid_1's multi_logloss: 0.451457\n",
      "[4960]\ttraining's multi_logloss: 0.372296\tvalid_1's multi_logloss: 0.449466\n",
      "[5000]\ttraining's multi_logloss: 0.370033\tvalid_1's multi_logloss: 0.447345\n",
      "Did not meet early stopping. Best iteration is:\n",
      "[5000]\ttraining's multi_logloss: 0.370033\tvalid_1's multi_logloss: 0.447345\n"
     ]
    }
   ],
   "source": [
    "mod_lgb_1 = lgb.train(params = params_1,\n",
    "                   train_set = lgbtrain,\n",
    "                   num_boost_round = 5000,\n",
    "                   valid_sets = [lgbtrain, lgbvalid],\n",
    "                  #watchlist = watchlist,\n",
    "                   early_stopping_rounds = 50,\n",
    "                   verbose_eval = 40)"
   ]
  },
  {
   "cell_type": "code",
   "execution_count": null,
   "metadata": {},
   "outputs": [],
   "source": [
    "# prediction on test dataset\n",
    "\n",
    "lgbtest = lgb.Dataset(df_test)"
   ]
  },
  {
   "cell_type": "code",
   "execution_count": 77,
   "metadata": {},
   "outputs": [
    {
     "data": {
      "text/plain": [
       "Int64Index([     2,      3,      7,      8,      9,     12,     13,     21,\n",
       "                22,     23,\n",
       "            ...\n",
       "            434724, 434725, 434726, 434727, 434728, 434729, 434730, 434731,\n",
       "            434732, 434733],\n",
       "           dtype='int64', length=289671)"
      ]
     },
     "execution_count": 77,
     "metadata": {},
     "output_type": "execute_result"
    }
   ],
   "source": [
    "df_test.index"
   ]
  },
  {
   "cell_type": "code",
   "execution_count": 80,
   "metadata": {},
   "outputs": [],
   "source": [
    "preds = pd.DataFrame(mod_lgb_1.predict(df_test), index = df_test.index)"
   ]
  },
  {
   "cell_type": "code",
   "execution_count": 3,
   "metadata": {},
   "outputs": [],
   "source": [
    "# df_test.head()"
   ]
  },
  {
   "cell_type": "code",
   "execution_count": 4,
   "metadata": {},
   "outputs": [],
   "source": [
    "# preds.head()"
   ]
  },
  {
   "cell_type": "code",
   "execution_count": 83,
   "metadata": {},
   "outputs": [],
   "source": [
    "def class_col_name(n, encoding):\n",
    "    \"\"\"Convert class value into formatted column name.\"\"\"\n",
    "    inverse_encoder = {v: k for k, v in encoding.items()}\n",
    "    name = inverse_encoder[n]\n",
    "    return f'class_{name}'"
   ]
  },
  {
   "cell_type": "code",
   "execution_count": 84,
   "metadata": {},
   "outputs": [],
   "source": [
    "encoding = {'Unharmed': 0, 'Possible': 1, 'Minor': 2, 'Major': 3, 'Fatal': 4}"
   ]
  },
  {
   "cell_type": "code",
   "execution_count": 5,
   "metadata": {},
   "outputs": [],
   "source": [
    "# preds = preds.rename(mapper = lambda x: class_col_name(x, encoding), axis = 1)\n",
    "# preds.head()"
   ]
  },
  {
   "cell_type": "code",
   "execution_count": 86,
   "metadata": {},
   "outputs": [
    {
     "data": {
      "text/plain": [
       "(289671, 307)"
      ]
     },
     "execution_count": 86,
     "metadata": {},
     "output_type": "execute_result"
    }
   ],
   "source": [
    "df_test.shape"
   ]
  },
  {
   "cell_type": "code",
   "execution_count": 90,
   "metadata": {},
   "outputs": [
    {
     "data": {
      "text/plain": [
       "array([     1,      2,      3, ..., 289669, 289670, 289671])"
      ]
     },
     "execution_count": 90,
     "metadata": {},
     "output_type": "execute_result"
    }
   ],
   "source": [
    "row_id = np.arange(1, 289672)\n",
    "row_id"
   ]
  },
  {
   "cell_type": "code",
   "execution_count": 91,
   "metadata": {},
   "outputs": [],
   "source": [
    "preds.set_index(row_id, inplace = True)"
   ]
  },
  {
   "cell_type": "code",
   "execution_count": 6,
   "metadata": {},
   "outputs": [],
   "source": [
    "# preds.head()"
   ]
  },
  {
   "cell_type": "code",
   "execution_count": 7,
   "metadata": {},
   "outputs": [],
   "source": [
    "# import datetime\n",
    "\n",
    "# # Generate prediction file name\n",
    "# team_name = ''\n",
    "# date = datetime.datetime.now().strftime('%Y%m%d')\n",
    "# submission_number = 1\n",
    "# submission_name = f'{team_name}_{date}_{submission_number}.csv'\n",
    "# print(submission_name)\n",
    "\n",
    "# # Save\n",
    "# preds.to_csv(submission_name)"
   ]
  },
  {
   "cell_type": "code",
   "execution_count": 95,
   "metadata": {},
   "outputs": [],
   "source": [
    "preds.to_csv(submission_name)"
   ]
  },
  {
   "cell_type": "code",
   "execution_count": 118,
   "metadata": {},
   "outputs": [
    {
     "data": {
      "text/plain": [
       "(289671, 307)"
      ]
     },
     "execution_count": 118,
     "metadata": {},
     "output_type": "execute_result"
    }
   ],
   "source": [
    "df_test.shape"
   ]
  },
  {
   "cell_type": "code",
   "execution_count": 123,
   "metadata": {},
   "outputs": [],
   "source": [
    "# predict on checked dataset"
   ]
  },
  {
   "cell_type": "code",
   "execution_count": 8,
   "metadata": {},
   "outputs": [],
   "source": [
    "# preds_2 = pd.DataFrame(mod_lgb_1.predict(df_ck))\n",
    "# preds_2.head()"
   ]
  },
  {
   "cell_type": "code",
   "execution_count": 126,
   "metadata": {},
   "outputs": [],
   "source": [
    "preds_2.set_index(row_id, inplace = True)"
   ]
  },
  {
   "cell_type": "code",
   "execution_count": 9,
   "metadata": {},
   "outputs": [],
   "source": [
    "# import datetime\n",
    "\n",
    "# # Generate prediction file name\n",
    "# team_name = ''\n",
    "# date = datetime.datetime.now().strftime('%Y%m%d')\n",
    "# submission_number = 2\n",
    "# submission_name = f'{team_name}_{date}_{submission_number}.csv'\n",
    "# print(submission_name)\n",
    "\n",
    "# # Save\n",
    "# preds_2.to_csv(submission_name)"
   ]
  },
  {
   "cell_type": "code",
   "execution_count": null,
   "metadata": {},
   "outputs": [],
   "source": []
  },
  {
   "cell_type": "code",
   "execution_count": null,
   "metadata": {},
   "outputs": [],
   "source": []
  },
  {
   "cell_type": "code",
   "execution_count": null,
   "metadata": {},
   "outputs": [],
   "source": []
  }
 ],
 "metadata": {
  "kernelspec": {
   "display_name": "Python 3",
   "language": "python",
   "name": "python3"
  },
  "language_info": {
   "codemirror_mode": {
    "name": "ipython",
    "version": 3
   },
   "file_extension": ".py",
   "mimetype": "text/x-python",
   "name": "python",
   "nbconvert_exporter": "python",
   "pygments_lexer": "ipython3",
   "version": "3.6.5"
  }
 },
 "nbformat": 4,
 "nbformat_minor": 2
}
