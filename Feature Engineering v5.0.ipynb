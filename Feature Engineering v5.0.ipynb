{
 "cells": [
  {
   "cell_type": "code",
   "execution_count": 1,
   "metadata": {},
   "outputs": [],
   "source": [
    "import pandas as pd\n",
    "import numpy as np"
   ]
  },
  {
   "cell_type": "code",
   "execution_count": 2,
   "metadata": {},
   "outputs": [],
   "source": [
    "pp_data_all = pd.read_csv('pp_data_all.csv')\n",
    "pp_data_train = pd.read_csv('pp_data_train.csv')"
   ]
  },
  {
   "cell_type": "code",
   "execution_count": 3,
   "metadata": {},
   "outputs": [
    {
     "name": "stdout",
     "output_type": "stream",
     "text": [
      "(289671, 64)\n",
      "(145063, 65)\n"
     ]
    }
   ],
   "source": [
    "print(pp_data_all.shape)\n",
    "print(pp_data_train.shape)"
   ]
  },
  {
   "cell_type": "code",
   "execution_count": 1,
   "metadata": {},
   "outputs": [],
   "source": [
    "# pp_data_all.head()"
   ]
  },
  {
   "cell_type": "code",
   "execution_count": 2,
   "metadata": {},
   "outputs": [],
   "source": [
    "# pp_data_train.head()"
   ]
  },
  {
   "cell_type": "code",
   "execution_count": 3,
   "metadata": {},
   "outputs": [],
   "source": [
    "# pp_data_train.isnull().sum()/len(pp_data_train)"
   ]
  },
  {
   "cell_type": "code",
   "execution_count": 4,
   "metadata": {},
   "outputs": [],
   "source": [
    "# pp_data_all.isnull().sum()/len(pp_data_all)"
   ]
  },
  {
   "cell_type": "code",
   "execution_count": 5,
   "metadata": {},
   "outputs": [],
   "source": [
    "# pp_data_train.T"
   ]
  },
  {
   "cell_type": "code",
   "execution_count": 13,
   "metadata": {},
   "outputs": [
    {
     "data": {
      "text/plain": [
       "0   2013-09-19 10:15:00\n",
       "1   2013-09-19 10:15:00\n",
       "2   2011-07-23 03:00:00\n",
       "3   2011-07-23 03:00:00\n",
       "4   2011-07-23 03:00:00\n",
       "Name: inc_datetime, dtype: datetime64[ns]"
      ]
     },
     "execution_count": 13,
     "metadata": {},
     "output_type": "execute_result"
    }
   ],
   "source": [
    "pd.to_datetime(pp_data_train['inc_datetime']).head()"
   ]
  },
  {
   "cell_type": "code",
   "execution_count": 15,
   "metadata": {},
   "outputs": [
    {
     "data": {
      "text/plain": [
       "0   2013-09-19 10:15:00\n",
       "1   2013-09-19 10:15:00\n",
       "2   2011-07-23 03:00:00\n",
       "3   2011-07-23 03:00:00\n",
       "4   2011-07-23 03:00:00\n",
       "Name: inc_datetime, dtype: datetime64[ns]"
      ]
     },
     "execution_count": 15,
     "metadata": {},
     "output_type": "execute_result"
    }
   ],
   "source": [
    "pp_data_train['inc_datetime'] = pd.to_datetime(pp_data_train['inc_datetime'])\n",
    "pp_data_train['inc_datetime'].head()"
   ]
  },
  {
   "cell_type": "code",
   "execution_count": 18,
   "metadata": {},
   "outputs": [
    {
     "data": {
      "text/plain": [
       "0    10.0\n",
       "1    10.0\n",
       "2     3.0\n",
       "3     3.0\n",
       "4     3.0\n",
       "Name: inc_hour, dtype: float64"
      ]
     },
     "execution_count": 18,
     "metadata": {},
     "output_type": "execute_result"
    }
   ],
   "source": [
    "# generate new feature inc_hour\n",
    "\n",
    "pp_data_train['inc_hour'] = pp_data_train['inc_datetime'].dt.hour\n",
    "pp_data_train['inc_hour'].head()"
   ]
  },
  {
   "cell_type": "code",
   "execution_count": 6,
   "metadata": {},
   "outputs": [],
   "source": [
    "# response_train = pp_data_train[['row_id', 'incident_id', 'vehicle_id', 'occupant_id', 'injury']]\n",
    "# response_train.head()"
   ]
  },
  {
   "cell_type": "code",
   "execution_count": 7,
   "metadata": {},
   "outputs": [],
   "source": [
    "# encoding = {'Unharmed': 0, 'Possible': 1, 'Minor': 2, 'Major': 3, 'Fatal': 4}\n",
    "\n",
    "# response_train['injury'] = response_train['injury'].map(encoding)\n",
    "# response_train.head()"
   ]
  },
  {
   "cell_type": "code",
   "execution_count": 8,
   "metadata": {},
   "outputs": [],
   "source": [
    "# pp_data_train.select_dtypes(include = ['object']).T"
   ]
  },
  {
   "cell_type": "code",
   "execution_count": 9,
   "metadata": {},
   "outputs": [],
   "source": [
    "# pp_data_train.select_dtypes(exclude = ['object']).T"
   ]
  },
  {
   "cell_type": "code",
   "execution_count": 10,
   "metadata": {},
   "outputs": [],
   "source": [
    "# cols = ['drv_ban1_mo', 'drv_ban1_yr', 'drv_ban2_mo', 'drv_ban2_yr']\n",
    "\n",
    "# for col in cols:\n",
    "#     print('Column name: ', col)\n",
    "#     print(pp_data_train[col].value_counts(dropna = False))\n",
    "#     print('\\n')"
   ]
  },
  {
   "cell_type": "code",
   "execution_count": 44,
   "metadata": {},
   "outputs": [],
   "source": [
    "encoding_mon = {'Jan.': 1, 'Feb.': 2, 'Mar.': 3, 'Apr.': 4, 'May': 5, 'June': 6, 'July': 7, 'Aug.': 8, \n",
    "               'Sept.': 9, 'Oct.': 10, 'Nov.': 11, 'Dec.': 12, 'No record': np.nan, 'unknow': np.nan}\n",
    "\n",
    "encoding_yr = {'No record': np.nan, 'unknown': np.nan, '2007': 2007, '2008': 2008, '2009': 2009, '2010': 2010, \n",
    "              '2011': 2011, '2012': 2012, '2013': 2013, '2014': 2014}"
   ]
  },
  {
   "cell_type": "code",
   "execution_count": 11,
   "metadata": {},
   "outputs": [],
   "source": [
    "# pp_data_train['drv_ban1_mo'].map(encoding_mon).value_counts(dropna = False)"
   ]
  },
  {
   "cell_type": "code",
   "execution_count": 32,
   "metadata": {},
   "outputs": [],
   "source": [
    "pp_data_train['drv_ban1_mo'] = pp_data_train['drv_ban1_mo'].map(encoding_mon)\n",
    "pp_data_train['drv_ban2_mo'] = pp_data_train['drv_ban2_mo'].map(encoding_mon)"
   ]
  },
  {
   "cell_type": "code",
   "execution_count": 46,
   "metadata": {},
   "outputs": [],
   "source": [
    "pp_data_train['drv_ban1_yr'] = pp_data_train['drv_ban1_yr'].map(encoding_yr)\n",
    "pp_data_train['drv_ban2_yr'] = pp_data_train['drv_ban2_yr'].map(encoding_yr)"
   ]
  },
  {
   "cell_type": "code",
   "execution_count": 52,
   "metadata": {},
   "outputs": [],
   "source": [
    "# gererate 2 new features\n",
    "\n",
    "pp_data_train['inc_ban1_time'] = (pp_data_train['inc_datetime'].dt.year - pp_data_train['drv_ban1_yr'])*12 + (pp_data_train['inc_datetime'].dt.month - pp_data_train['drv_ban1_mo'])\n",
    "pp_data_train['inc_ban2_time'] = (pp_data_train['inc_datetime'].dt.year - pp_data_train['drv_ban2_yr'])*12 + (pp_data_train['inc_datetime'].dt.month - pp_data_train['drv_ban2_mo'])"
   ]
  },
  {
   "cell_type": "code",
   "execution_count": 55,
   "metadata": {},
   "outputs": [],
   "source": [
    "pp_data_train['veh_age_new'] = pp_data_train['inc_datetime'].dt.year - pp_data_train['veh_year']"
   ]
  },
  {
   "cell_type": "code",
   "execution_count": 56,
   "metadata": {},
   "outputs": [
    {
     "data": {
      "text/plain": [
       "0    9.0\n",
       "1    9.0\n",
       "2    7.0\n",
       "3    7.0\n",
       "4    8.0\n",
       "Name: veh_age_new, dtype: float64"
      ]
     },
     "execution_count": 56,
     "metadata": {},
     "output_type": "execute_result"
    }
   ],
   "source": [
    "pp_data_train['veh_age_new'].head()"
   ]
  },
  {
   "cell_type": "code",
   "execution_count": 57,
   "metadata": {},
   "outputs": [],
   "source": [
    "pp_data_train.drop(['injury', 'inc_datetime', 'drv_ban1_mo', 'drv_ban1_yr', 'drv_ban2_mo', 'drv_ban2_yr'], axis =1, inplace = True)"
   ]
  },
  {
   "cell_type": "code",
   "execution_count": 12,
   "metadata": {},
   "outputs": [],
   "source": [
    "# # extract 2 features from incident_id\n",
    "# df_driver = pp_data_train.loc[pp_data_train['occ_role'] == 'Driver', ['row_id', 'incident_id', 'occ_age']]\n",
    "# df_driver.head()"
   ]
  },
  {
   "cell_type": "code",
   "execution_count": 123,
   "metadata": {},
   "outputs": [
    {
     "data": {
      "text/plain": [
       "(96541, 3)"
      ]
     },
     "execution_count": 123,
     "metadata": {},
     "output_type": "execute_result"
    }
   ],
   "source": [
    "df_driver.shape"
   ]
  },
  {
   "cell_type": "code",
   "execution_count": 124,
   "metadata": {},
   "outputs": [
    {
     "data": {
      "text/plain": [
       "63907"
      ]
     },
     "execution_count": 124,
     "metadata": {},
     "output_type": "execute_result"
    }
   ],
   "source": [
    "len(set(df_driver['incident_id']))"
   ]
  },
  {
   "cell_type": "code",
   "execution_count": 82,
   "metadata": {},
   "outputs": [],
   "source": [
    "df_driver_min = pd.DataFrame(df_driver.groupby(['incident_id'])['occ_age'].min())\n",
    "df_driver_max = pd.DataFrame(df_driver.groupby(['incident_id'])['occ_age'].max())"
   ]
  },
  {
   "cell_type": "code",
   "execution_count": 83,
   "metadata": {},
   "outputs": [
    {
     "data": {
      "text/html": [
       "<div>\n",
       "<style scoped>\n",
       "    .dataframe tbody tr th:only-of-type {\n",
       "        vertical-align: middle;\n",
       "    }\n",
       "\n",
       "    .dataframe tbody tr th {\n",
       "        vertical-align: top;\n",
       "    }\n",
       "\n",
       "    .dataframe thead th {\n",
       "        text-align: right;\n",
       "    }\n",
       "</style>\n",
       "<table border=\"1\" class=\"dataframe\">\n",
       "  <thead>\n",
       "    <tr style=\"text-align: right;\">\n",
       "      <th></th>\n",
       "      <th>occ_age</th>\n",
       "    </tr>\n",
       "    <tr>\n",
       "      <th>incident_id</th>\n",
       "      <th></th>\n",
       "    </tr>\n",
       "  </thead>\n",
       "  <tbody>\n",
       "    <tr>\n",
       "      <th>2</th>\n",
       "      <td>75</td>\n",
       "    </tr>\n",
       "    <tr>\n",
       "      <th>4</th>\n",
       "      <td>25</td>\n",
       "    </tr>\n",
       "    <tr>\n",
       "      <th>5</th>\n",
       "      <td>37</td>\n",
       "    </tr>\n",
       "    <tr>\n",
       "      <th>11</th>\n",
       "      <td>18</td>\n",
       "    </tr>\n",
       "    <tr>\n",
       "      <th>14</th>\n",
       "      <td>22</td>\n",
       "    </tr>\n",
       "  </tbody>\n",
       "</table>\n",
       "</div>"
      ],
      "text/plain": [
       "             occ_age\n",
       "incident_id         \n",
       "2                 75\n",
       "4                 25\n",
       "5                 37\n",
       "11                18\n",
       "14                22"
      ]
     },
     "execution_count": 83,
     "metadata": {},
     "output_type": "execute_result"
    }
   ],
   "source": [
    "df_driver_min.head()"
   ]
  },
  {
   "cell_type": "code",
   "execution_count": 84,
   "metadata": {},
   "outputs": [],
   "source": [
    "df_driver_min.reset_index(inplace = True)\n",
    "df_driver_max.reset_index(inplace = True)"
   ]
  },
  {
   "cell_type": "code",
   "execution_count": 85,
   "metadata": {},
   "outputs": [
    {
     "data": {
      "text/html": [
       "<div>\n",
       "<style scoped>\n",
       "    .dataframe tbody tr th:only-of-type {\n",
       "        vertical-align: middle;\n",
       "    }\n",
       "\n",
       "    .dataframe tbody tr th {\n",
       "        vertical-align: top;\n",
       "    }\n",
       "\n",
       "    .dataframe thead th {\n",
       "        text-align: right;\n",
       "    }\n",
       "</style>\n",
       "<table border=\"1\" class=\"dataframe\">\n",
       "  <thead>\n",
       "    <tr style=\"text-align: right;\">\n",
       "      <th></th>\n",
       "      <th>incident_id</th>\n",
       "      <th>occ_age</th>\n",
       "    </tr>\n",
       "  </thead>\n",
       "  <tbody>\n",
       "    <tr>\n",
       "      <th>0</th>\n",
       "      <td>2</td>\n",
       "      <td>75</td>\n",
       "    </tr>\n",
       "    <tr>\n",
       "      <th>1</th>\n",
       "      <td>4</td>\n",
       "      <td>29</td>\n",
       "    </tr>\n",
       "    <tr>\n",
       "      <th>2</th>\n",
       "      <td>5</td>\n",
       "      <td>58</td>\n",
       "    </tr>\n",
       "    <tr>\n",
       "      <th>3</th>\n",
       "      <td>11</td>\n",
       "      <td>49</td>\n",
       "    </tr>\n",
       "    <tr>\n",
       "      <th>4</th>\n",
       "      <td>14</td>\n",
       "      <td>80</td>\n",
       "    </tr>\n",
       "  </tbody>\n",
       "</table>\n",
       "</div>"
      ],
      "text/plain": [
       "   incident_id  occ_age\n",
       "0            2       75\n",
       "1            4       29\n",
       "2            5       58\n",
       "3           11       49\n",
       "4           14       80"
      ]
     },
     "execution_count": 85,
     "metadata": {},
     "output_type": "execute_result"
    }
   ],
   "source": [
    "df_driver_max.head()"
   ]
  },
  {
   "cell_type": "code",
   "execution_count": 86,
   "metadata": {},
   "outputs": [
    {
     "data": {
      "text/plain": [
       "array(['incident_id', 'occ_age'], dtype=object)"
      ]
     },
     "execution_count": 86,
     "metadata": {},
     "output_type": "execute_result"
    }
   ],
   "source": [
    "df_driver_min.columns.values "
   ]
  },
  {
   "cell_type": "code",
   "execution_count": 87,
   "metadata": {},
   "outputs": [],
   "source": [
    "df_driver_min.columns = ['incident_id', 'driver_age_min']\n",
    "df_driver_max.columns = ['incident_id', 'driver_age_max']"
   ]
  },
  {
   "cell_type": "code",
   "execution_count": 13,
   "metadata": {},
   "outputs": [],
   "source": [
    "# df_driver_min.head()"
   ]
  },
  {
   "cell_type": "code",
   "execution_count": 14,
   "metadata": {},
   "outputs": [],
   "source": [
    "# df_driver_max.head()"
   ]
  },
  {
   "cell_type": "code",
   "execution_count": 90,
   "metadata": {},
   "outputs": [
    {
     "name": "stdout",
     "output_type": "stream",
     "text": [
      "63907\n",
      "63907\n"
     ]
    }
   ],
   "source": [
    "print(len(df_driver_min))\n",
    "print(len(df_driver_max))"
   ]
  },
  {
   "cell_type": "code",
   "execution_count": 15,
   "metadata": {},
   "outputs": [],
   "source": [
    "# pp_data_train.T"
   ]
  },
  {
   "cell_type": "code",
   "execution_count": 100,
   "metadata": {},
   "outputs": [],
   "source": [
    "df_all4train = pd.merge(pp_data_train, df_driver_max, left_on = 'incident_id', right_on = 'incident_id')"
   ]
  },
  {
   "cell_type": "code",
   "execution_count": 16,
   "metadata": {},
   "outputs": [],
   "source": [
    "# df_all4train.T"
   ]
  },
  {
   "cell_type": "code",
   "execution_count": 102,
   "metadata": {},
   "outputs": [],
   "source": [
    "df_all4train = pd.merge(df_all4train, df_driver_min, left_on = 'incident_id', right_on = 'incident_id')"
   ]
  },
  {
   "cell_type": "code",
   "execution_count": 17,
   "metadata": {},
   "outputs": [],
   "source": [
    "# df_all4train.T"
   ]
  },
  {
   "cell_type": "code",
   "execution_count": 104,
   "metadata": {},
   "outputs": [
    {
     "data": {
      "text/plain": [
       "(144683, 65)"
      ]
     },
     "execution_count": 104,
     "metadata": {},
     "output_type": "execute_result"
    }
   ],
   "source": [
    "df_all4train.shape"
   ]
  },
  {
   "cell_type": "code",
   "execution_count": 106,
   "metadata": {},
   "outputs": [
    {
     "data": {
      "text/plain": [
       "(145063, 63)"
      ]
     },
     "execution_count": 106,
     "metadata": {},
     "output_type": "execute_result"
    }
   ],
   "source": [
    "pp_data_train.shape"
   ]
  },
  {
   "cell_type": "code",
   "execution_count": 107,
   "metadata": {},
   "outputs": [
    {
     "data": {
      "text/plain": [
       "64149"
      ]
     },
     "execution_count": 107,
     "metadata": {},
     "output_type": "execute_result"
    }
   ],
   "source": [
    "len(np.unique(pp_data_train['incident_id']))"
   ]
  },
  {
   "cell_type": "code",
   "execution_count": 108,
   "metadata": {},
   "outputs": [
    {
     "data": {
      "text/plain": [
       "64149"
      ]
     },
     "execution_count": 108,
     "metadata": {},
     "output_type": "execute_result"
    }
   ],
   "source": [
    "len(set(pp_data_train['incident_id']))"
   ]
  },
  {
   "cell_type": "code",
   "execution_count": 109,
   "metadata": {},
   "outputs": [
    {
     "name": "stdout",
     "output_type": "stream",
     "text": [
      "2\n",
      "128188\n"
     ]
    }
   ],
   "source": [
    "print(pp_data_train['incident_id'].min())\n",
    "print(pp_data_train['incident_id'].max())"
   ]
  },
  {
   "cell_type": "code",
   "execution_count": 110,
   "metadata": {},
   "outputs": [
    {
     "data": {
      "text/plain": [
       "0"
      ]
     },
     "execution_count": 110,
     "metadata": {},
     "output_type": "execute_result"
    }
   ],
   "source": [
    "pp_data_train['occ_age'].isnull().sum()"
   ]
  },
  {
   "cell_type": "code",
   "execution_count": 112,
   "metadata": {},
   "outputs": [
    {
     "name": "stdout",
     "output_type": "stream",
     "text": [
      "2\n",
      "128188\n"
     ]
    }
   ],
   "source": [
    "print(df_driver_min['incident_id'].min())\n",
    "print(df_driver_min['incident_id'].max())"
   ]
  },
  {
   "cell_type": "code",
   "execution_count": 114,
   "metadata": {},
   "outputs": [
    {
     "name": "stdout",
     "output_type": "stream",
     "text": [
      "63907\n",
      "(63907, 2)\n"
     ]
    }
   ],
   "source": [
    "print(len(np.unique(df_driver_min['incident_id'])))\n",
    "print(df_driver_min.shape)"
   ]
  },
  {
   "cell_type": "code",
   "execution_count": 1,
   "metadata": {},
   "outputs": [],
   "source": [
    "# set(pp_data_train['incident_id']).difference(df_driver_min['incident_id'])"
   ]
  },
  {
   "cell_type": "code",
   "execution_count": 117,
   "metadata": {},
   "outputs": [
    {
     "data": {
      "text/plain": [
       "287    23\n",
       "Name: occ_age, dtype: int64"
      ]
     },
     "execution_count": 117,
     "metadata": {},
     "output_type": "execute_result"
    }
   ],
   "source": [
    "pp_data_train.loc[pp_data_train['incident_id'] == 242, 'occ_age']"
   ]
  },
  {
   "cell_type": "code",
   "execution_count": 121,
   "metadata": {},
   "outputs": [
    {
     "data": {
      "text/plain": [
       "552    41\n",
       "553    22\n",
       "554    21\n",
       "555    23\n",
       "Name: occ_age, dtype: int64"
      ]
     },
     "execution_count": 121,
     "metadata": {},
     "output_type": "execute_result"
    }
   ],
   "source": [
    "pp_data_train.loc[pp_data_train['incident_id'] == 520, 'occ_age']"
   ]
  },
  {
   "cell_type": "code",
   "execution_count": 122,
   "metadata": {},
   "outputs": [
    {
     "data": {
      "text/plain": [
       "(64149,)"
      ]
     },
     "execution_count": 122,
     "metadata": {},
     "output_type": "execute_result"
    }
   ],
   "source": [
    "pp_data_train.groupby(['incident_id'])['occ_age'].max().shape"
   ]
  },
  {
   "cell_type": "code",
   "execution_count": 125,
   "metadata": {},
   "outputs": [
    {
     "data": {
      "text/plain": [
       "Driver            96541\n",
       "Passenger         47951\n",
       "Not-in-transit      571\n",
       "Name: occ_role, dtype: int64"
      ]
     },
     "execution_count": 125,
     "metadata": {},
     "output_type": "execute_result"
    }
   ],
   "source": [
    "pp_data_train['occ_role'].value_counts(dropna = True)"
   ]
  },
  {
   "cell_type": "code",
   "execution_count": 126,
   "metadata": {},
   "outputs": [
    {
     "data": {
      "text/html": [
       "<div>\n",
       "<style scoped>\n",
       "    .dataframe tbody tr th:only-of-type {\n",
       "        vertical-align: middle;\n",
       "    }\n",
       "\n",
       "    .dataframe tbody tr th {\n",
       "        vertical-align: top;\n",
       "    }\n",
       "\n",
       "    .dataframe thead th {\n",
       "        text-align: right;\n",
       "    }\n",
       "</style>\n",
       "<table border=\"1\" class=\"dataframe\">\n",
       "  <thead>\n",
       "    <tr style=\"text-align: right;\">\n",
       "      <th></th>\n",
       "      <th>incident_id</th>\n",
       "      <th>driver_age_min</th>\n",
       "    </tr>\n",
       "  </thead>\n",
       "  <tbody>\n",
       "  </tbody>\n",
       "</table>\n",
       "</div>"
      ],
      "text/plain": [
       "Empty DataFrame\n",
       "Columns: [incident_id, driver_age_min]\n",
       "Index: []"
      ]
     },
     "execution_count": 126,
     "metadata": {},
     "output_type": "execute_result"
    }
   ],
   "source": [
    "df_driver_min.loc[df_driver_min['incident_id'] == 520, :]"
   ]
  },
  {
   "cell_type": "code",
   "execution_count": 128,
   "metadata": {},
   "outputs": [
    {
     "data": {
      "text/html": [
       "<div>\n",
       "<style scoped>\n",
       "    .dataframe tbody tr th:only-of-type {\n",
       "        vertical-align: middle;\n",
       "    }\n",
       "\n",
       "    .dataframe tbody tr th {\n",
       "        vertical-align: top;\n",
       "    }\n",
       "\n",
       "    .dataframe thead th {\n",
       "        text-align: right;\n",
       "    }\n",
       "</style>\n",
       "<table border=\"1\" class=\"dataframe\">\n",
       "  <thead>\n",
       "    <tr style=\"text-align: right;\">\n",
       "      <th></th>\n",
       "      <th>row_id</th>\n",
       "      <th>incident_id</th>\n",
       "      <th>occ_age</th>\n",
       "    </tr>\n",
       "  </thead>\n",
       "  <tbody>\n",
       "  </tbody>\n",
       "</table>\n",
       "</div>"
      ],
      "text/plain": [
       "Empty DataFrame\n",
       "Columns: [row_id, incident_id, occ_age]\n",
       "Index: []"
      ]
     },
     "execution_count": 128,
     "metadata": {},
     "output_type": "execute_result"
    }
   ],
   "source": [
    "df_driver.loc[df_driver['incident_id'] == 520, :]"
   ]
  },
  {
   "cell_type": "code",
   "execution_count": 18,
   "metadata": {},
   "outputs": [],
   "source": [
    "# df_driver_2 = pp_data_train.loc[pp_data_train['occ_role'] == 'Driver', ['row_id', 'incident_id', 'occ_age']]\n",
    "# df_driver_2.head()"
   ]
  },
  {
   "cell_type": "code",
   "execution_count": 130,
   "metadata": {},
   "outputs": [
    {
     "data": {
      "text/html": [
       "<div>\n",
       "<style scoped>\n",
       "    .dataframe tbody tr th:only-of-type {\n",
       "        vertical-align: middle;\n",
       "    }\n",
       "\n",
       "    .dataframe tbody tr th {\n",
       "        vertical-align: top;\n",
       "    }\n",
       "\n",
       "    .dataframe thead th {\n",
       "        text-align: right;\n",
       "    }\n",
       "</style>\n",
       "<table border=\"1\" class=\"dataframe\">\n",
       "  <thead>\n",
       "    <tr style=\"text-align: right;\">\n",
       "      <th></th>\n",
       "      <th>row_id</th>\n",
       "      <th>incident_id</th>\n",
       "      <th>occ_age</th>\n",
       "    </tr>\n",
       "  </thead>\n",
       "  <tbody>\n",
       "  </tbody>\n",
       "</table>\n",
       "</div>"
      ],
      "text/plain": [
       "Empty DataFrame\n",
       "Columns: [row_id, incident_id, occ_age]\n",
       "Index: []"
      ]
     },
     "execution_count": 130,
     "metadata": {},
     "output_type": "execute_result"
    }
   ],
   "source": [
    "df_driver_2.loc[df_driver_2['incident_id'] == 520, :]"
   ]
  },
  {
   "cell_type": "code",
   "execution_count": 131,
   "metadata": {},
   "outputs": [
    {
     "data": {
      "text/plain": [
       "(145063, 63)"
      ]
     },
     "execution_count": 131,
     "metadata": {},
     "output_type": "execute_result"
    }
   ],
   "source": [
    "pp_data_train.shape"
   ]
  },
  {
   "cell_type": "code",
   "execution_count": 19,
   "metadata": {},
   "outputs": [],
   "source": [
    "# pp_data_train.T"
   ]
  },
  {
   "cell_type": "code",
   "execution_count": 133,
   "metadata": {},
   "outputs": [
    {
     "data": {
      "text/plain": [
       "Clean         122547\n",
       "Penalised      10318\n",
       "No licence      8331\n",
       "Expired         1873\n",
       "unknown         1423\n",
       "Name: drv_status, dtype: int64"
      ]
     },
     "execution_count": 133,
     "metadata": {},
     "output_type": "execute_result"
    }
   ],
   "source": [
    "pp_data_train['drv_status'].value_counts()"
   ]
  },
  {
   "cell_type": "code",
   "execution_count": 141,
   "metadata": {},
   "outputs": [
    {
     "data": {
      "text/plain": [
       "Index(['Clean', 'Penalised', 'No licence', 'Expired', 'unknown'], dtype='object')"
      ]
     },
     "execution_count": 141,
     "metadata": {},
     "output_type": "execute_result"
    }
   ],
   "source": [
    "pp_data_train['drv_status'].value_counts().index"
   ]
  },
  {
   "cell_type": "code",
   "execution_count": 20,
   "metadata": {},
   "outputs": [],
   "source": [
    "# pp_data_train.columns"
   ]
  },
  {
   "cell_type": "code",
   "execution_count": 145,
   "metadata": {},
   "outputs": [],
   "source": [
    "#imputate missing values for both numerical and categorical features\n",
    "\n",
    "for col_n in pp_data_train.select_dtypes(exclude = ['object']).columns:\n",
    "    pp_data_train[col_n].fillna(pp_data_train[col_n].median(), inplace = True)\n",
    "    \n",
    "    \n",
    "for col_c in pp_data_train.select_dtypes(include = ['object']).columns:\n",
    "    pp_data_train[col_c].fillna(pp_data_train[col_c].value_counts().index[0], inplace = True)"
   ]
  },
  {
   "cell_type": "code",
   "execution_count": 21,
   "metadata": {},
   "outputs": [],
   "source": [
    "# for col in pp_data_train.columns:\n",
    "#     print('Column name: ', col)\n",
    "#     print(pp_data_train[col].isnull().sum())\n",
    "#     print('\\n')"
   ]
  },
  {
   "cell_type": "code",
   "execution_count": 22,
   "metadata": {},
   "outputs": [],
   "source": [
    "# pp_data_train.T"
   ]
  },
  {
   "cell_type": "code",
   "execution_count": 148,
   "metadata": {},
   "outputs": [
    {
     "data": {
      "text/plain": [
       "(145063, 306)"
      ]
     },
     "execution_count": 148,
     "metadata": {},
     "output_type": "execute_result"
    }
   ],
   "source": [
    "pp_data_train_2 = pd.get_dummies(pp_data_train)\n",
    "pp_data_train_2.shape"
   ]
  },
  {
   "cell_type": "code",
   "execution_count": 23,
   "metadata": {},
   "outputs": [],
   "source": [
    "# pp_data_train_2.T"
   ]
  },
  {
   "cell_type": "code",
   "execution_count": 169,
   "metadata": {},
   "outputs": [
    {
     "data": {
      "text/plain": [
       "64149"
      ]
     },
     "execution_count": 169,
     "metadata": {},
     "output_type": "execute_result"
    }
   ],
   "source": [
    "samp_id = pp_data_train_2['incident_id']\n",
    "len(np.unique(samp_id))"
   ]
  },
  {
   "cell_type": "code",
   "execution_count": 170,
   "metadata": {},
   "outputs": [
    {
     "name": "stdout",
     "output_type": "stream",
     "text": [
      "64149\n"
     ]
    }
   ],
   "source": [
    "samp_id = np.unique(samp_id)\n",
    "print(len(samp_id))"
   ]
  },
  {
   "cell_type": "code",
   "execution_count": 171,
   "metadata": {},
   "outputs": [],
   "source": [
    "from sklearn.model_selection import train_test_split\n",
    "\n",
    "index_train, index_valid = train_test_split(samp_id, test_size = 0.2, random_state = 123)"
   ]
  },
  {
   "cell_type": "code",
   "execution_count": 172,
   "metadata": {},
   "outputs": [
    {
     "name": "stdout",
     "output_type": "stream",
     "text": [
      "51319\n",
      "12830\n"
     ]
    }
   ],
   "source": [
    "print(len(index_train))\n",
    "print(len(index_valid))"
   ]
  },
  {
   "cell_type": "code",
   "execution_count": 24,
   "metadata": {},
   "outputs": [],
   "source": [
    "# pp_data_train_2.set_index('incident_id', inplace = True)\n",
    "# pp_data_train_2.head()"
   ]
  },
  {
   "cell_type": "code",
   "execution_count": 174,
   "metadata": {},
   "outputs": [],
   "source": [
    "X_train = pp_data_train_2.loc[index_train]\n",
    "X_valid = pp_data_train_2.loc[index_valid]"
   ]
  },
  {
   "cell_type": "code",
   "execution_count": 175,
   "metadata": {},
   "outputs": [
    {
     "name": "stdout",
     "output_type": "stream",
     "text": [
      "(116269, 305)\n",
      "(28794, 305)\n"
     ]
    }
   ],
   "source": [
    "print(X_train.shape)\n",
    "print(X_valid.shape)"
   ]
  },
  {
   "cell_type": "code",
   "execution_count": 25,
   "metadata": {},
   "outputs": [],
   "source": [
    "# X_train.head()"
   ]
  },
  {
   "cell_type": "code",
   "execution_count": 177,
   "metadata": {},
   "outputs": [],
   "source": [
    "X_train.reset_index(inplace = True)\n",
    "X_valid.reset_index(inplace = True)"
   ]
  },
  {
   "cell_type": "code",
   "execution_count": 26,
   "metadata": {},
   "outputs": [],
   "source": [
    "# X_train.head()"
   ]
  },
  {
   "cell_type": "code",
   "execution_count": 27,
   "metadata": {},
   "outputs": [],
   "source": [
    "# X_valid.head()"
   ]
  },
  {
   "cell_type": "code",
   "execution_count": 180,
   "metadata": {},
   "outputs": [
    {
     "name": "stderr",
     "output_type": "stream",
     "text": [
      "C:\\Users\\LUY1\\AppData\\Local\\Continuum\\anaconda3\\lib\\site-packages\\ipykernel_launcher.py:1: SettingWithCopyWarning: \n",
      "A value is trying to be set on a copy of a slice from a DataFrame\n",
      "\n",
      "See the caveats in the documentation: http://pandas.pydata.org/pandas-docs/stable/indexing.html#indexing-view-versus-copy\n",
      "  \"\"\"Entry point for launching an IPython kernel.\n"
     ]
    }
   ],
   "source": [
    "X_train.sort_values(by = ['row_id'], inplace = True)"
   ]
  },
  {
   "cell_type": "code",
   "execution_count": 28,
   "metadata": {},
   "outputs": [],
   "source": [
    "# X_train.head()"
   ]
  },
  {
   "cell_type": "code",
   "execution_count": 182,
   "metadata": {},
   "outputs": [
    {
     "name": "stderr",
     "output_type": "stream",
     "text": [
      "C:\\Users\\LUY1\\AppData\\Local\\Continuum\\anaconda3\\lib\\site-packages\\ipykernel_launcher.py:1: SettingWithCopyWarning: \n",
      "A value is trying to be set on a copy of a slice from a DataFrame\n",
      "\n",
      "See the caveats in the documentation: http://pandas.pydata.org/pandas-docs/stable/indexing.html#indexing-view-versus-copy\n",
      "  \"\"\"Entry point for launching an IPython kernel.\n"
     ]
    }
   ],
   "source": [
    "X_valid.sort_values(by = ['row_id'], inplace = True)"
   ]
  },
  {
   "cell_type": "code",
   "execution_count": 29,
   "metadata": {},
   "outputs": [],
   "source": [
    "# X_valid.head()"
   ]
  },
  {
   "cell_type": "code",
   "execution_count": 196,
   "metadata": {},
   "outputs": [
    {
     "name": "stderr",
     "output_type": "stream",
     "text": [
      "C:\\Users\\LUY1\\AppData\\Local\\Continuum\\anaconda3\\lib\\site-packages\\pandas\\core\\frame.py:3694: SettingWithCopyWarning: \n",
      "A value is trying to be set on a copy of a slice from a DataFrame\n",
      "\n",
      "See the caveats in the documentation: http://pandas.pydata.org/pandas-docs/stable/indexing.html#indexing-view-versus-copy\n",
      "  errors=errors)\n"
     ]
    }
   ],
   "source": [
    "X_train.drop(['incident_id', 'row_id', 'vehicle_id', 'occupant_id'], axis = 1, inplace = True)\n",
    "X_valid.drop(['incident_id', 'row_id', 'vehicle_id', 'occupant_id'], axis = 1, inplace = True)"
   ]
  },
  {
   "cell_type": "code",
   "execution_count": 30,
   "metadata": {},
   "outputs": [],
   "source": [
    "# X_train.head()"
   ]
  },
  {
   "cell_type": "code",
   "execution_count": 31,
   "metadata": {},
   "outputs": [],
   "source": [
    "# response_train.head()"
   ]
  },
  {
   "cell_type": "code",
   "execution_count": 185,
   "metadata": {},
   "outputs": [],
   "source": [
    "response_train.set_index(['row_id'], inplace = True)"
   ]
  },
  {
   "cell_type": "code",
   "execution_count": 32,
   "metadata": {},
   "outputs": [],
   "source": [
    "# response_train.head()"
   ]
  },
  {
   "cell_type": "code",
   "execution_count": 187,
   "metadata": {},
   "outputs": [],
   "source": [
    "y_train = response_train.loc[X_train['row_id']]\n",
    "y_valid = response_train.loc[X_valid['row_id']]"
   ]
  },
  {
   "cell_type": "code",
   "execution_count": 33,
   "metadata": {},
   "outputs": [],
   "source": [
    "# y_train.head()"
   ]
  },
  {
   "cell_type": "code",
   "execution_count": 189,
   "metadata": {},
   "outputs": [
    {
     "name": "stdout",
     "output_type": "stream",
     "text": [
      "(116269,)\n",
      "(28794,)\n"
     ]
    }
   ],
   "source": [
    "y_train = y_train['injury']\n",
    "y_valid = y_valid['injury']\n",
    "\n",
    "print(y_train.shape)\n",
    "print(y_valid.shape)"
   ]
  },
  {
   "cell_type": "code",
   "execution_count": 190,
   "metadata": {},
   "outputs": [],
   "source": [
    "X_train.to_pickle('X_train.pkl')\n",
    "X_valid.to_pickle('X_valid.pkl')\n",
    "y_train.to_pickle('y_train.pkl')\n",
    "y_valid.to_pickle('y_valid.pkl')"
   ]
  },
  {
   "cell_type": "code",
   "execution_count": 191,
   "metadata": {},
   "outputs": [
    {
     "data": {
      "text/plain": [
       "row_id\n",
       "2     3\n",
       "3     4\n",
       "13    0\n",
       "14    4\n",
       "30    1\n",
       "Name: injury, dtype: int64"
      ]
     },
     "execution_count": 191,
     "metadata": {},
     "output_type": "execute_result"
    }
   ],
   "source": [
    "y_train.head()"
   ]
  },
  {
   "cell_type": "code",
   "execution_count": 34,
   "metadata": {},
   "outputs": [],
   "source": [
    "# X_valid.head()"
   ]
  },
  {
   "cell_type": "code",
   "execution_count": 192,
   "metadata": {},
   "outputs": [],
   "source": [
    "import lightgbm as lgb\n",
    "\n",
    "lgbtrain = lgb.Dataset(X_train, label = y_train)\n",
    "lgbvalid = lgb.Dataset(X_valid, label = y_valid)"
   ]
  },
  {
   "cell_type": "code",
   "execution_count": 193,
   "metadata": {},
   "outputs": [],
   "source": [
    "params_1 = {'objective': 'multiclass',\n",
    "          'num_class': 5,\n",
    "         'metric': 'multi_logloss',\n",
    "         'num_leaves': 31,\n",
    "          'max_depth': 7,\n",
    "         'learning_rate': 0.05,\n",
    "         'feature_fraction': 0.9,\n",
    "         'bagging_fraction': 0.8,\n",
    "         'bagging_freq': 5,\n",
    "         'verbose': 1}"
   ]
  },
  {
   "cell_type": "code",
   "execution_count": 198,
   "metadata": {},
   "outputs": [
    {
     "name": "stdout",
     "output_type": "stream",
     "text": [
      "Training until validation scores don't improve for 50 rounds.\n",
      "[40]\ttraining's multi_logloss: 1.00964\tvalid_1's multi_logloss: 1.01406\n",
      "[80]\ttraining's multi_logloss: 0.919926\tvalid_1's multi_logloss: 0.932829\n",
      "[120]\ttraining's multi_logloss: 0.88341\tvalid_1's multi_logloss: 0.906626\n",
      "[160]\ttraining's multi_logloss: 0.859365\tvalid_1's multi_logloss: 0.893245\n",
      "[200]\ttraining's multi_logloss: 0.840494\tvalid_1's multi_logloss: 0.884967\n",
      "[240]\ttraining's multi_logloss: 0.824945\tvalid_1's multi_logloss: 0.879441\n",
      "[280]\ttraining's multi_logloss: 0.811747\tvalid_1's multi_logloss: 0.875976\n",
      "[320]\ttraining's multi_logloss: 0.799274\tvalid_1's multi_logloss: 0.872806\n",
      "[360]\ttraining's multi_logloss: 0.788179\tvalid_1's multi_logloss: 0.870721\n",
      "[400]\ttraining's multi_logloss: 0.777972\tvalid_1's multi_logloss: 0.868907\n",
      "[440]\ttraining's multi_logloss: 0.767872\tvalid_1's multi_logloss: 0.867536\n",
      "[480]\ttraining's multi_logloss: 0.75838\tvalid_1's multi_logloss: 0.866969\n",
      "[520]\ttraining's multi_logloss: 0.749674\tvalid_1's multi_logloss: 0.866201\n",
      "[560]\ttraining's multi_logloss: 0.741054\tvalid_1's multi_logloss: 0.865251\n",
      "[600]\ttraining's multi_logloss: 0.733083\tvalid_1's multi_logloss: 0.86499\n",
      "[640]\ttraining's multi_logloss: 0.725376\tvalid_1's multi_logloss: 0.864945\n",
      "[680]\ttraining's multi_logloss: 0.717741\tvalid_1's multi_logloss: 0.86471\n",
      "[720]\ttraining's multi_logloss: 0.710267\tvalid_1's multi_logloss: 0.864226\n",
      "[760]\ttraining's multi_logloss: 0.703003\tvalid_1's multi_logloss: 0.86379\n",
      "[800]\ttraining's multi_logloss: 0.696262\tvalid_1's multi_logloss: 0.863558\n",
      "[840]\ttraining's multi_logloss: 0.68948\tvalid_1's multi_logloss: 0.863565\n",
      "[880]\ttraining's multi_logloss: 0.683026\tvalid_1's multi_logloss: 0.863394\n",
      "Early stopping, best iteration is:\n",
      "[869]\ttraining's multi_logloss: 0.684705\tvalid_1's multi_logloss: 0.863311\n"
     ]
    }
   ],
   "source": [
    "mod_1 = lgb.train(params = params_1,\n",
    "                 train_set = lgbtrain,\n",
    "                 num_boost_round = 5000,\n",
    "                 valid_sets = [lgbtrain, lgbvalid],\n",
    "                 early_stopping_rounds = 50,\n",
    "                 verbose_eval = 40)"
   ]
  },
  {
   "cell_type": "code",
   "execution_count": 200,
   "metadata": {},
   "outputs": [],
   "source": [
    "params_2 = {'num_leaves': 54,\n",
    "           'min_data_in_leaf': 79,\n",
    "           'objective': 'multiclass',\n",
    "           'num_class': 5,\n",
    "           'metric': 'multi_logloss',\n",
    "           'max_depth': -1,\n",
    "           'learning_rate': 0.01,\n",
    "           'boosting': 'gbdt',\n",
    "           'feature_fraction': 0.9,\n",
    "         'bagging_fraction': 0.8,\n",
    "         'bagging_freq': 5,\n",
    "         'verbosity': -1,\n",
    "           'reg_alpha': 1.13,\n",
    "           'reg_lambda': 0.36}"
   ]
  },
  {
   "cell_type": "code",
   "execution_count": 202,
   "metadata": {},
   "outputs": [
    {
     "name": "stdout",
     "output_type": "stream",
     "text": [
      "Training until validation scores don't improve for 50 rounds.\n",
      "[40]\ttraining's multi_logloss: 1.33434\tvalid_1's multi_logloss: 1.33608\n",
      "[80]\ttraining's multi_logloss: 1.18284\tvalid_1's multi_logloss: 1.18721\n",
      "[120]\ttraining's multi_logloss: 1.08873\tvalid_1's multi_logloss: 1.09564\n",
      "[160]\ttraining's multi_logloss: 1.02706\tvalid_1's multi_logloss: 1.03674\n",
      "[200]\ttraining's multi_logloss: 0.984574\tvalid_1's multi_logloss: 0.99726\n",
      "[240]\ttraining's multi_logloss: 0.954225\tvalid_1's multi_logloss: 0.969716\n",
      "[280]\ttraining's multi_logloss: 0.931455\tvalid_1's multi_logloss: 0.949905\n",
      "[320]\ttraining's multi_logloss: 0.913997\tvalid_1's multi_logloss: 0.935325\n",
      "[360]\ttraining's multi_logloss: 0.899723\tvalid_1's multi_logloss: 0.924116\n",
      "[400]\ttraining's multi_logloss: 0.887864\tvalid_1's multi_logloss: 0.915493\n",
      "[440]\ttraining's multi_logloss: 0.877833\tvalid_1's multi_logloss: 0.908672\n",
      "[480]\ttraining's multi_logloss: 0.86886\tvalid_1's multi_logloss: 0.903194\n",
      "[520]\ttraining's multi_logloss: 0.861068\tvalid_1's multi_logloss: 0.898549\n",
      "[560]\ttraining's multi_logloss: 0.853794\tvalid_1's multi_logloss: 0.89457\n",
      "[600]\ttraining's multi_logloss: 0.846902\tvalid_1's multi_logloss: 0.891084\n",
      "[640]\ttraining's multi_logloss: 0.840634\tvalid_1's multi_logloss: 0.888167\n",
      "[680]\ttraining's multi_logloss: 0.834777\tvalid_1's multi_logloss: 0.885499\n",
      "[720]\ttraining's multi_logloss: 0.829032\tvalid_1's multi_logloss: 0.883016\n",
      "[760]\ttraining's multi_logloss: 0.823674\tvalid_1's multi_logloss: 0.880903\n",
      "[800]\ttraining's multi_logloss: 0.818575\tvalid_1's multi_logloss: 0.879089\n",
      "[840]\ttraining's multi_logloss: 0.813657\tvalid_1's multi_logloss: 0.877387\n",
      "[880]\ttraining's multi_logloss: 0.808993\tvalid_1's multi_logloss: 0.87608\n",
      "[920]\ttraining's multi_logloss: 0.804483\tvalid_1's multi_logloss: 0.874837\n",
      "[960]\ttraining's multi_logloss: 0.800121\tvalid_1's multi_logloss: 0.873663\n",
      "[1000]\ttraining's multi_logloss: 0.795826\tvalid_1's multi_logloss: 0.872602\n",
      "[1040]\ttraining's multi_logloss: 0.791692\tvalid_1's multi_logloss: 0.871562\n",
      "[1080]\ttraining's multi_logloss: 0.787707\tvalid_1's multi_logloss: 0.870654\n",
      "[1120]\ttraining's multi_logloss: 0.783821\tvalid_1's multi_logloss: 0.869722\n",
      "[1160]\ttraining's multi_logloss: 0.780071\tvalid_1's multi_logloss: 0.86886\n",
      "[1200]\ttraining's multi_logloss: 0.776249\tvalid_1's multi_logloss: 0.867997\n",
      "[1240]\ttraining's multi_logloss: 0.772662\tvalid_1's multi_logloss: 0.867432\n",
      "[1280]\ttraining's multi_logloss: 0.769029\tvalid_1's multi_logloss: 0.86676\n",
      "[1320]\ttraining's multi_logloss: 0.765514\tvalid_1's multi_logloss: 0.866158\n",
      "[1360]\ttraining's multi_logloss: 0.762164\tvalid_1's multi_logloss: 0.865768\n",
      "[1400]\ttraining's multi_logloss: 0.758884\tvalid_1's multi_logloss: 0.86525\n",
      "[1440]\ttraining's multi_logloss: 0.755679\tvalid_1's multi_logloss: 0.864827\n",
      "[1480]\ttraining's multi_logloss: 0.752496\tvalid_1's multi_logloss: 0.864468\n",
      "[1520]\ttraining's multi_logloss: 0.749416\tvalid_1's multi_logloss: 0.864126\n",
      "[1560]\ttraining's multi_logloss: 0.746359\tvalid_1's multi_logloss: 0.863805\n",
      "[1600]\ttraining's multi_logloss: 0.743307\tvalid_1's multi_logloss: 0.863516\n",
      "[1640]\ttraining's multi_logloss: 0.74025\tvalid_1's multi_logloss: 0.863192\n",
      "[1680]\ttraining's multi_logloss: 0.737288\tvalid_1's multi_logloss: 0.862966\n",
      "[1720]\ttraining's multi_logloss: 0.73445\tvalid_1's multi_logloss: 0.862705\n",
      "[1760]\ttraining's multi_logloss: 0.731595\tvalid_1's multi_logloss: 0.862454\n",
      "[1800]\ttraining's multi_logloss: 0.728769\tvalid_1's multi_logloss: 0.862224\n",
      "[1840]\ttraining's multi_logloss: 0.725958\tvalid_1's multi_logloss: 0.861969\n",
      "[1880]\ttraining's multi_logloss: 0.723212\tvalid_1's multi_logloss: 0.861798\n",
      "[1920]\ttraining's multi_logloss: 0.720535\tvalid_1's multi_logloss: 0.861573\n",
      "[1960]\ttraining's multi_logloss: 0.717892\tvalid_1's multi_logloss: 0.861446\n",
      "[2000]\ttraining's multi_logloss: 0.715259\tvalid_1's multi_logloss: 0.8613\n",
      "[2040]\ttraining's multi_logloss: 0.712681\tvalid_1's multi_logloss: 0.861165\n",
      "[2080]\ttraining's multi_logloss: 0.710024\tvalid_1's multi_logloss: 0.86108\n",
      "[2120]\ttraining's multi_logloss: 0.70741\tvalid_1's multi_logloss: 0.860889\n",
      "[2160]\ttraining's multi_logloss: 0.704876\tvalid_1's multi_logloss: 0.860757\n",
      "[2200]\ttraining's multi_logloss: 0.702265\tvalid_1's multi_logloss: 0.860596\n",
      "[2240]\ttraining's multi_logloss: 0.699797\tvalid_1's multi_logloss: 0.860525\n",
      "[2280]\ttraining's multi_logloss: 0.697295\tvalid_1's multi_logloss: 0.860477\n",
      "[2320]\ttraining's multi_logloss: 0.694873\tvalid_1's multi_logloss: 0.860298\n",
      "[2360]\ttraining's multi_logloss: 0.692406\tvalid_1's multi_logloss: 0.860164\n",
      "[2400]\ttraining's multi_logloss: 0.68999\tvalid_1's multi_logloss: 0.860043\n",
      "[2440]\ttraining's multi_logloss: 0.687593\tvalid_1's multi_logloss: 0.859953\n",
      "[2480]\ttraining's multi_logloss: 0.685248\tvalid_1's multi_logloss: 0.859874\n",
      "[2520]\ttraining's multi_logloss: 0.682923\tvalid_1's multi_logloss: 0.859806\n",
      "[2560]\ttraining's multi_logloss: 0.680552\tvalid_1's multi_logloss: 0.859732\n",
      "[2600]\ttraining's multi_logloss: 0.678274\tvalid_1's multi_logloss: 0.859724\n",
      "[2640]\ttraining's multi_logloss: 0.675966\tvalid_1's multi_logloss: 0.859694\n",
      "Early stopping, best iteration is:\n",
      "[2615]\ttraining's multi_logloss: 0.677398\tvalid_1's multi_logloss: 0.859664\n"
     ]
    }
   ],
   "source": [
    "mod_2 = lgb.train(params = params_2,\n",
    "                 train_set = lgbtrain,\n",
    "                 num_boost_round = 5000,\n",
    "                 valid_sets = [lgbtrain, lgbvalid],\n",
    "                 early_stopping_rounds = 50,\n",
    "                 verbose_eval = 40)"
   ]
  },
  {
   "cell_type": "code",
   "execution_count": 35,
   "metadata": {},
   "outputs": [],
   "source": [
    "# pp_data_train_2.head()"
   ]
  },
  {
   "cell_type": "code",
   "execution_count": 36,
   "metadata": {},
   "outputs": [],
   "source": [
    "# pp_data_train_2.reset_index(inplace = True)\n",
    "# pp_data_train_2.head()"
   ]
  },
  {
   "cell_type": "code",
   "execution_count": 210,
   "metadata": {},
   "outputs": [],
   "source": [
    "pp_data_train_2.drop(['index'], axis = 1, inplace = True)"
   ]
  },
  {
   "cell_type": "code",
   "execution_count": 37,
   "metadata": {},
   "outputs": [],
   "source": [
    "# pp_data_train_2.head()"
   ]
  },
  {
   "cell_type": "code",
   "execution_count": 38,
   "metadata": {},
   "outputs": [],
   "source": [
    "# pp_data_train_2.sort_values(by = ['row_id'], inplace = True)\n",
    "# pp_data_train_2.head()"
   ]
  },
  {
   "cell_type": "code",
   "execution_count": 39,
   "metadata": {},
   "outputs": [],
   "source": [
    "# response_train.head()"
   ]
  },
  {
   "cell_type": "code",
   "execution_count": 221,
   "metadata": {},
   "outputs": [],
   "source": [
    "response_train.reset_index(inplace = True)"
   ]
  },
  {
   "cell_type": "code",
   "execution_count": 40,
   "metadata": {},
   "outputs": [],
   "source": [
    "# response_train.head()"
   ]
  },
  {
   "cell_type": "code",
   "execution_count": 41,
   "metadata": {},
   "outputs": [],
   "source": [
    "# y_train = response_train[['row_id', 'injury']]\n",
    "# y_train.head()"
   ]
  },
  {
   "cell_type": "code",
   "execution_count": 224,
   "metadata": {},
   "outputs": [
    {
     "name": "stderr",
     "output_type": "stream",
     "text": [
      "C:\\Users\\LUY1\\AppData\\Local\\Continuum\\anaconda3\\lib\\site-packages\\ipykernel_launcher.py:1: SettingWithCopyWarning: \n",
      "A value is trying to be set on a copy of a slice from a DataFrame\n",
      "\n",
      "See the caveats in the documentation: http://pandas.pydata.org/pandas-docs/stable/indexing.html#indexing-view-versus-copy\n",
      "  \"\"\"Entry point for launching an IPython kernel.\n"
     ]
    }
   ],
   "source": [
    "y_train.sort_values(by = ['row_id'], inplace = True)"
   ]
  },
  {
   "cell_type": "code",
   "execution_count": 42,
   "metadata": {},
   "outputs": [],
   "source": [
    "# y_train.head()"
   ]
  },
  {
   "cell_type": "code",
   "execution_count": 226,
   "metadata": {},
   "outputs": [
    {
     "name": "stderr",
     "output_type": "stream",
     "text": [
      "C:\\Users\\LUY1\\AppData\\Local\\Continuum\\anaconda3\\lib\\site-packages\\pandas\\core\\frame.py:3694: SettingWithCopyWarning: \n",
      "A value is trying to be set on a copy of a slice from a DataFrame\n",
      "\n",
      "See the caveats in the documentation: http://pandas.pydata.org/pandas-docs/stable/indexing.html#indexing-view-versus-copy\n",
      "  errors=errors)\n"
     ]
    }
   ],
   "source": [
    "y_train.drop(['row_id'], axis = 1, inplace = True)"
   ]
  },
  {
   "cell_type": "code",
   "execution_count": 43,
   "metadata": {},
   "outputs": [],
   "source": [
    "# y_train.head()"
   ]
  },
  {
   "cell_type": "code",
   "execution_count": 228,
   "metadata": {},
   "outputs": [],
   "source": [
    "from sklearn.model_selection import GroupKFold\n",
    "\n",
    "folds_split = list(GroupKFold(n_splits = 5).split(pp_data_train_2,\n",
    "                                                 groups = pp_data_train_2.loc[:, 'incident_id']))"
   ]
  },
  {
   "cell_type": "code",
   "execution_count": 229,
   "metadata": {},
   "outputs": [
    {
     "data": {
      "text/plain": [
       "[(array([     0,      1,      5, ..., 145060, 145061, 145062]),\n",
       "  array([     2,      3,      4, ..., 145048, 145049, 145059])),\n",
       " (array([     0,      1,      2, ..., 145060, 145061, 145062]),\n",
       "  array([    16,     17,     46, ..., 145056, 145057, 145058])),\n",
       " (array([     0,      1,      2, ..., 145058, 145059, 145060]),\n",
       "  array([     7,      8,      9, ..., 145055, 145061, 145062])),\n",
       " (array([     2,      3,      4, ..., 145060, 145061, 145062]),\n",
       "  array([     0,      1,      5, ..., 145034, 145035, 145036])),\n",
       " (array([     0,      1,      2, ..., 145059, 145061, 145062]),\n",
       "  array([    30,     32,     33, ..., 145051, 145052, 145060]))]"
      ]
     },
     "execution_count": 229,
     "metadata": {},
     "output_type": "execute_result"
    }
   ],
   "source": [
    "folds_split"
   ]
  },
  {
   "cell_type": "code",
   "execution_count": 230,
   "metadata": {},
   "outputs": [],
   "source": [
    "pp_data_train_cv = pp_data_train_2.drop(['incident_id', 'row_id', 'vehicle_id', 'occupant_id'], axis = 1)"
   ]
  },
  {
   "cell_type": "code",
   "execution_count": 44,
   "metadata": {},
   "outputs": [],
   "source": [
    "# pp_data_train_cv.head()"
   ]
  },
  {
   "cell_type": "code",
   "execution_count": 232,
   "metadata": {},
   "outputs": [],
   "source": [
    "lgb_data = lgb.Dataset(pp_data_train_cv, label = y_train)"
   ]
  },
  {
   "cell_type": "code",
   "execution_count": 234,
   "metadata": {},
   "outputs": [],
   "source": [
    "params_3 = {'num_leaves': 54,\n",
    "           'min_data_in_leaf': 79,\n",
    "           'objective': 'multiclass',\n",
    "           'num_class': 5,\n",
    "           'metric': 'multi_logloss',\n",
    "           'max_depth': -1,\n",
    "           'learning_rate': 0.01,\n",
    "           'boosting': 'gbdt',\n",
    "           'feature_fraction': 0.9,\n",
    "         'bagging_fraction': 0.8,\n",
    "         'bagging_freq': 5,\n",
    "         'verbosity': 200,\n",
    "           'reg_alpha': 1.13,\n",
    "           'reg_lambda': 0.36}"
   ]
  },
  {
   "cell_type": "code",
   "execution_count": 235,
   "metadata": {},
   "outputs": [
    {
     "name": "stdout",
     "output_type": "stream",
     "text": [
      "[200]\tcv_agg's multi_logloss: 1.00119 + 0.0054342\n",
      "[400]\tcv_agg's multi_logloss: 0.920109 + 0.00696646\n",
      "[600]\tcv_agg's multi_logloss: 0.895596 + 0.00726214\n",
      "[800]\tcv_agg's multi_logloss: 0.884098 + 0.00731785\n",
      "[1000]\tcv_agg's multi_logloss: 0.877694 + 0.00743688\n",
      "[1200]\tcv_agg's multi_logloss: 0.873655 + 0.00738876\n",
      "[1400]\tcv_agg's multi_logloss: 0.870915 + 0.00750538\n",
      "[1600]\tcv_agg's multi_logloss: 0.869105 + 0.00734316\n",
      "[1800]\tcv_agg's multi_logloss: 0.867939 + 0.00735443\n",
      "[2000]\tcv_agg's multi_logloss: 0.867109 + 0.00728805\n",
      "[2200]\tcv_agg's multi_logloss: 0.866478 + 0.00733958\n",
      "[2400]\tcv_agg's multi_logloss: 0.866042 + 0.00727929\n",
      "[2600]\tcv_agg's multi_logloss: 0.865653 + 0.00727215\n",
      "[2800]\tcv_agg's multi_logloss: 0.865458 + 0.00722573\n",
      "[3000]\tcv_agg's multi_logloss: 0.865393 + 0.00715877\n"
     ]
    }
   ],
   "source": [
    "mod_3 = lgb.cv(params = params_3,\n",
    "              num_boost_round = 5000,\n",
    "              verbose_eval = 200,\n",
    "              train_set = lgb_data,\n",
    "              early_stopping_rounds = 100,\n",
    "              folds = folds_split)"
   ]
  },
  {
   "cell_type": "code",
   "execution_count": null,
   "metadata": {},
   "outputs": [],
   "source": []
  }
 ],
 "metadata": {
  "kernelspec": {
   "display_name": "Python 3",
   "language": "python",
   "name": "python3"
  },
  "language_info": {
   "codemirror_mode": {
    "name": "ipython",
    "version": 3
   },
   "file_extension": ".py",
   "mimetype": "text/x-python",
   "name": "python",
   "nbconvert_exporter": "python",
   "pygments_lexer": "ipython3",
   "version": "3.6.5"
  }
 },
 "nbformat": 4,
 "nbformat_minor": 2
}
