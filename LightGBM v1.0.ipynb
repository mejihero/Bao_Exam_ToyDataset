{
 "cells": [
  {
   "cell_type": "code",
   "execution_count": 1,
   "metadata": {},
   "outputs": [],
   "source": [
    "import numpy as np\n",
    "import pandas as pd"
   ]
  },
  {
   "cell_type": "code",
   "execution_count": 1,
   "metadata": {},
   "outputs": [],
   "source": [
    "# df = pd.read_pickle('df_all_2.pkl')\n",
    "# y = pd.read_pickle('resp.pkl')"
   ]
  },
  {
   "cell_type": "code",
   "execution_count": 3,
   "metadata": {},
   "outputs": [],
   "source": [
    "# df.head()"
   ]
  },
  {
   "cell_type": "code",
   "execution_count": 34,
   "metadata": {},
   "outputs": [],
   "source": [
    "df_train = df.loc[df['mod_lb'] == 'train', :].drop(['mod_lb'], axis = 1)\n",
    "df_test = df.loc[df['mod_lb'] == 'test', :].drop(['mod_lb'], axis = 1)"
   ]
  },
  {
   "cell_type": "code",
   "execution_count": 2,
   "metadata": {},
   "outputs": [],
   "source": [
    "# df_train.head()"
   ]
  },
  {
   "cell_type": "code",
   "execution_count": 36,
   "metadata": {},
   "outputs": [
    {
     "data": {
      "text/plain": [
       "Index([], dtype='object')"
      ]
     },
     "execution_count": 36,
     "metadata": {},
     "output_type": "execute_result"
    }
   ],
   "source": [
    "df_train.select_dtypes(include = ['object']).columns"
   ]
  },
  {
   "cell_type": "code",
   "execution_count": 4,
   "metadata": {},
   "outputs": [],
   "source": [
    "# df_train.columns"
   ]
  },
  {
   "cell_type": "code",
   "execution_count": 38,
   "metadata": {},
   "outputs": [],
   "source": [
    "# group sampling"
   ]
  },
  {
   "cell_type": "code",
   "execution_count": 39,
   "metadata": {},
   "outputs": [],
   "source": [
    "from sklearn.model_selection import GroupKFold\n",
    "\n",
    "folds_split = list(GroupKFold(n_splits = 5).split(X = df_train, y = y, groups = df_train.loc[:, 'incident_id']))"
   ]
  },
  {
   "cell_type": "code",
   "execution_count": 40,
   "metadata": {},
   "outputs": [
    {
     "data": {
      "text/plain": [
       "[(array([     0,      1,      5, ..., 145060, 145061, 145062]),\n",
       "  array([     2,      3,      4, ..., 145048, 145049, 145059])),\n",
       " (array([     0,      1,      2, ..., 145060, 145061, 145062]),\n",
       "  array([    16,     17,     46, ..., 145056, 145057, 145058])),\n",
       " (array([     0,      1,      2, ..., 145058, 145059, 145060]),\n",
       "  array([     7,      8,      9, ..., 145055, 145061, 145062])),\n",
       " (array([     2,      3,      4, ..., 145060, 145061, 145062]),\n",
       "  array([     0,      1,      5, ..., 145034, 145035, 145036])),\n",
       " (array([     0,      1,      2, ..., 145059, 145061, 145062]),\n",
       "  array([    30,     32,     33, ..., 145051, 145052, 145060]))]"
      ]
     },
     "execution_count": 40,
     "metadata": {},
     "output_type": "execute_result"
    }
   ],
   "source": [
    "folds_split"
   ]
  },
  {
   "cell_type": "code",
   "execution_count": 41,
   "metadata": {},
   "outputs": [],
   "source": [
    "df_train.drop(['row_id', 'incident_id', 'vehicle_id', 'occupant_id'], axis = 1, inplace = True)"
   ]
  },
  {
   "cell_type": "code",
   "execution_count": 63,
   "metadata": {},
   "outputs": [],
   "source": [
    "df_test.drop(['row_id', 'incident_id', 'vehicle_id', 'occupant_id'], axis = 1, inplace = True)"
   ]
  },
  {
   "cell_type": "code",
   "execution_count": 5,
   "metadata": {
    "scrolled": true
   },
   "outputs": [],
   "source": [
    "# df_train.head()"
   ]
  },
  {
   "cell_type": "code",
   "execution_count": 6,
   "metadata": {},
   "outputs": [],
   "source": [
    "# df_test.head()"
   ]
  },
  {
   "cell_type": "code",
   "execution_count": 7,
   "metadata": {},
   "outputs": [],
   "source": [
    "# check missing value rate\n",
    "# for col in df_test.columns:\n",
    "#     print('column name: ', col)\n",
    "#     print(df_test[col].isnull().sum()/len(df_test))"
   ]
  },
  {
   "cell_type": "code",
   "execution_count": 75,
   "metadata": {},
   "outputs": [],
   "source": [
    "# impute missing values\n",
    "\n",
    "for col in df_test.columns:\n",
    "    df_test[col].fillna(df_test[col].median(), inplace = True)"
   ]
  },
  {
   "cell_type": "code",
   "execution_count": 8,
   "metadata": {},
   "outputs": [],
   "source": [
    "# for col in df_test.columns:\n",
    "#     print('column name: ', col)\n",
    "#     print(df_test[col].isnull().sum()/len(df_test))"
   ]
  },
  {
   "cell_type": "code",
   "execution_count": 42,
   "metadata": {},
   "outputs": [],
   "source": [
    "import lightgbm as lgb"
   ]
  },
  {
   "cell_type": "code",
   "execution_count": 43,
   "metadata": {},
   "outputs": [],
   "source": [
    "# lgb_data = lgb.Dataset(df_train, label = y, \n",
    "#                        feature_name = ['total_veh_in_inc', 'total_occ_in_inc', 'total_occ_in_veh',\n",
    "#        'actual_veh_in_inc', 'actual_per_in_inc', 'actual_occ_in_veh',\n",
    "#        'actual_ped', 'inc_day', 'inc_region', 'inc_daylight', 'inc_weather',\n",
    "#        'veh_roadcond', 'veh_roadslope', 'veh_lanes', 'veh_lanediv',\n",
    "#        'veh_speedlim', 'occ_age', 'occ_sex', 'occ_role', 'occ_position',\n",
    "#        'occ_seatbelt', 'occ_airbag', 'occ_alcohol', 'veh_owner', 'veh_type',\n",
    "#        'veh_style', 'veh_weight', 'veh_manu', 'veh_doors', 'veh_wheels',\n",
    "#        'veh_drive', 'veh_fuel', 'veh_eng1', 'veh_eng2', 'veh_trailer',\n",
    "#        'drv_height', 'drv_weight', 'drv_licence', 'drv_status', 'drv_crash',\n",
    "#        'drv_pts', 'drv_dui', 'drv_spd', 'drv_alcohol', 'inc_type',\n",
    "#        'inc_speeding', 'veh_speed', 'veh_braking', 'veh_stability',\n",
    "#        'veh_movement', 'veh_impact', 'inc_descrip', 'veh_descrip',\n",
    "#        'veh_damage', 'veh_age_new', 'drv_ban1_new', 'drv_ban2_new',\n",
    "#        'inc_month_new', 'inc_hour_new', 'veh_inc_maxage'],\n",
    "#                        categorical_feature = ['inc_day', 'inc_daylight', 'inc_weather', 'veh_roadcond',\n",
    "#        'veh_roadslope', 'veh_lanediv', 'occ_sex', 'occ_role', 'occ_position',\n",
    "#        'occ_seatbelt', 'occ_airbag', 'occ_alcohol', 'veh_owner', 'veh_type',\n",
    "#        'veh_style', 'veh_weight', 'veh_manu', 'veh_drive', 'veh_fuel',\n",
    "#        'veh_trailer', 'drv_licence', 'drv_status', 'drv_alcohol', 'inc_type',\n",
    "#        'inc_speeding', 'veh_braking', 'veh_stability', 'veh_movement',\n",
    "#         'veh_impact', 'inc_descrip', 'veh_descrip', 'veh_damage'])"
   ]
  },
  {
   "cell_type": "code",
   "execution_count": 65,
   "metadata": {},
   "outputs": [],
   "source": [
    "lgb_data = lgb.Dataset(df_train, label = y)"
   ]
  },
  {
   "cell_type": "code",
   "execution_count": 66,
   "metadata": {},
   "outputs": [],
   "source": [
    "lgb_test = lgb.Dataset(df_test)"
   ]
  },
  {
   "cell_type": "code",
   "execution_count": 56,
   "metadata": {},
   "outputs": [],
   "source": [
    "params = {'num_leaves': 10,\n",
    "         'max_depth': 5}"
   ]
  },
  {
   "cell_type": "code",
   "execution_count": 70,
   "metadata": {},
   "outputs": [],
   "source": [
    "mod_1 = lgb.cv(params = params,\n",
    "               num_boost_round = 1000,\n",
    "               verbose_eval = 200,\n",
    "               train_set = lgb_data,\n",
    "               #early_stopping_rounds = 200,\n",
    "               folds = folds_split)"
   ]
  },
  {
   "cell_type": "code",
   "execution_count": 80,
   "metadata": {},
   "outputs": [
    {
     "ename": "TypeError",
     "evalue": "train() got an unexpected keyword argument 'folds'",
     "output_type": "error",
     "traceback": [
      "\u001b[1;31m---------------------------------------------------------------------------\u001b[0m",
      "\u001b[1;31mTypeError\u001b[0m                                 Traceback (most recent call last)",
      "\u001b[1;32m<ipython-input-80-274acb7949e5>\u001b[0m in \u001b[0;36m<module>\u001b[1;34m()\u001b[0m\n\u001b[0;32m      3\u001b[0m                  \u001b[0mverbose_eval\u001b[0m \u001b[1;33m=\u001b[0m \u001b[1;36m200\u001b[0m\u001b[1;33m,\u001b[0m\u001b[1;33m\u001b[0m\u001b[0m\n\u001b[0;32m      4\u001b[0m                  \u001b[0mtrain_set\u001b[0m \u001b[1;33m=\u001b[0m \u001b[0mlgb_data\u001b[0m\u001b[1;33m,\u001b[0m\u001b[1;33m\u001b[0m\u001b[0m\n\u001b[1;32m----> 5\u001b[1;33m                  folds = folds_split)\n\u001b[0m",
      "\u001b[1;31mTypeError\u001b[0m: train() got an unexpected keyword argument 'folds'"
     ]
    }
   ],
   "source": [
    "mod_2 = lgb.train(params = params,\n",
    "                 num_boost_round = 1000,\n",
    "                 verbose_eval = 200,\n",
    "                 train_set = lgb_data,\n",
    "                 #folds = folds_split)"
   ]
  },
  {
   "cell_type": "code",
   "execution_count": 79,
   "metadata": {},
   "outputs": [
    {
     "ename": "NameError",
     "evalue": "name 'mod_2' is not defined",
     "output_type": "error",
     "traceback": [
      "\u001b[1;31m---------------------------------------------------------------------------\u001b[0m",
      "\u001b[1;31mNameError\u001b[0m                                 Traceback (most recent call last)",
      "\u001b[1;32m<ipython-input-79-b309c492d7f0>\u001b[0m in \u001b[0;36m<module>\u001b[1;34m()\u001b[0m\n\u001b[1;32m----> 1\u001b[1;33m \u001b[0mmod_2\u001b[0m\u001b[1;33m\u001b[0m\u001b[0m\n\u001b[0m",
      "\u001b[1;31mNameError\u001b[0m: name 'mod_2' is not defined"
     ]
    }
   ],
   "source": [
    "mod_2"
   ]
  },
  {
   "cell_type": "code",
   "execution_count": null,
   "metadata": {},
   "outputs": [],
   "source": []
  }
 ],
 "metadata": {
  "kernelspec": {
   "display_name": "Python 3",
   "language": "python",
   "name": "python3"
  },
  "language_info": {
   "codemirror_mode": {
    "name": "ipython",
    "version": 3
   },
   "file_extension": ".py",
   "mimetype": "text/x-python",
   "name": "python",
   "nbconvert_exporter": "python",
   "pygments_lexer": "ipython3",
   "version": "3.6.5"
  }
 },
 "nbformat": 4,
 "nbformat_minor": 2
}
